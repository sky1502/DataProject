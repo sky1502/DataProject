{
 "cells": [
  {
   "cell_type": "code",
   "execution_count": 1,
   "id": "8099b5cd-dec0-44c5-9736-ce3c086f121c",
   "metadata": {},
   "outputs": [],
   "source": [
    "import os\n",
    "import pandas as pd\n",
    "import numpy as np\n",
    "import re"
   ]
  },
  {
   "cell_type": "code",
   "execution_count": 10,
   "id": "72b4e9c6-d37a-4c9b-b00a-9e292e1261c7",
   "metadata": {},
   "outputs": [],
   "source": [
    "def prep_csv(input_path, output_path = None):\n",
    "    for filename in os.listdir(input_path):\n",
    "        if filename.endswith('.csv'):\n",
    "            full_input_path = os.path.join(input_path, filename)\n",
    "            df = pd.read_csv(full_input_path)\n",
    "\n",
    "            # Rename columns\n",
    "            df = df.rename(columns={\n",
    "                'ServiceDate': 'service_date',\n",
    "                'Route': 'route_id',\n",
    "                'Direction': 'direction_id',\n",
    "                'HalfTripId': 'half_trip_id',\n",
    "                'Stop': 'stop_id',\n",
    "                'Timepoint': 'time_point_id',\n",
    "                'TimepointOrder': 'time_point_order',\n",
    "                'PointType': 'point_type',\n",
    "                'StandardType': 'standard_type',\n",
    "                'Scheduled': 'scheduled',\n",
    "                'Actual': 'actual',\n",
    "                'ScheduledHeadway': 'scheduled_headway',\n",
    "                'Headway': 'headway',\n",
    "                'direction': 'direction_id'  # in case it's lowercase in some files\n",
    "            })\n",
    "\n",
    "            # Drop the 'earliness' column if it exists\n",
    "            if 'earliness' in df.columns:\n",
    "                df = df.drop('earliness', axis=1)\n",
    "\n",
    "            # Save to new location\n",
    "            full_output_path = os.path.join(output_path, filename)\n",
    "            df.to_csv(full_output_path, index=False)\n",
    "            "
   ]
  },
  {
   "cell_type": "code",
   "execution_count": null,
   "id": "a12cfdec-8a26-44de-80fe-390333b1be34",
   "metadata": {},
   "outputs": [],
   "source": [
    "inp_path = None\n",
    "out_path = None\n",
    "prep_csv(inp_path, out_path)"
   ]
  },
  {
   "cell_type": "code",
   "execution_count": 251,
   "id": "70e3bec8-b3ed-4f66-99ca-4e5bb7b2e342",
   "metadata": {},
   "outputs": [
    {
     "name": "stdout",
     "output_type": "stream",
     "text": [
      "CSV files combined successfully!\n"
     ]
    }
   ],
   "source": [
    "root_directory = path_to_saved_csvs\n",
    "\n",
    "combined_df = []\n",
    "\n",
    "# Walk through all the folders and subfolders in the root directory\n",
    "for foldername, subfolders, filenames in os.walk(root_directory):\n",
    "    for filename in filenames:\n",
    "        # Check if the file is a CSV\n",
    "        if filename.endswith('.csv'):\n",
    "            # Construct the full file path (including subfolders)\n",
    "            file_path = os.path.join(foldername, filename)\n",
    "            \n",
    "            # Read the CSV file into a DataFrame\n",
    "            df = pd.read_csv(file_path)\n",
    "            \n",
    "            # Append the DataFrame to the list\n",
    "            combined_df.append(df)\n",
    "\n",
    "# Concatenate all DataFrames into one\n",
    "final_df = pd.concat(combined_df, ignore_index=True)\n",
    "\n",
    "# Save the combined DataFrame to a new CSV file\n",
    "final_df.to_csv('data/Arrival_Departure/Working/covid.csv', index=False)\n",
    "\n",
    "print(\"CSV files combined successfully!\")"
   ]
  },
  {
   "cell_type": "code",
   "execution_count": 2,
   "id": "93d2fa10-4ebf-40ac-a309-f1c667e26ca0",
   "metadata": {
    "scrolled": true
   },
   "outputs": [
    {
     "name": "stdout",
     "output_type": "stream",
     "text": [
      "service_date          object\n",
      "route_id              object\n",
      "direction_id          object\n",
      "half_trip_id         float64\n",
      "stop_id              float64\n",
      "time_point_id         object\n",
      "time_point_order     float64\n",
      "point_type            object\n",
      "standard_type         object\n",
      "scheduled             object\n",
      "actual                object\n",
      "scheduled_headway    float64\n",
      "headway              float64\n",
      "dtype: object\n",
      "service_date          object\n",
      "route_id              object\n",
      "direction_id          object\n",
      "half_trip_id         float64\n",
      "stop_id              float64\n",
      "time_point_id         object\n",
      "time_point_order     float64\n",
      "point_type            object\n",
      "standard_type         object\n",
      "scheduled             object\n",
      "actual                object\n",
      "scheduled_headway    float64\n",
      "headway              float64\n",
      "dtype: object\n"
     ]
    }
   ],
   "source": [
    "d = 'data/Arrival_Departure/Working/covid.csv'\n",
    "df = pd.read_csv(d)\n",
    "print(df.dtypes)\n",
    "df['direction_id'] = df['direction_id'].astype(str)\n",
    "df['time_point_id'] = df['time_point_id'].astype(str)\n",
    "df['route_id'] = df['route_id'].astype(str)\n",
    "df['point_type'] = df['point_type'].astype(str)\n",
    "df['standard_type'] = df['standard_type'].astype(str)\n",
    "print(df.dtypes)\n"
   ]
  },
  {
   "cell_type": "code",
   "execution_count": null,
   "id": "ae088a91-9a61-4dc2-9428-bd36488b7310",
   "metadata": {},
   "outputs": [],
   "source": [
    "data['scheduled'] = pd.to_datetime(data['scheduled'], errors='coerce')\n",
    "data['actual'] = pd.to_datetime(data['actual'], errors='coerce')\n",
    "\n",
    "# Calculate delay (difference between actual and scheduled departure times)\n",
    "data['delay'] = (data['actual'] - data['scheduled']).dt.total_seconds()\n",
    "\n",
    "# Calculate the wait time for each trip (difference between actual departure and previous scheduled departure)\n",
    "# First, sort the data by route_id and service_date to ensure the time order is correct\n",
    "data = data.sort_values(by=['route_id', 'service_date', 'half_trip_id', 'time_point_order'])\n",
    "\n",
    "# Create a column for the previous trip's scheduled time\n",
    "data['previous_scheduled'] = data.groupby(['route_id', 'service_date', 'half_trip_id'])['scheduled'].shift(1)\n",
    "\n",
    "# Calculate wait time as the difference between the current trip's actual time and the previous trip's scheduled time\n",
    "data['wait_time'] = (data['actual'] - data['previous_scheduled']).dt.total_seconds()\n",
    "\n",
    "# For trips without a previous trip, set wait time as NaN\n",
    "data['wait_time'] = data['wait_time'].fillna(0)\n",
    "\n",
    "# Check the data after preprocessing\n",
    "data[['service_date', 'route_id', 'scheduled', 'actual', 'delay', 'wait_time']].head()"
   ]
  },
  {
   "cell_type": "code",
   "execution_count": null,
   "id": "cfb9949f-24d7-4d5a-b9e5-5b400cc8573a",
   "metadata": {},
   "outputs": [],
   "source": []
  }
 ],
 "metadata": {
  "kernelspec": {
   "display_name": "Python 3 (ipykernel)",
   "language": "python",
   "name": "python3"
  },
  "language_info": {
   "codemirror_mode": {
    "name": "ipython",
    "version": 3
   },
   "file_extension": ".py",
   "mimetype": "text/x-python",
   "name": "python",
   "nbconvert_exporter": "python",
   "pygments_lexer": "ipython3",
   "version": "3.12.9"
  }
 },
 "nbformat": 4,
 "nbformat_minor": 5
}
