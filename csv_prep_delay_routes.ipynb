{
 "cells": [
  {
   "cell_type": "code",
   "execution_count": 4,
   "metadata": {},
   "outputs": [],
   "source": [
    "import pandas as pd\n",
    "import matplotlib.pyplot as plt\n",
    "import seaborn as sns\n",
    "import os\n",
    "import glob"
   ]
  },
  {
   "cell_type": "code",
   "execution_count": 5,
   "metadata": {},
   "outputs": [],
   "source": [
    "DATASETS_PATH = 'data/Arrival_Departure/Working'\n",
    "MASTER_DATASET = 'post_covid'\n",
    "MASTER_DATASET_PATH = os.path.join(DATASETS_PATH, MASTER_DATASET)"
   ]
  },
  {
   "cell_type": "code",
   "execution_count": 6,
   "metadata": {},
   "outputs": [],
   "source": [
    "def parse_time(time_str):\n",
    "    \"\"\"Convert HH:MM format to minutes.\"\"\"\n",
    "    try:\n",
    "        hours, minutes = map(int, time_str.split(':'))\n",
    "        return hours * 60 + minutes\n",
    "    except ValueError:\n",
    "        return None"
   ]
  },
  {
   "cell_type": "code",
   "execution_count": 11,
   "metadata": {},
   "outputs": [],
   "source": [
    "def process_mbta_data(path, period):\n",
    "    \"\"\"Calculate the average delay per stop per route per day for each month separately.\"\"\"\n",
    "    all_files = glob.glob(path)\n",
    "    all_data = []\n",
    "    for file in all_files:\n",
    "        print(f\"Processing {file}...\")\n",
    "        df = pd.read_csv(file)  \n",
    "        \n",
    "        df = df.astype({\n",
    "        'service_date': 'string',\n",
    "        'scheduled': 'string',\n",
    "        'actual': 'string'\n",
    "        })\n",
    "        \n",
    "        df[['service_date', 'scheduled', 'actual']] = df[['service_date', 'scheduled', 'actual']].apply(pd.to_datetime, errors='coerce')\n",
    "        df['delay'] = (df['actual'] - df['scheduled']).dt.total_seconds() / 60\n",
    "        avg_delays = df.groupby(['service_date', 'route_id', 'stop_id'])['delay'].mean().reset_index()\n",
    "        all_data.append(avg_delays)\n",
    "    final_df = pd.concat(all_data, ignore_index=True)\n",
    "    output_file = os.path.join(directory, 'delay_'+period+'.csv')\n",
    "    final_df.to_csv(output_file, index=False)\n",
    "    print(\"Done\")\n"
   ]
  },
  {
   "cell_type": "code",
   "execution_count": 12,
   "metadata": {},
   "outputs": [],
   "source": [
    "def group_by_date_routes(path):\n",
    "    df = pd.read_csv(d)\n",
    "\n",
    "    df['service_date'] = pd.to_datetime(df['service_date']).dt.to_period('M')\n",
    "    df['delay'] = df['delay'].clip(lower=0)\n",
    "    bus_wise_delay = df.groupby(['service_date', 'route_id'])['delay'].mean().reset_index()\n",
    "    bus_wise_delay.to_csv('data/Arrival_Departure/Working/'+period+'_group_by_date_routes.csv', index=False)"
   ]
  },
  {
   "cell_type": "markdown",
   "metadata": {},
   "source": [
    "# Pre - Covid"
   ]
  },
  {
   "cell_type": "code",
   "execution_count": null,
   "metadata": {},
   "outputs": [],
   "source": [
    "period = \"pre_covid\"\n",
    "d = \"data/Arrival_Departure/Working/pre_covid.csv\"\n",
    "process_mbta_data(d, period)\n",
    "\n",
    "d = \"data/Arrival_Departure/Working/delay_pre_covid.csv\"\n",
    "group_by_date_routes(d, period)"
   ]
  },
  {
   "cell_type": "markdown",
   "metadata": {},
   "source": [
    "# Covid"
   ]
  },
  {
   "cell_type": "code",
   "execution_count": null,
   "metadata": {},
   "outputs": [],
   "source": [
    "period = \"pre_covid\"\n",
    "d = \"data/Arrival_Departure/Working/pre_covid.csv\"\n",
    "process_mbta_data(d, period)\n",
    "\n",
    "d = \"data/Arrival_Departure/Working/delay_pre_covid.csv\"\n",
    "group_by_date_routes(d, period)"
   ]
  },
  {
   "cell_type": "markdown",
   "metadata": {},
   "source": [
    "# Post - Covid"
   ]
  },
  {
   "cell_type": "code",
   "execution_count": null,
   "metadata": {},
   "outputs": [],
   "source": [
    "period = \"pre_covid\"\n",
    "d = \"data/Arrival_Departure/Working/pre_covid.csv\"\n",
    "process_mbta_data(d, period)\n",
    "\n",
    "d = \"data/Arrival_Departure/Working/delay_pre_covid.csv\"\n",
    "group_by_date_routes(d, period)"
   ]
  }
 ],
 "metadata": {
  "kernelspec": {
   "display_name": "Python 3 (ipykernel)",
   "language": "python",
   "name": "python3"
  },
  "language_info": {
   "codemirror_mode": {
    "name": "ipython",
    "version": 3
   },
   "file_extension": ".py",
   "mimetype": "text/x-python",
   "name": "python",
   "nbconvert_exporter": "python",
   "pygments_lexer": "ipython3",
   "version": "3.12.9"
  }
 },
 "nbformat": 4,
 "nbformat_minor": 4
}
