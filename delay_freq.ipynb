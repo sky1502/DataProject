{
 "cells": [
  {
   "cell_type": "code",
   "execution_count": null,
   "metadata": {},
   "outputs": [],
   "source": [
    "import pandas as pd\n",
    "import os\n",
    "import plotly.express as px\n",
    "import plotly.io as pio"
   ]
  },
  {
   "cell_type": "code",
   "execution_count": null,
   "metadata": {},
   "outputs": [],
   "source": [
    "DATASETS_PATH = 'data/Arrival_Departure/Working'\n",
    "MASTER_DATASET = 'post_covid'\n",
    "MASTER_DATASET_PATH = os.path.join(DATASETS_PATH, MASTER_DATASET)\n",
    "imp_routes = [ '22', '29', '15', '45', '44', '42', '17', '23', '31', '26', '111', '24', '33', '14']"
   ]
  },
  {
   "cell_type": "code",
   "execution_count": null,
   "metadata": {},
   "outputs": [],
   "source": [
    "def process_csv(path, imp_routes = [ '22', '29', '15', '45', '44', '42', '17', '23', '31', '26', '111', '24', '33', '14']):\n",
    "    df = pd.read_csv(path)\n",
    "    \n",
    "    nan_count = df['delay'].isna().sum()\n",
    "    df = df.dropna()\n",
    "    \n",
    "    df = df[df['route_id'].isin(imp_routes)]\n",
    "    df['service_date'] = pd.to_datetime(df['service_date'])\n",
    "    df['delay'] = df['delay'].clip(lower=0)\n",
    "    \n",
    "    return df"
   ]
  },
  {
   "cell_type": "code",
   "execution_count": null,
   "metadata": {},
   "outputs": [],
   "source": [
    "def delay_freq(path, delay_threshold = 3, period = None, save_plot = False):\n",
    "    df = process_csv(path)\n",
    "\n",
    "    df['status'] = df['delay'].apply(lambda x: 'Delayed' if x > delay_threshold else 'On Time')\n",
    "    \n",
    "    summary = df.groupby(['route_id', 'status']).size().reset_index(name='count')\n",
    "    \n",
    "    pivot = summary.pivot(index='route_id', columns='status', values='count').fillna(0)\n",
    "\n",
    "    \n",
    "    melted = pivot.reset_index().melt(id_vars='route_id', value_vars=['Delayed', 'On Time'], var_name='Status', value_name='Count')\n",
    "    \n",
    "    fig = px.bar(\n",
    "        melted,\n",
    "        x='route_id',\n",
    "        y='Count',\n",
    "        color='Status',\n",
    "        color_discrete_map={\n",
    "            'On Time': 'blue',\n",
    "            'Delayed': 'red'\n",
    "        },\n",
    "        barmode='stack',\n",
    "        title='Frequency of Delays vs On-Time by Route',\n",
    "        labels={'route_id': 'Route ID', 'Count': 'Number of Delays'}\n",
    "    )\n",
    "    \n",
    "    fig.show()\n",
    "\n",
    "    if save_plot:\n",
    "        fig.write_html(\"./Plots/Delay_Freq/delay_freq_\"+period+\".html\")\n",
    "\n",
    "    return"
   ]
  },
  {
   "cell_type": "markdown",
   "metadata": {},
   "source": [
    "# Pre - Covid"
   ]
  },
  {
   "cell_type": "code",
   "execution_count": null,
   "metadata": {},
   "outputs": [],
   "source": [
    "period = \"_pre_covid\"\n",
    "\n",
    "d = \"data/Arrival_Departure/Working/delay_pre_covid.csv\"\n",
    "\n",
    "delay_freq(d, 4, period, True)"
   ]
  },
  {
   "cell_type": "markdown",
   "metadata": {},
   "source": [
    "# Covid"
   ]
  },
  {
   "cell_type": "code",
   "execution_count": null,
   "metadata": {},
   "outputs": [],
   "source": [
    "period = \"_covid\"\n",
    "\n",
    "d = \"data/Arrival_Departure/Working/delay_covid.csv\"\n",
    "\n",
    "delay_freq(d, 4, period, True)"
   ]
  },
  {
   "cell_type": "markdown",
   "metadata": {},
   "source": [
    "# Post - Covid"
   ]
  },
  {
   "cell_type": "code",
   "execution_count": null,
   "metadata": {},
   "outputs": [],
   "source": [
    "period = \"_post_covid\"\n",
    "\n",
    "d = \"data/Arrival_Departure/Working/delay_post_covid.csv\"\n",
    "\n",
    "delay_freq(d, 4, period, True)"
   ]
  },
  {
   "cell_type": "code",
   "execution_count": null,
   "metadata": {},
   "outputs": [],
   "source": []
  }
 ],
 "metadata": {
  "kernelspec": {
   "display_name": "Python 3 (ipykernel)",
   "language": "python",
   "name": "python3"
  },
  "language_info": {
   "codemirror_mode": {
    "name": "ipython",
    "version": 3
   },
   "file_extension": ".py",
   "mimetype": "text/x-python",
   "name": "python",
   "nbconvert_exporter": "python",
   "pygments_lexer": "ipython3",
   "version": "3.12.9"
  }
 },
 "nbformat": 4,
 "nbformat_minor": 4
}
