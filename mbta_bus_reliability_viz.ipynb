{
 "cells": [
  {
   "cell_type": "code",
   "execution_count": 1,
   "metadata": {},
   "outputs": [],
   "source": [
    "import pandas as pd\n",
    "import matplotlib.pyplot as plt\n",
    "import seaborn as sns\n",
    "import os\n",
    "import plotly.graph_objects as go\n",
    "import plotly.io as pio"
   ]
  },
  {
   "cell_type": "markdown",
   "metadata": {},
   "source": [
    "## Path definitions"
   ]
  },
  {
   "cell_type": "code",
   "execution_count": 2,
   "metadata": {},
   "outputs": [],
   "source": [
    "DATASETS_PATH = 'data/'\n",
    "MASTER_DATASET = 'MBTA_Bus_Commuter_Rail_Rapid_Transit_Reliability.csv'\n",
    "MASTER_DATASET_PATH = os.path.join(DATASETS_PATH, MASTER_DATASET)"
   ]
  },
  {
   "cell_type": "markdown",
   "metadata": {},
   "source": [
    "# Data Extraction"
   ]
  },
  {
   "cell_type": "code",
   "execution_count": 3,
   "metadata": {},
   "outputs": [],
   "source": [
    "def load_reliability_data():\n",
    "    master_df = pd.read_csv(MASTER_DATASET_PATH)\n",
    "    bus_data = master_df[master_df['mode_type'] == 'Bus'].drop(columns=['mode_type'])\n",
    "    bus_data['date'] = pd.to_datetime(bus_data['service_date'])\n",
    "    bus_data['date'] = bus_data['date'].dt.date\n",
    "    return bus_data\n",
    "    "
   ]
  },
  {
   "cell_type": "markdown",
   "metadata": {},
   "source": [
    "# Performances during Peak and off-Peak time"
   ]
  },
  {
   "cell_type": "code",
   "execution_count": null,
   "metadata": {},
   "outputs": [],
   "source": [
    "def prepare_peak_data(bus_data):\n",
    "    \"\"\"\n",
    "    Prepares data by grouping bus_data by 'peak_offpeak_ind' and converting the 'date' column to period format (monthly).\n",
    "    Returns a dictionary of dataframes, with the peak/off-peak indicator as the key.\n",
    "    \"\"\"\n",
    "    possible_peaks = bus_data['peak_offpeak_ind'].unique()\n",
    "    temp_sets = {}\n",
    "\n",
    "    for peak in possible_peaks:\n",
    "        peak_data = bus_data[bus_data['peak_offpeak_ind'] == peak].copy()\n",
    "        peak_data['date'] = pd.to_datetime(peak_data['date']).dt.to_period('M')\n",
    "        temp_sets[peak] = peak_data\n",
    "\n",
    "    return temp_sets\n",
    "\n",
    "def calculate_otp_and_derivative(df):\n",
    "    \"\"\"\n",
    "    Calculates OTP (On-Time Performance) and its derivative (dy_dx) for the given dataframe.\n",
    "    Returns the updated dataframe with OTP and dy_dx columns.\n",
    "    \"\"\"\n",
    "    df['otp'] = df['otp_numerator'] / df['otp_denominator']\n",
    "    df['dy_dx'] = df['otp'].diff()\n",
    "    df['dy_dx'] = df['dy_dx'].fillna(0)\n",
    "    return df\n",
    "\n",
    "def identify_sharp_points(df):\n",
    "    \"\"\"\n",
    "    Identifies sharp points in the OTP data where the change in OTP (dy_dx) is greater than a threshold.\n",
    "    Returns the sharp points as a set of dates.\n",
    "    \"\"\"\n",
    "    threshold = df['dy_dx'].std() * 2  # Adjust threshold as needed\n",
    "    sharp_dates = df[abs(df['dy_dx']) > threshold].index.astype(str)\n",
    "    return set(sharp_dates)\n",
    "\n",
    "def plot_otp_trend(temp_sets, sharp_points):\n",
    "    \"\"\"\n",
    "    Plots the OTP trend over time and marks sharp points with red dashed lines.\n",
    "    \"\"\"\n",
    "    # plt.figure(figsize=(24, 8))\n",
    "    fig = go.Figure()\n",
    "    \n",
    "    for label, df_set in temp_sets.items():\n",
    "        df = df_set.groupby(['date']).agg({'otp_numerator': 'sum', 'otp_denominator': 'sum'}).copy()\n",
    "        df = calculate_otp_and_derivative(df)\n",
    "        sharp_dates = identify_sharp_points(df)\n",
    "        sharp_points.update(sharp_dates)\n",
    "        \n",
    "        # sns.lineplot(x=df.index.astype(str), y='otp', data=df, label=label)\n",
    "        # Add a line for each group to the figure\n",
    "        fig.add_trace(go.Scatter(\n",
    "            x=df.index.astype(str), \n",
    "            y=df['otp'], \n",
    "            mode='lines', \n",
    "            name=f\"OTP Trend of {label}\"\n",
    "        ))\n",
    "\n",
    "    for point in sharp_points:\n",
    "        # plt.axvline(x=point, color='red', linestyle='--', alpha=0.7)\n",
    "        fig.add_vline(\n",
    "            x=point,\n",
    "            line=dict(color=\"red\", dash=\"dash\", width=2),\n",
    "            name=f\"Sharp Point {point}\"\n",
    "        )\n",
    "    fig.update_layout(\n",
    "        title='Month-wise OTP by Peak/Off-Peak with Sharp Points Highlighted',\n",
    "        xaxis_title='Service Month',\n",
    "        yaxis_title='OTP',\n",
    "        xaxis_tickangle=90,\n",
    "        legend_title='Peak/Off-Peak',\n",
    "        plot_bgcolor='white',  # Set background to white\n",
    "        paper_bgcolor='white',  # Set overall figure background to white\n",
    "        template='plotly'  # Default light theme\n",
    "    )\n",
    "\n",
    "    fig.show()\n",
    "    pio.write_html(fig, \"./Plots/Reliability/Month_wise_OTP_Peak.html\")\n",
    "\n",
    "def plot_otp_derivative(temp_sets):\n",
    "    \"\"\"\n",
    "    Plots the derivative of OTP (change rate of OTP) over time.\n",
    "    \"\"\"\n",
    "    fig = go.Figure()\n",
    "\n",
    "    for label, df_set in temp_sets.items():\n",
    "        df = df_set.groupby(['date']).agg({'otp_numerator': 'sum', 'otp_denominator': 'sum'}).copy()\n",
    "        df = calculate_otp_and_derivative(df)\n",
    "\n",
    "        # Add a line for each group to the figure\n",
    "        fig.add_trace(go.Scatter(\n",
    "            x=df.index.astype(str), \n",
    "            y=df['dy_dx'], \n",
    "            mode='lines', \n",
    "            name=f\"Derivative of {label}\"\n",
    "        ))\n",
    "\n",
    "    # Update layout for better presentation\n",
    "    fig.update_layout(\n",
    "        title='Month-wise OTP Change Rate (Derivative)',\n",
    "        xaxis_title='Service Month',\n",
    "        yaxis_title='Change in OTP',\n",
    "        xaxis_tickangle=90,\n",
    "        legend_title='Peak/Off-Peak',\n",
    "    )\n",
    "    fig.show()\n",
    "    pio.write_html(fig, \"./Plots/Reliability/Month_wise_OTP_Change_Rate.html\")\n",
    "    # pio.write_image(fig, \"./Plots/Reliability/Month_wise_OTP_Change_Rate.jpg\", format=\"jpg\", width=500, height=300, scale=1)\n",
    "\n",
    "# Main execution\n",
    "bus_data = load_reliability_data() \n",
    "temp_sets = prepare_peak_data(bus_data)\n",
    "sharp_points = set()"
   ]
  },
  {
   "cell_type": "code",
   "execution_count": 8,
   "metadata": {},
   "outputs": [
    {
     "data": {
      "application/vnd.plotly.v1+json": {
       "config": {
        "plotlyServerURL": "https://plot.ly"
       },
       "data": [
        {
         "mode": "lines",
         "name": "OTP Trend of PEAK",
         "type": "scatter",
         "x": [
          "2016-01",
          "2016-02",
          "2016-03",
          "2016-04",
          "2016-05",
          "2016-06",
          "2016-07",
          "2016-08",
          "2016-09",
          "2016-10",
          "2016-11",
          "2016-12",
          "2017-01",
          "2017-02",
          "2017-03",
          "2017-04",
          "2017-05",
          "2017-06",
          "2017-07",
          "2017-08",
          "2017-09",
          "2017-10",
          "2017-11",
          "2017-12",
          "2018-01",
          "2018-02",
          "2018-03",
          "2018-04",
          "2018-05",
          "2018-06",
          "2018-07",
          "2018-08",
          "2018-09",
          "2018-10",
          "2018-11",
          "2018-12",
          "2019-01",
          "2019-02",
          "2019-03",
          "2019-04",
          "2019-05",
          "2019-06",
          "2019-07",
          "2019-08",
          "2019-09",
          "2019-10",
          "2019-11",
          "2019-12",
          "2020-01",
          "2020-02",
          "2020-03",
          "2020-04",
          "2020-05",
          "2020-06",
          "2020-07",
          "2020-08",
          "2020-09",
          "2020-10",
          "2020-11",
          "2020-12",
          "2021-01",
          "2021-02",
          "2021-03",
          "2021-04",
          "2021-05",
          "2021-06",
          "2021-07",
          "2021-08",
          "2021-09",
          "2021-10",
          "2021-11",
          "2021-12",
          "2022-01",
          "2022-02",
          "2022-03",
          "2022-04",
          "2022-05",
          "2022-06",
          "2022-07",
          "2022-08",
          "2022-09",
          "2022-10",
          "2022-11",
          "2022-12",
          "2023-01",
          "2023-02",
          "2023-03",
          "2023-04",
          "2023-05",
          "2023-06",
          "2023-07",
          "2023-08",
          "2023-09",
          "2023-10",
          "2023-11",
          "2023-12",
          "2024-01",
          "2024-02",
          "2024-03",
          "2024-04",
          "2024-05",
          "2024-06",
          "2024-07",
          "2024-08",
          "2024-09",
          "2024-10",
          "2024-11",
          "2024-12",
          "2025-01",
          "2025-02"
         ],
         "y": {
          "bdata": "81KsD0/I5j8p5SmBfcnmP93efRe17uU/JVXMrmtC5T9S97lAkQbkP2BBnN+hOuQ/cPc+obUu5T9/6YgXAbrlP+kTUiOTjOI/3mbYIhIq4z8Mmqc6mmjjPwxbmEVXz+Q/jKAUYbxN5T9B7WNydhDlP3Goa3kmTuU/5yT3IoEz5T9A3/h0lD3kP7w8Eu+TFOQ/VjOZsH+s5T9mrRODT7flP+6PW9Z2z+I/xr8/64bK4j8Tu3hKyZzjP4x0ZPsYxuQ/SsFDy5b+4z9vUNXSJ6LlP3FaO8rOSuU/QP2e7Hf95D8FSnKXMhnjP9dO6iwJWOQ/NdvZP6t+5T9ffxqoxfTlP4AgkMKeCuM/b2K2/FNt4z9ep6BrcPnjP2HFJulTLeU/ipBW7l2W5T+0FvO60uHlP1dvRVGheOU/qD4/mOEy5T+fNOaZeCPkP/OTexloleQ/zk9mUQnk5T9nQmBftzTmP1VdqEhZq+M/hnP4yoNK5D9yPD940nHkP9eKPkgs0+Q/qToajEW85j+aljsays3mPxXjPnPC8uY/AAAAAAAA+P8AAAAAAAD4/6/ruq7ruuY/RGN9aKwP5z9vHhghgCHnPwSLI/24U+c/RglKUrNn5z+FINjR3RznPx9krZUJ8eY/yywwj4xx5z/BI/XjWmfnPzohaBU+tOc/CmKq0D6u5z/3vjdz7DvnP4U9e8ZHKec/0zjEJv5S5z8LJqrLEPvmP6qXBzPDwOQ/ZhU92Pna5D/quczM34vlP+V5gnSEUuY/f9GPhkE95z/h9jDkUDLmP4n7Adbdg+Y/hTG/bxyl5j+bKHXGSZLlPx4z48xWpOU/DjeiN+cN5z9w8gUyrcfmPy7qQGFCBeQ/1BqA2CNu5D86aLH1daXkP7neVrhkouU/VFpbvqkJ5j/6VgzO6FbmP/t6yKXKIeY/1v4MUbJ65T+DER7msTzkP4pLurZd4eQ/0ftF9exv5T9u56yOM4XlP9TUYZuZseI/VKL0vP7Q4j9LlTonYsPjP6MLq7dKeeQ/f2bDxPwT5T9DsLBpExDlPxSR7f0LEeU/p2nQch225D8sIN1+DAzjP4PtC/CePuQ/JgJkDNiS5T8ETzBYVt/lP5/4+6M9SeM/aGreMRNY4z/WRKjmA7fjP+i2puC60+Q/bAUHKy7M5j9FLnIyRYnlPw==",
          "dtype": "f8"
         }
        },
        {
         "mode": "lines",
         "name": "OTP Trend of OFF_PEAK",
         "type": "scatter",
         "x": [
          "2016-01",
          "2016-02",
          "2016-03",
          "2016-04",
          "2016-05",
          "2016-06",
          "2016-07",
          "2016-08",
          "2016-09",
          "2016-10",
          "2016-11",
          "2016-12",
          "2017-01",
          "2017-02",
          "2017-03",
          "2017-04",
          "2017-05",
          "2017-06",
          "2017-07",
          "2017-08",
          "2017-09",
          "2017-10",
          "2017-11",
          "2017-12",
          "2018-01",
          "2018-02",
          "2018-03",
          "2018-04",
          "2018-05",
          "2018-06",
          "2018-07",
          "2018-08",
          "2018-09",
          "2018-10",
          "2018-11",
          "2018-12",
          "2019-01",
          "2019-02",
          "2019-03",
          "2019-04",
          "2019-05",
          "2019-06",
          "2019-07",
          "2019-08",
          "2019-09",
          "2019-10",
          "2019-11",
          "2019-12",
          "2020-01",
          "2020-02",
          "2020-03",
          "2020-04",
          "2020-05",
          "2020-06",
          "2020-07",
          "2020-08",
          "2020-09",
          "2020-10",
          "2020-11",
          "2020-12",
          "2021-01",
          "2021-02",
          "2021-03",
          "2021-04",
          "2021-05",
          "2021-06",
          "2021-07",
          "2021-08",
          "2021-09",
          "2021-10",
          "2021-11",
          "2021-12",
          "2022-01",
          "2022-02",
          "2022-03",
          "2022-04",
          "2022-05",
          "2022-06",
          "2022-07",
          "2022-08",
          "2022-09",
          "2022-10",
          "2022-11",
          "2022-12",
          "2023-01",
          "2023-02",
          "2023-03",
          "2023-04",
          "2023-05",
          "2023-06",
          "2023-07",
          "2023-08",
          "2023-09",
          "2023-10",
          "2023-11",
          "2023-12",
          "2024-01",
          "2024-02",
          "2024-03",
          "2024-04",
          "2024-05",
          "2024-06",
          "2024-07",
          "2024-08",
          "2024-09",
          "2024-10",
          "2024-11",
          "2024-12",
          "2025-01",
          "2025-02"
         ],
         "y": {
          "bdata": "tmDcvzPq6D/hjQzvH9joPx9Flu0skec/RyY72qDr5j+L2P8B9DnmP3U0Eo96weU/kyjJ0EUL5j/Ni6L4RfrlP+buAUoaS+U/Ca8M9Oh+5T/gbk3nrDHmPzlUBIjFqeY/UZktGxl05z8Nl3Td+57mPzooq8IpEec/6HqfZfWl5j9G/ozd5krmPwxDzoqud+U/xedtNjg05j+jmgzLzjrmPwU9lRWHp+U/wqsp3Fpi5T/00qUqiVnmPz8e2K9c1OY/08nR8iO75j8Aa7lSxEjnP7xEmgc7ueY/daEhU/SV5j9lhFqIJonlP8J4LSwyvuU/V2YR8v8k5j+Rzx3qoEDmP5bhmTtHe+U/vhlvxzL95T+4MfDB3EPmPzlFvBt/5eY/diiuS0t05z8Dz2FtdVjnPxlUUTt26OY/T20Sr6yX5j+TIcSpmPLlP01pM+hMouU/Dcu+5QFf5j/b8hlKSFLmPyzQL/vM+uU/8nr6oxJZ5j+JiIiICMHmP/59axJVzuY/4MWEVVjp5z89vSO8YuLnP7KOZadIEOg/EkRsX2TC5z+B6q3B/VDoPwhLCISnMOg/tHmJSxMa6D9DiuYRX//nPyZbmsiKTeg/zX1lWYdA6D8Jl+1eDDXoP+uN0980C+g/acnKieiQ6D/uqrs0Y3HoP5worBLfkOg/TDYtq8l66D+f3+88WBnoP8+L8rg6vuc/JCDrlJTc5z/jcZYJ0YbnPxkNAOiT3+Y/DTQi5xEZ5z9IfPnyppXnP2yT0uxy9+c/Ix7mqq1h6D+XWYPCDvHnPySfPfn+8Oc/R1L5mgi95z85yYGDO//mP0me6hSIzOY/gZ3aTMuA5z+oi6/CqkjnP7cxmQ/6UeY/hazBGVSr5j//k3Gj8wnnPz/4Gf70aOc/CRsw76Dg5z9jnpDwzbnnP9pSUFY9cec/GZQM2Eoh5z9TxsVk5ELmP4TO09XiDeY/2IftIMw75j8sXZjX/R7mP7Lf3dmJr+U/gNFVPeSa5T8hDnSSO27mP/4rpjUDkeY/2G0UdbVE5z/ptMzs1ffmP3AL1IOxkuY/c7I2BrMo5j+kUESTUVblP+Jw8kjqZuU/Pmpq/HM35j8JMkaEHyzmP5rl39KspeU/rmn+6YKJ5T/2yxWHrkfmP7LFt0K8x+Y/+tCf4MoG6D/X1lhNxyrnPw==",
          "dtype": "f8"
         }
        }
       ],
       "layout": {
        "legend": {
         "title": {
          "text": "Peak/Off-Peak"
         }
        },
        "paper_bgcolor": "white",
        "plot_bgcolor": "white",
        "shapes": [
         {
          "line": {
           "color": "red",
           "dash": "dash",
           "width": 2
          },
          "name": "Sharp Point 2023-09",
          "type": "line",
          "x0": "2023-09",
          "x1": "2023-09",
          "xref": "x",
          "y0": 0,
          "y1": 1,
          "yref": "y domain"
         },
         {
          "line": {
           "color": "red",
           "dash": "dash",
           "width": 2
          },
          "name": "Sharp Point 2024-09",
          "type": "line",
          "x0": "2024-09",
          "x1": "2024-09",
          "xref": "x",
          "y0": 0,
          "y1": 1,
          "yref": "y domain"
         },
         {
          "line": {
           "color": "red",
           "dash": "dash",
           "width": 2
          },
          "name": "Sharp Point 2021-09",
          "type": "line",
          "x0": "2021-09",
          "x1": "2021-09",
          "xref": "x",
          "y0": 0,
          "y1": 1,
          "yref": "y domain"
         },
         {
          "line": {
           "color": "red",
           "dash": "dash",
           "width": 2
          },
          "name": "Sharp Point 2018-05",
          "type": "line",
          "x0": "2018-05",
          "x1": "2018-05",
          "xref": "x",
          "y0": 0,
          "y1": 1,
          "yref": "y domain"
         },
         {
          "line": {
           "color": "red",
           "dash": "dash",
           "width": 2
          },
          "name": "Sharp Point 2019-09",
          "type": "line",
          "x0": "2019-09",
          "x1": "2019-09",
          "xref": "x",
          "y0": 0,
          "y1": 1,
          "yref": "y domain"
         },
         {
          "line": {
           "color": "red",
           "dash": "dash",
           "width": 2
          },
          "name": "Sharp Point 2020-01",
          "type": "line",
          "x0": "2020-01",
          "x1": "2020-01",
          "xref": "x",
          "y0": 0,
          "y1": 1,
          "yref": "y domain"
         },
         {
          "line": {
           "color": "red",
           "dash": "dash",
           "width": 2
          },
          "name": "Sharp Point 2017-09",
          "type": "line",
          "x0": "2017-09",
          "x1": "2017-09",
          "xref": "x",
          "y0": 0,
          "y1": 1,
          "yref": "y domain"
         },
         {
          "line": {
           "color": "red",
           "dash": "dash",
           "width": 2
          },
          "name": "Sharp Point 2016-09",
          "type": "line",
          "x0": "2016-09",
          "x1": "2016-09",
          "xref": "x",
          "y0": 0,
          "y1": 1,
          "yref": "y domain"
         },
         {
          "line": {
           "color": "red",
           "dash": "dash",
           "width": 2
          },
          "name": "Sharp Point 2025-01",
          "type": "line",
          "x0": "2025-01",
          "x1": "2025-01",
          "xref": "x",
          "y0": 0,
          "y1": 1,
          "yref": "y domain"
         },
         {
          "line": {
           "color": "red",
           "dash": "dash",
           "width": 2
          },
          "name": "Sharp Point 2022-09",
          "type": "line",
          "x0": "2022-09",
          "x1": "2022-09",
          "xref": "x",
          "y0": 0,
          "y1": 1,
          "yref": "y domain"
         },
         {
          "line": {
           "color": "red",
           "dash": "dash",
           "width": 2
          },
          "name": "Sharp Point 2016-03",
          "type": "line",
          "x0": "2016-03",
          "x1": "2016-03",
          "xref": "x",
          "y0": 0,
          "y1": 1,
          "yref": "y domain"
         },
         {
          "line": {
           "color": "red",
           "dash": "dash",
           "width": 2
          },
          "name": "Sharp Point 2018-09",
          "type": "line",
          "x0": "2018-09",
          "x1": "2018-09",
          "xref": "x",
          "y0": 0,
          "y1": 1,
          "yref": "y domain"
         }
        ],
        "template": {
         "data": {
          "bar": [
           {
            "error_x": {
             "color": "#2a3f5f"
            },
            "error_y": {
             "color": "#2a3f5f"
            },
            "marker": {
             "line": {
              "color": "#E5ECF6",
              "width": 0.5
             },
             "pattern": {
              "fillmode": "overlay",
              "size": 10,
              "solidity": 0.2
             }
            },
            "type": "bar"
           }
          ],
          "barpolar": [
           {
            "marker": {
             "line": {
              "color": "#E5ECF6",
              "width": 0.5
             },
             "pattern": {
              "fillmode": "overlay",
              "size": 10,
              "solidity": 0.2
             }
            },
            "type": "barpolar"
           }
          ],
          "carpet": [
           {
            "aaxis": {
             "endlinecolor": "#2a3f5f",
             "gridcolor": "white",
             "linecolor": "white",
             "minorgridcolor": "white",
             "startlinecolor": "#2a3f5f"
            },
            "baxis": {
             "endlinecolor": "#2a3f5f",
             "gridcolor": "white",
             "linecolor": "white",
             "minorgridcolor": "white",
             "startlinecolor": "#2a3f5f"
            },
            "type": "carpet"
           }
          ],
          "choropleth": [
           {
            "colorbar": {
             "outlinewidth": 0,
             "ticks": ""
            },
            "type": "choropleth"
           }
          ],
          "contour": [
           {
            "colorbar": {
             "outlinewidth": 0,
             "ticks": ""
            },
            "colorscale": [
             [
              0,
              "#0d0887"
             ],
             [
              0.1111111111111111,
              "#46039f"
             ],
             [
              0.2222222222222222,
              "#7201a8"
             ],
             [
              0.3333333333333333,
              "#9c179e"
             ],
             [
              0.4444444444444444,
              "#bd3786"
             ],
             [
              0.5555555555555556,
              "#d8576b"
             ],
             [
              0.6666666666666666,
              "#ed7953"
             ],
             [
              0.7777777777777778,
              "#fb9f3a"
             ],
             [
              0.8888888888888888,
              "#fdca26"
             ],
             [
              1,
              "#f0f921"
             ]
            ],
            "type": "contour"
           }
          ],
          "contourcarpet": [
           {
            "colorbar": {
             "outlinewidth": 0,
             "ticks": ""
            },
            "type": "contourcarpet"
           }
          ],
          "heatmap": [
           {
            "colorbar": {
             "outlinewidth": 0,
             "ticks": ""
            },
            "colorscale": [
             [
              0,
              "#0d0887"
             ],
             [
              0.1111111111111111,
              "#46039f"
             ],
             [
              0.2222222222222222,
              "#7201a8"
             ],
             [
              0.3333333333333333,
              "#9c179e"
             ],
             [
              0.4444444444444444,
              "#bd3786"
             ],
             [
              0.5555555555555556,
              "#d8576b"
             ],
             [
              0.6666666666666666,
              "#ed7953"
             ],
             [
              0.7777777777777778,
              "#fb9f3a"
             ],
             [
              0.8888888888888888,
              "#fdca26"
             ],
             [
              1,
              "#f0f921"
             ]
            ],
            "type": "heatmap"
           }
          ],
          "histogram": [
           {
            "marker": {
             "pattern": {
              "fillmode": "overlay",
              "size": 10,
              "solidity": 0.2
             }
            },
            "type": "histogram"
           }
          ],
          "histogram2d": [
           {
            "colorbar": {
             "outlinewidth": 0,
             "ticks": ""
            },
            "colorscale": [
             [
              0,
              "#0d0887"
             ],
             [
              0.1111111111111111,
              "#46039f"
             ],
             [
              0.2222222222222222,
              "#7201a8"
             ],
             [
              0.3333333333333333,
              "#9c179e"
             ],
             [
              0.4444444444444444,
              "#bd3786"
             ],
             [
              0.5555555555555556,
              "#d8576b"
             ],
             [
              0.6666666666666666,
              "#ed7953"
             ],
             [
              0.7777777777777778,
              "#fb9f3a"
             ],
             [
              0.8888888888888888,
              "#fdca26"
             ],
             [
              1,
              "#f0f921"
             ]
            ],
            "type": "histogram2d"
           }
          ],
          "histogram2dcontour": [
           {
            "colorbar": {
             "outlinewidth": 0,
             "ticks": ""
            },
            "colorscale": [
             [
              0,
              "#0d0887"
             ],
             [
              0.1111111111111111,
              "#46039f"
             ],
             [
              0.2222222222222222,
              "#7201a8"
             ],
             [
              0.3333333333333333,
              "#9c179e"
             ],
             [
              0.4444444444444444,
              "#bd3786"
             ],
             [
              0.5555555555555556,
              "#d8576b"
             ],
             [
              0.6666666666666666,
              "#ed7953"
             ],
             [
              0.7777777777777778,
              "#fb9f3a"
             ],
             [
              0.8888888888888888,
              "#fdca26"
             ],
             [
              1,
              "#f0f921"
             ]
            ],
            "type": "histogram2dcontour"
           }
          ],
          "mesh3d": [
           {
            "colorbar": {
             "outlinewidth": 0,
             "ticks": ""
            },
            "type": "mesh3d"
           }
          ],
          "parcoords": [
           {
            "line": {
             "colorbar": {
              "outlinewidth": 0,
              "ticks": ""
             }
            },
            "type": "parcoords"
           }
          ],
          "pie": [
           {
            "automargin": true,
            "type": "pie"
           }
          ],
          "scatter": [
           {
            "fillpattern": {
             "fillmode": "overlay",
             "size": 10,
             "solidity": 0.2
            },
            "type": "scatter"
           }
          ],
          "scatter3d": [
           {
            "line": {
             "colorbar": {
              "outlinewidth": 0,
              "ticks": ""
             }
            },
            "marker": {
             "colorbar": {
              "outlinewidth": 0,
              "ticks": ""
             }
            },
            "type": "scatter3d"
           }
          ],
          "scattercarpet": [
           {
            "marker": {
             "colorbar": {
              "outlinewidth": 0,
              "ticks": ""
             }
            },
            "type": "scattercarpet"
           }
          ],
          "scattergeo": [
           {
            "marker": {
             "colorbar": {
              "outlinewidth": 0,
              "ticks": ""
             }
            },
            "type": "scattergeo"
           }
          ],
          "scattergl": [
           {
            "marker": {
             "colorbar": {
              "outlinewidth": 0,
              "ticks": ""
             }
            },
            "type": "scattergl"
           }
          ],
          "scattermap": [
           {
            "marker": {
             "colorbar": {
              "outlinewidth": 0,
              "ticks": ""
             }
            },
            "type": "scattermap"
           }
          ],
          "scattermapbox": [
           {
            "marker": {
             "colorbar": {
              "outlinewidth": 0,
              "ticks": ""
             }
            },
            "type": "scattermapbox"
           }
          ],
          "scatterpolar": [
           {
            "marker": {
             "colorbar": {
              "outlinewidth": 0,
              "ticks": ""
             }
            },
            "type": "scatterpolar"
           }
          ],
          "scatterpolargl": [
           {
            "marker": {
             "colorbar": {
              "outlinewidth": 0,
              "ticks": ""
             }
            },
            "type": "scatterpolargl"
           }
          ],
          "scatterternary": [
           {
            "marker": {
             "colorbar": {
              "outlinewidth": 0,
              "ticks": ""
             }
            },
            "type": "scatterternary"
           }
          ],
          "surface": [
           {
            "colorbar": {
             "outlinewidth": 0,
             "ticks": ""
            },
            "colorscale": [
             [
              0,
              "#0d0887"
             ],
             [
              0.1111111111111111,
              "#46039f"
             ],
             [
              0.2222222222222222,
              "#7201a8"
             ],
             [
              0.3333333333333333,
              "#9c179e"
             ],
             [
              0.4444444444444444,
              "#bd3786"
             ],
             [
              0.5555555555555556,
              "#d8576b"
             ],
             [
              0.6666666666666666,
              "#ed7953"
             ],
             [
              0.7777777777777778,
              "#fb9f3a"
             ],
             [
              0.8888888888888888,
              "#fdca26"
             ],
             [
              1,
              "#f0f921"
             ]
            ],
            "type": "surface"
           }
          ],
          "table": [
           {
            "cells": {
             "fill": {
              "color": "#EBF0F8"
             },
             "line": {
              "color": "white"
             }
            },
            "header": {
             "fill": {
              "color": "#C8D4E3"
             },
             "line": {
              "color": "white"
             }
            },
            "type": "table"
           }
          ]
         },
         "layout": {
          "annotationdefaults": {
           "arrowcolor": "#2a3f5f",
           "arrowhead": 0,
           "arrowwidth": 1
          },
          "autotypenumbers": "strict",
          "coloraxis": {
           "colorbar": {
            "outlinewidth": 0,
            "ticks": ""
           }
          },
          "colorscale": {
           "diverging": [
            [
             0,
             "#8e0152"
            ],
            [
             0.1,
             "#c51b7d"
            ],
            [
             0.2,
             "#de77ae"
            ],
            [
             0.3,
             "#f1b6da"
            ],
            [
             0.4,
             "#fde0ef"
            ],
            [
             0.5,
             "#f7f7f7"
            ],
            [
             0.6,
             "#e6f5d0"
            ],
            [
             0.7,
             "#b8e186"
            ],
            [
             0.8,
             "#7fbc41"
            ],
            [
             0.9,
             "#4d9221"
            ],
            [
             1,
             "#276419"
            ]
           ],
           "sequential": [
            [
             0,
             "#0d0887"
            ],
            [
             0.1111111111111111,
             "#46039f"
            ],
            [
             0.2222222222222222,
             "#7201a8"
            ],
            [
             0.3333333333333333,
             "#9c179e"
            ],
            [
             0.4444444444444444,
             "#bd3786"
            ],
            [
             0.5555555555555556,
             "#d8576b"
            ],
            [
             0.6666666666666666,
             "#ed7953"
            ],
            [
             0.7777777777777778,
             "#fb9f3a"
            ],
            [
             0.8888888888888888,
             "#fdca26"
            ],
            [
             1,
             "#f0f921"
            ]
           ],
           "sequentialminus": [
            [
             0,
             "#0d0887"
            ],
            [
             0.1111111111111111,
             "#46039f"
            ],
            [
             0.2222222222222222,
             "#7201a8"
            ],
            [
             0.3333333333333333,
             "#9c179e"
            ],
            [
             0.4444444444444444,
             "#bd3786"
            ],
            [
             0.5555555555555556,
             "#d8576b"
            ],
            [
             0.6666666666666666,
             "#ed7953"
            ],
            [
             0.7777777777777778,
             "#fb9f3a"
            ],
            [
             0.8888888888888888,
             "#fdca26"
            ],
            [
             1,
             "#f0f921"
            ]
           ]
          },
          "colorway": [
           "#636efa",
           "#EF553B",
           "#00cc96",
           "#ab63fa",
           "#FFA15A",
           "#19d3f3",
           "#FF6692",
           "#B6E880",
           "#FF97FF",
           "#FECB52"
          ],
          "font": {
           "color": "#2a3f5f"
          },
          "geo": {
           "bgcolor": "white",
           "lakecolor": "white",
           "landcolor": "#E5ECF6",
           "showlakes": true,
           "showland": true,
           "subunitcolor": "white"
          },
          "hoverlabel": {
           "align": "left"
          },
          "hovermode": "closest",
          "mapbox": {
           "style": "light"
          },
          "paper_bgcolor": "white",
          "plot_bgcolor": "#E5ECF6",
          "polar": {
           "angularaxis": {
            "gridcolor": "white",
            "linecolor": "white",
            "ticks": ""
           },
           "bgcolor": "#E5ECF6",
           "radialaxis": {
            "gridcolor": "white",
            "linecolor": "white",
            "ticks": ""
           }
          },
          "scene": {
           "xaxis": {
            "backgroundcolor": "#E5ECF6",
            "gridcolor": "white",
            "gridwidth": 2,
            "linecolor": "white",
            "showbackground": true,
            "ticks": "",
            "zerolinecolor": "white"
           },
           "yaxis": {
            "backgroundcolor": "#E5ECF6",
            "gridcolor": "white",
            "gridwidth": 2,
            "linecolor": "white",
            "showbackground": true,
            "ticks": "",
            "zerolinecolor": "white"
           },
           "zaxis": {
            "backgroundcolor": "#E5ECF6",
            "gridcolor": "white",
            "gridwidth": 2,
            "linecolor": "white",
            "showbackground": true,
            "ticks": "",
            "zerolinecolor": "white"
           }
          },
          "shapedefaults": {
           "line": {
            "color": "#2a3f5f"
           }
          },
          "ternary": {
           "aaxis": {
            "gridcolor": "white",
            "linecolor": "white",
            "ticks": ""
           },
           "baxis": {
            "gridcolor": "white",
            "linecolor": "white",
            "ticks": ""
           },
           "bgcolor": "#E5ECF6",
           "caxis": {
            "gridcolor": "white",
            "linecolor": "white",
            "ticks": ""
           }
          },
          "title": {
           "x": 0.05
          },
          "xaxis": {
           "automargin": true,
           "gridcolor": "white",
           "linecolor": "white",
           "ticks": "",
           "title": {
            "standoff": 15
           },
           "zerolinecolor": "white",
           "zerolinewidth": 2
          },
          "yaxis": {
           "automargin": true,
           "gridcolor": "white",
           "linecolor": "white",
           "ticks": "",
           "title": {
            "standoff": 15
           },
           "zerolinecolor": "white",
           "zerolinewidth": 2
          }
         }
        },
        "title": {
         "text": "Month-wise OTP by Peak/Off-Peak with Sharp Points Highlighted"
        },
        "xaxis": {
         "tickangle": 90,
         "title": {
          "text": "Service Month"
         }
        },
        "yaxis": {
         "title": {
          "text": "OTP"
         }
        }
       }
      }
     },
     "metadata": {},
     "output_type": "display_data"
    }
   ],
   "source": [
    "plot_otp_trend(temp_sets, sharp_points)"
   ]
  },
  {
   "cell_type": "code",
   "execution_count": 9,
   "metadata": {},
   "outputs": [
    {
     "data": {
      "application/vnd.plotly.v1+json": {
       "config": {
        "plotlyServerURL": "https://plot.ly"
       },
       "data": [
        {
         "mode": "lines",
         "name": "Derivative of PEAK",
         "type": "scatter",
         "x": [
          "2016-01",
          "2016-02",
          "2016-03",
          "2016-04",
          "2016-05",
          "2016-06",
          "2016-07",
          "2016-08",
          "2016-09",
          "2016-10",
          "2016-11",
          "2016-12",
          "2017-01",
          "2017-02",
          "2017-03",
          "2017-04",
          "2017-05",
          "2017-06",
          "2017-07",
          "2017-08",
          "2017-09",
          "2017-10",
          "2017-11",
          "2017-12",
          "2018-01",
          "2018-02",
          "2018-03",
          "2018-04",
          "2018-05",
          "2018-06",
          "2018-07",
          "2018-08",
          "2018-09",
          "2018-10",
          "2018-11",
          "2018-12",
          "2019-01",
          "2019-02",
          "2019-03",
          "2019-04",
          "2019-05",
          "2019-06",
          "2019-07",
          "2019-08",
          "2019-09",
          "2019-10",
          "2019-11",
          "2019-12",
          "2020-01",
          "2020-02",
          "2020-03",
          "2020-04",
          "2020-05",
          "2020-06",
          "2020-07",
          "2020-08",
          "2020-09",
          "2020-10",
          "2020-11",
          "2020-12",
          "2021-01",
          "2021-02",
          "2021-03",
          "2021-04",
          "2021-05",
          "2021-06",
          "2021-07",
          "2021-08",
          "2021-09",
          "2021-10",
          "2021-11",
          "2021-12",
          "2022-01",
          "2022-02",
          "2022-03",
          "2022-04",
          "2022-05",
          "2022-06",
          "2022-07",
          "2022-08",
          "2022-09",
          "2022-10",
          "2022-11",
          "2022-12",
          "2023-01",
          "2023-02",
          "2023-03",
          "2023-04",
          "2023-05",
          "2023-06",
          "2023-07",
          "2023-08",
          "2023-09",
          "2023-10",
          "2023-11",
          "2023-12",
          "2024-01",
          "2024-02",
          "2024-03",
          "2024-04",
          "2024-05",
          "2024-06",
          "2024-07",
          "2024-08",
          "2024-09",
          "2024-10",
          "2024-11",
          "2024-12",
          "2025-01",
          "2025-02"
         ],
         "y": {
          "bdata": "AAAAAAAAAAAAYCPZF+ciP4DJgDUNWZu/ADcxFi2Jlb8w3SXhpr2jvwAHJXFPCHo/AMJWNHiCnj/gQT7JbmmRP7CstqFva7m/oF7K8N+vkz8Al5nnC0R/PwAQDK/Qa6Y/AGAR30aZjz+ApVlY96J+vwCY3YMD2H4/AIqDdFalar/gtMi/lb2evwBCUfNCgHS/oGlvGLx+qT8AIPT0pJ9VP8DrwGXFPre/AKBAb6y/Q7+gaR/nS0iaP5CXuw77lKI/QGgWBEbwmL9Q8hh5EDmqP4B/fSZC1oW/QEwXZ7dVg7+wM8tSVUSuvyBNgFdp7aM/4MX4LiFqoj+ACikQmoaNP/j2Uiw3Ube/wHuQiU6tiD/gnUjdjYORPzDgYdg3PqM/QMryS4FCij+AiiEnM92CP0DXaWtaTIq/wCuMQe5vgb+QoJDlj/agvwDVV+Xfe4w/sL2rfhPqpD9Apnx+gyuEP5Aov7XwSrS/IMYCSlDlkz8AdmSjVqdzP0CZ0/9zVog/IP26PZSRrj8A8VshjoRhP4A9poEsfHI/AAAAAAAAAAAAAAAAAAAAAAAAAAAAAAAAQOWdcC4whT8AK7uauNNhP4BKtgVuHHk/AEJ+JlX6Yz9AMHocYLWCvwAzXhUe6nW/gBVZMF8QkD8AFBJ2VmNUv0Bev1zMOIM/AMD89hL9R7/AxKhcl5SMvwBygbyspGK/AKd9JDDbdD8AsoTGVvuFvwhzFMVs0rG/ALx9NaU2aj+AkPSRvhyWP2D/t/aU1Jg/QPOqQaJXnT/gqe0lCq+gvwAqQXQ8Y4Q/AP6a3kyfcD+gjqCUKi2hvwCDCm4GDWI/AD/wqwaZpj+AJxFngY6BvxBCKIZWE7a/gCnMz104ij8As6aYDql7P+DPrlTYnZ8/wOYegUHRiT+AKT/sw0+DP4D/7SEUj3q/oIRvlwrjlL8w1e6uBuCjv+BAhxN6lZQ/4Ah20efRkT8AnetmmUZlP9CUWJrPnLa/AIDNkiFlbz/gXr5IbUyePwDLDg4SvZY/gFsLo0FWkz8A4LGV2Eo/vwAgGpyHEh8/QNtJx6K7hr+wlzQ/D6Gqv3DV7BInKaM/MEqBxZFDpT+ANxPzkh+DPyizoqHFsLS/AJLjxBurXT+Am3YyLbyHPyAh559vy6E/QOgEpjSHrz9wck2Jjy6kvw==",
          "dtype": "f8"
         }
        },
        {
         "mode": "lines",
         "name": "Derivative of OFF_PEAK",
         "type": "scatter",
         "x": [
          "2016-01",
          "2016-02",
          "2016-03",
          "2016-04",
          "2016-05",
          "2016-06",
          "2016-07",
          "2016-08",
          "2016-09",
          "2016-10",
          "2016-11",
          "2016-12",
          "2017-01",
          "2017-02",
          "2017-03",
          "2017-04",
          "2017-05",
          "2017-06",
          "2017-07",
          "2017-08",
          "2017-09",
          "2017-10",
          "2017-11",
          "2017-12",
          "2018-01",
          "2018-02",
          "2018-03",
          "2018-04",
          "2018-05",
          "2018-06",
          "2018-07",
          "2018-08",
          "2018-09",
          "2018-10",
          "2018-11",
          "2018-12",
          "2019-01",
          "2019-02",
          "2019-03",
          "2019-04",
          "2019-05",
          "2019-06",
          "2019-07",
          "2019-08",
          "2019-09",
          "2019-10",
          "2019-11",
          "2019-12",
          "2020-01",
          "2020-02",
          "2020-03",
          "2020-04",
          "2020-05",
          "2020-06",
          "2020-07",
          "2020-08",
          "2020-09",
          "2020-10",
          "2020-11",
          "2020-12",
          "2021-01",
          "2021-02",
          "2021-03",
          "2021-04",
          "2021-05",
          "2021-06",
          "2021-07",
          "2021-08",
          "2021-09",
          "2021-10",
          "2021-11",
          "2021-12",
          "2022-01",
          "2022-02",
          "2022-03",
          "2022-04",
          "2022-05",
          "2022-06",
          "2022-07",
          "2022-08",
          "2022-09",
          "2022-10",
          "2022-11",
          "2022-12",
          "2023-01",
          "2023-02",
          "2023-03",
          "2023-04",
          "2023-05",
          "2023-06",
          "2023-07",
          "2023-08",
          "2023-09",
          "2023-10",
          "2023-11",
          "2023-12",
          "2024-01",
          "2024-02",
          "2024-03",
          "2024-04",
          "2024-05",
          "2024-06",
          "2024-07",
          "2024-08",
          "2024-09",
          "2024-10",
          "2024-11",
          "2024-12",
          "2025-01",
          "2025-02"
         ],
         "y": {
          "bdata": "AAAAAAAAAAAA1dLP0BNivyCMZBcwb6S/ANtja4KxlL+At2kHmzWWv4AFabtcHo6/gAe9bdBygj8Axpwm2P9gv+CcE9R15ZW/gBFgBVXneT/g+hdofliWP0BWuS0oBo4/AKMoZXJKmT+ASCC3p6Oav0BLpE15i4w/gFTrQhfNir+AKJ8EosOGv0Bn11cKZ5q/IJf0czWRlz8AeMt6UlpKP8Cz6672aJK/wFDkWg5Lgb9A5oTPyeWeP8DSkkzhtI4/AGxUBr04ab+gJfT8C7SRP4DI5GMp8ZG/gKNRPFqjcb8A0XGs3Mygv4AueunRhXo/QGX7eHGziT8AOmkM+KBrP2C/fdA1q5i/AAWnenE9kD+A/kWgfqqBPyBwgjlLNJQ/oGc8/oXZkT8Ac1lM3tVrv4C6HoTM/4u/gLK5D2MyhL+Ad8mpgKKUv4ARLmTwEoS/ADhssZ+Wlz8AZLBJN3NZv8CriLrT3oW/gLGqMmqRhz/AZYMjef2JPwDq6sUTmVo/IH6UMTSwoT8AjCKEZdZLv4C66KD18nY/AKhS/hF5g7/gzTRILNORP4C8z9IeK3C/AFTRfjiUZr8Ace+iObRqv8A49KztioM/ALK6ad4GWr8AiM3v9PVWvwCPBI2/63S/wG/nPnW2kD8Aex4PVYVvvwCuffDde28/AFDyfmcVZr9Aq1WPW1yIvwD0VP9gx4a/AFWU+NtZbj9AkCvV4nCFv0CZzDKk55S/AHoTkf++fD/ADtL1QiWPPwDJRXb+cog/wK3ihK+Oij8AI7EYuieMvwAA5nSLkt++gG4mIi/7eb/AIfHuormXvwB4lUu3WXm/AOf//WaIlj+A7IgVRRB8vyA+y2IW1p6/gLMeioJWhj+A3vlr4qeHPwAQGapWwIc/gLKIRfzqjT8AU75Pf2lzv0DiEpAmJIK/QLDvkJ/8g7/AuNlozsybv4Dn+3jHgHq/AKrcjKX0dj8ArCpVSc5sv4Ben27/3Iu/ADIOiJylZL8glMej6mqaP4DuDpnRY3E/QDvI7Ud2lj/AO+4R4jeDv0BeKj4aSYm/QD9WZ59/ir/gOUxeLkyavwA+IK61mGA/gCv/bjYRmj8AanBI8KhWv+CNySxWzpC/AOx74egpbL8ASeyic8WXP4A3P3S3AZA/gLSA3unwoz9gRN9ocoCbvw==",
          "dtype": "f8"
         }
        }
       ],
       "layout": {
        "legend": {
         "title": {
          "text": "Peak/Off-Peak"
         }
        },
        "template": {
         "data": {
          "bar": [
           {
            "error_x": {
             "color": "#2a3f5f"
            },
            "error_y": {
             "color": "#2a3f5f"
            },
            "marker": {
             "line": {
              "color": "#E5ECF6",
              "width": 0.5
             },
             "pattern": {
              "fillmode": "overlay",
              "size": 10,
              "solidity": 0.2
             }
            },
            "type": "bar"
           }
          ],
          "barpolar": [
           {
            "marker": {
             "line": {
              "color": "#E5ECF6",
              "width": 0.5
             },
             "pattern": {
              "fillmode": "overlay",
              "size": 10,
              "solidity": 0.2
             }
            },
            "type": "barpolar"
           }
          ],
          "carpet": [
           {
            "aaxis": {
             "endlinecolor": "#2a3f5f",
             "gridcolor": "white",
             "linecolor": "white",
             "minorgridcolor": "white",
             "startlinecolor": "#2a3f5f"
            },
            "baxis": {
             "endlinecolor": "#2a3f5f",
             "gridcolor": "white",
             "linecolor": "white",
             "minorgridcolor": "white",
             "startlinecolor": "#2a3f5f"
            },
            "type": "carpet"
           }
          ],
          "choropleth": [
           {
            "colorbar": {
             "outlinewidth": 0,
             "ticks": ""
            },
            "type": "choropleth"
           }
          ],
          "contour": [
           {
            "colorbar": {
             "outlinewidth": 0,
             "ticks": ""
            },
            "colorscale": [
             [
              0,
              "#0d0887"
             ],
             [
              0.1111111111111111,
              "#46039f"
             ],
             [
              0.2222222222222222,
              "#7201a8"
             ],
             [
              0.3333333333333333,
              "#9c179e"
             ],
             [
              0.4444444444444444,
              "#bd3786"
             ],
             [
              0.5555555555555556,
              "#d8576b"
             ],
             [
              0.6666666666666666,
              "#ed7953"
             ],
             [
              0.7777777777777778,
              "#fb9f3a"
             ],
             [
              0.8888888888888888,
              "#fdca26"
             ],
             [
              1,
              "#f0f921"
             ]
            ],
            "type": "contour"
           }
          ],
          "contourcarpet": [
           {
            "colorbar": {
             "outlinewidth": 0,
             "ticks": ""
            },
            "type": "contourcarpet"
           }
          ],
          "heatmap": [
           {
            "colorbar": {
             "outlinewidth": 0,
             "ticks": ""
            },
            "colorscale": [
             [
              0,
              "#0d0887"
             ],
             [
              0.1111111111111111,
              "#46039f"
             ],
             [
              0.2222222222222222,
              "#7201a8"
             ],
             [
              0.3333333333333333,
              "#9c179e"
             ],
             [
              0.4444444444444444,
              "#bd3786"
             ],
             [
              0.5555555555555556,
              "#d8576b"
             ],
             [
              0.6666666666666666,
              "#ed7953"
             ],
             [
              0.7777777777777778,
              "#fb9f3a"
             ],
             [
              0.8888888888888888,
              "#fdca26"
             ],
             [
              1,
              "#f0f921"
             ]
            ],
            "type": "heatmap"
           }
          ],
          "histogram": [
           {
            "marker": {
             "pattern": {
              "fillmode": "overlay",
              "size": 10,
              "solidity": 0.2
             }
            },
            "type": "histogram"
           }
          ],
          "histogram2d": [
           {
            "colorbar": {
             "outlinewidth": 0,
             "ticks": ""
            },
            "colorscale": [
             [
              0,
              "#0d0887"
             ],
             [
              0.1111111111111111,
              "#46039f"
             ],
             [
              0.2222222222222222,
              "#7201a8"
             ],
             [
              0.3333333333333333,
              "#9c179e"
             ],
             [
              0.4444444444444444,
              "#bd3786"
             ],
             [
              0.5555555555555556,
              "#d8576b"
             ],
             [
              0.6666666666666666,
              "#ed7953"
             ],
             [
              0.7777777777777778,
              "#fb9f3a"
             ],
             [
              0.8888888888888888,
              "#fdca26"
             ],
             [
              1,
              "#f0f921"
             ]
            ],
            "type": "histogram2d"
           }
          ],
          "histogram2dcontour": [
           {
            "colorbar": {
             "outlinewidth": 0,
             "ticks": ""
            },
            "colorscale": [
             [
              0,
              "#0d0887"
             ],
             [
              0.1111111111111111,
              "#46039f"
             ],
             [
              0.2222222222222222,
              "#7201a8"
             ],
             [
              0.3333333333333333,
              "#9c179e"
             ],
             [
              0.4444444444444444,
              "#bd3786"
             ],
             [
              0.5555555555555556,
              "#d8576b"
             ],
             [
              0.6666666666666666,
              "#ed7953"
             ],
             [
              0.7777777777777778,
              "#fb9f3a"
             ],
             [
              0.8888888888888888,
              "#fdca26"
             ],
             [
              1,
              "#f0f921"
             ]
            ],
            "type": "histogram2dcontour"
           }
          ],
          "mesh3d": [
           {
            "colorbar": {
             "outlinewidth": 0,
             "ticks": ""
            },
            "type": "mesh3d"
           }
          ],
          "parcoords": [
           {
            "line": {
             "colorbar": {
              "outlinewidth": 0,
              "ticks": ""
             }
            },
            "type": "parcoords"
           }
          ],
          "pie": [
           {
            "automargin": true,
            "type": "pie"
           }
          ],
          "scatter": [
           {
            "fillpattern": {
             "fillmode": "overlay",
             "size": 10,
             "solidity": 0.2
            },
            "type": "scatter"
           }
          ],
          "scatter3d": [
           {
            "line": {
             "colorbar": {
              "outlinewidth": 0,
              "ticks": ""
             }
            },
            "marker": {
             "colorbar": {
              "outlinewidth": 0,
              "ticks": ""
             }
            },
            "type": "scatter3d"
           }
          ],
          "scattercarpet": [
           {
            "marker": {
             "colorbar": {
              "outlinewidth": 0,
              "ticks": ""
             }
            },
            "type": "scattercarpet"
           }
          ],
          "scattergeo": [
           {
            "marker": {
             "colorbar": {
              "outlinewidth": 0,
              "ticks": ""
             }
            },
            "type": "scattergeo"
           }
          ],
          "scattergl": [
           {
            "marker": {
             "colorbar": {
              "outlinewidth": 0,
              "ticks": ""
             }
            },
            "type": "scattergl"
           }
          ],
          "scattermap": [
           {
            "marker": {
             "colorbar": {
              "outlinewidth": 0,
              "ticks": ""
             }
            },
            "type": "scattermap"
           }
          ],
          "scattermapbox": [
           {
            "marker": {
             "colorbar": {
              "outlinewidth": 0,
              "ticks": ""
             }
            },
            "type": "scattermapbox"
           }
          ],
          "scatterpolar": [
           {
            "marker": {
             "colorbar": {
              "outlinewidth": 0,
              "ticks": ""
             }
            },
            "type": "scatterpolar"
           }
          ],
          "scatterpolargl": [
           {
            "marker": {
             "colorbar": {
              "outlinewidth": 0,
              "ticks": ""
             }
            },
            "type": "scatterpolargl"
           }
          ],
          "scatterternary": [
           {
            "marker": {
             "colorbar": {
              "outlinewidth": 0,
              "ticks": ""
             }
            },
            "type": "scatterternary"
           }
          ],
          "surface": [
           {
            "colorbar": {
             "outlinewidth": 0,
             "ticks": ""
            },
            "colorscale": [
             [
              0,
              "#0d0887"
             ],
             [
              0.1111111111111111,
              "#46039f"
             ],
             [
              0.2222222222222222,
              "#7201a8"
             ],
             [
              0.3333333333333333,
              "#9c179e"
             ],
             [
              0.4444444444444444,
              "#bd3786"
             ],
             [
              0.5555555555555556,
              "#d8576b"
             ],
             [
              0.6666666666666666,
              "#ed7953"
             ],
             [
              0.7777777777777778,
              "#fb9f3a"
             ],
             [
              0.8888888888888888,
              "#fdca26"
             ],
             [
              1,
              "#f0f921"
             ]
            ],
            "type": "surface"
           }
          ],
          "table": [
           {
            "cells": {
             "fill": {
              "color": "#EBF0F8"
             },
             "line": {
              "color": "white"
             }
            },
            "header": {
             "fill": {
              "color": "#C8D4E3"
             },
             "line": {
              "color": "white"
             }
            },
            "type": "table"
           }
          ]
         },
         "layout": {
          "annotationdefaults": {
           "arrowcolor": "#2a3f5f",
           "arrowhead": 0,
           "arrowwidth": 1
          },
          "autotypenumbers": "strict",
          "coloraxis": {
           "colorbar": {
            "outlinewidth": 0,
            "ticks": ""
           }
          },
          "colorscale": {
           "diverging": [
            [
             0,
             "#8e0152"
            ],
            [
             0.1,
             "#c51b7d"
            ],
            [
             0.2,
             "#de77ae"
            ],
            [
             0.3,
             "#f1b6da"
            ],
            [
             0.4,
             "#fde0ef"
            ],
            [
             0.5,
             "#f7f7f7"
            ],
            [
             0.6,
             "#e6f5d0"
            ],
            [
             0.7,
             "#b8e186"
            ],
            [
             0.8,
             "#7fbc41"
            ],
            [
             0.9,
             "#4d9221"
            ],
            [
             1,
             "#276419"
            ]
           ],
           "sequential": [
            [
             0,
             "#0d0887"
            ],
            [
             0.1111111111111111,
             "#46039f"
            ],
            [
             0.2222222222222222,
             "#7201a8"
            ],
            [
             0.3333333333333333,
             "#9c179e"
            ],
            [
             0.4444444444444444,
             "#bd3786"
            ],
            [
             0.5555555555555556,
             "#d8576b"
            ],
            [
             0.6666666666666666,
             "#ed7953"
            ],
            [
             0.7777777777777778,
             "#fb9f3a"
            ],
            [
             0.8888888888888888,
             "#fdca26"
            ],
            [
             1,
             "#f0f921"
            ]
           ],
           "sequentialminus": [
            [
             0,
             "#0d0887"
            ],
            [
             0.1111111111111111,
             "#46039f"
            ],
            [
             0.2222222222222222,
             "#7201a8"
            ],
            [
             0.3333333333333333,
             "#9c179e"
            ],
            [
             0.4444444444444444,
             "#bd3786"
            ],
            [
             0.5555555555555556,
             "#d8576b"
            ],
            [
             0.6666666666666666,
             "#ed7953"
            ],
            [
             0.7777777777777778,
             "#fb9f3a"
            ],
            [
             0.8888888888888888,
             "#fdca26"
            ],
            [
             1,
             "#f0f921"
            ]
           ]
          },
          "colorway": [
           "#636efa",
           "#EF553B",
           "#00cc96",
           "#ab63fa",
           "#FFA15A",
           "#19d3f3",
           "#FF6692",
           "#B6E880",
           "#FF97FF",
           "#FECB52"
          ],
          "font": {
           "color": "#2a3f5f"
          },
          "geo": {
           "bgcolor": "white",
           "lakecolor": "white",
           "landcolor": "#E5ECF6",
           "showlakes": true,
           "showland": true,
           "subunitcolor": "white"
          },
          "hoverlabel": {
           "align": "left"
          },
          "hovermode": "closest",
          "mapbox": {
           "style": "light"
          },
          "paper_bgcolor": "white",
          "plot_bgcolor": "#E5ECF6",
          "polar": {
           "angularaxis": {
            "gridcolor": "white",
            "linecolor": "white",
            "ticks": ""
           },
           "bgcolor": "#E5ECF6",
           "radialaxis": {
            "gridcolor": "white",
            "linecolor": "white",
            "ticks": ""
           }
          },
          "scene": {
           "xaxis": {
            "backgroundcolor": "#E5ECF6",
            "gridcolor": "white",
            "gridwidth": 2,
            "linecolor": "white",
            "showbackground": true,
            "ticks": "",
            "zerolinecolor": "white"
           },
           "yaxis": {
            "backgroundcolor": "#E5ECF6",
            "gridcolor": "white",
            "gridwidth": 2,
            "linecolor": "white",
            "showbackground": true,
            "ticks": "",
            "zerolinecolor": "white"
           },
           "zaxis": {
            "backgroundcolor": "#E5ECF6",
            "gridcolor": "white",
            "gridwidth": 2,
            "linecolor": "white",
            "showbackground": true,
            "ticks": "",
            "zerolinecolor": "white"
           }
          },
          "shapedefaults": {
           "line": {
            "color": "#2a3f5f"
           }
          },
          "ternary": {
           "aaxis": {
            "gridcolor": "white",
            "linecolor": "white",
            "ticks": ""
           },
           "baxis": {
            "gridcolor": "white",
            "linecolor": "white",
            "ticks": ""
           },
           "bgcolor": "#E5ECF6",
           "caxis": {
            "gridcolor": "white",
            "linecolor": "white",
            "ticks": ""
           }
          },
          "title": {
           "x": 0.05
          },
          "xaxis": {
           "automargin": true,
           "gridcolor": "white",
           "linecolor": "white",
           "ticks": "",
           "title": {
            "standoff": 15
           },
           "zerolinecolor": "white",
           "zerolinewidth": 2
          },
          "yaxis": {
           "automargin": true,
           "gridcolor": "white",
           "linecolor": "white",
           "ticks": "",
           "title": {
            "standoff": 15
           },
           "zerolinecolor": "white",
           "zerolinewidth": 2
          }
         }
        },
        "title": {
         "text": "Month-wise OTP Change Rate (Derivative)"
        },
        "xaxis": {
         "tickangle": 90,
         "title": {
          "text": "Service Month"
         }
        },
        "yaxis": {
         "title": {
          "text": "Change in OTP"
         }
        }
       }
      }
     },
     "metadata": {},
     "output_type": "display_data"
    }
   ],
   "source": [
    "plot_otp_derivative(temp_sets)"
   ]
  },
  {
   "cell_type": "markdown",
   "metadata": {},
   "source": [
    "# On time performance for each bus over the years"
   ]
  },
  {
   "cell_type": "code",
   "execution_count": 11,
   "metadata": {},
   "outputs": [
    {
     "name": "stderr",
     "output_type": "stream",
     "text": [
      "C:\\Users\\astha\\AppData\\Local\\Temp\\ipykernel_44804\\1075755586.py:20: UserWarning:\n",
      "\n",
      "Converting to PeriodArray/Index representation will drop timezone information.\n",
      "\n",
      "C:\\Users\\astha\\AppData\\Local\\Temp\\ipykernel_44804\\1075755586.py:41: SettingWithCopyWarning:\n",
      "\n",
      "\n",
      "A value is trying to be set on a copy of a slice from a DataFrame.\n",
      "Try using .loc[row_indexer,col_indexer] = value instead\n",
      "\n",
      "See the caveats in the documentation: https://pandas.pydata.org/pandas-docs/stable/user_guide/indexing.html#returning-a-view-versus-a-copy\n",
      "\n",
      "C:\\Users\\astha\\AppData\\Local\\Temp\\ipykernel_44804\\1075755586.py:41: SettingWithCopyWarning:\n",
      "\n",
      "\n",
      "A value is trying to be set on a copy of a slice from a DataFrame.\n",
      "Try using .loc[row_indexer,col_indexer] = value instead\n",
      "\n",
      "See the caveats in the documentation: https://pandas.pydata.org/pandas-docs/stable/user_guide/indexing.html#returning-a-view-versus-a-copy\n",
      "\n",
      "C:\\Users\\astha\\AppData\\Local\\Temp\\ipykernel_44804\\1075755586.py:41: SettingWithCopyWarning:\n",
      "\n",
      "\n",
      "A value is trying to be set on a copy of a slice from a DataFrame.\n",
      "Try using .loc[row_indexer,col_indexer] = value instead\n",
      "\n",
      "See the caveats in the documentation: https://pandas.pydata.org/pandas-docs/stable/user_guide/indexing.html#returning-a-view-versus-a-copy\n",
      "\n",
      "C:\\Users\\astha\\AppData\\Local\\Temp\\ipykernel_44804\\1075755586.py:41: SettingWithCopyWarning:\n",
      "\n",
      "\n",
      "A value is trying to be set on a copy of a slice from a DataFrame.\n",
      "Try using .loc[row_indexer,col_indexer] = value instead\n",
      "\n",
      "See the caveats in the documentation: https://pandas.pydata.org/pandas-docs/stable/user_guide/indexing.html#returning-a-view-versus-a-copy\n",
      "\n",
      "C:\\Users\\astha\\AppData\\Local\\Temp\\ipykernel_44804\\1075755586.py:41: SettingWithCopyWarning:\n",
      "\n",
      "\n",
      "A value is trying to be set on a copy of a slice from a DataFrame.\n",
      "Try using .loc[row_indexer,col_indexer] = value instead\n",
      "\n",
      "See the caveats in the documentation: https://pandas.pydata.org/pandas-docs/stable/user_guide/indexing.html#returning-a-view-versus-a-copy\n",
      "\n",
      "C:\\Users\\astha\\AppData\\Local\\Temp\\ipykernel_44804\\1075755586.py:41: SettingWithCopyWarning:\n",
      "\n",
      "\n",
      "A value is trying to be set on a copy of a slice from a DataFrame.\n",
      "Try using .loc[row_indexer,col_indexer] = value instead\n",
      "\n",
      "See the caveats in the documentation: https://pandas.pydata.org/pandas-docs/stable/user_guide/indexing.html#returning-a-view-versus-a-copy\n",
      "\n",
      "C:\\Users\\astha\\AppData\\Local\\Temp\\ipykernel_44804\\1075755586.py:41: SettingWithCopyWarning:\n",
      "\n",
      "\n",
      "A value is trying to be set on a copy of a slice from a DataFrame.\n",
      "Try using .loc[row_indexer,col_indexer] = value instead\n",
      "\n",
      "See the caveats in the documentation: https://pandas.pydata.org/pandas-docs/stable/user_guide/indexing.html#returning-a-view-versus-a-copy\n",
      "\n",
      "C:\\Users\\astha\\AppData\\Local\\Temp\\ipykernel_44804\\1075755586.py:41: SettingWithCopyWarning:\n",
      "\n",
      "\n",
      "A value is trying to be set on a copy of a slice from a DataFrame.\n",
      "Try using .loc[row_indexer,col_indexer] = value instead\n",
      "\n",
      "See the caveats in the documentation: https://pandas.pydata.org/pandas-docs/stable/user_guide/indexing.html#returning-a-view-versus-a-copy\n",
      "\n",
      "C:\\Users\\astha\\AppData\\Local\\Temp\\ipykernel_44804\\1075755586.py:41: SettingWithCopyWarning:\n",
      "\n",
      "\n",
      "A value is trying to be set on a copy of a slice from a DataFrame.\n",
      "Try using .loc[row_indexer,col_indexer] = value instead\n",
      "\n",
      "See the caveats in the documentation: https://pandas.pydata.org/pandas-docs/stable/user_guide/indexing.html#returning-a-view-versus-a-copy\n",
      "\n",
      "C:\\Users\\astha\\AppData\\Local\\Temp\\ipykernel_44804\\1075755586.py:41: SettingWithCopyWarning:\n",
      "\n",
      "\n",
      "A value is trying to be set on a copy of a slice from a DataFrame.\n",
      "Try using .loc[row_indexer,col_indexer] = value instead\n",
      "\n",
      "See the caveats in the documentation: https://pandas.pydata.org/pandas-docs/stable/user_guide/indexing.html#returning-a-view-versus-a-copy\n",
      "\n",
      "C:\\Users\\astha\\AppData\\Local\\Temp\\ipykernel_44804\\1075755586.py:41: SettingWithCopyWarning:\n",
      "\n",
      "\n",
      "A value is trying to be set on a copy of a slice from a DataFrame.\n",
      "Try using .loc[row_indexer,col_indexer] = value instead\n",
      "\n",
      "See the caveats in the documentation: https://pandas.pydata.org/pandas-docs/stable/user_guide/indexing.html#returning-a-view-versus-a-copy\n",
      "\n",
      "C:\\Users\\astha\\AppData\\Local\\Temp\\ipykernel_44804\\1075755586.py:41: SettingWithCopyWarning:\n",
      "\n",
      "\n",
      "A value is trying to be set on a copy of a slice from a DataFrame.\n",
      "Try using .loc[row_indexer,col_indexer] = value instead\n",
      "\n",
      "See the caveats in the documentation: https://pandas.pydata.org/pandas-docs/stable/user_guide/indexing.html#returning-a-view-versus-a-copy\n",
      "\n",
      "C:\\Users\\astha\\AppData\\Local\\Temp\\ipykernel_44804\\1075755586.py:41: SettingWithCopyWarning:\n",
      "\n",
      "\n",
      "A value is trying to be set on a copy of a slice from a DataFrame.\n",
      "Try using .loc[row_indexer,col_indexer] = value instead\n",
      "\n",
      "See the caveats in the documentation: https://pandas.pydata.org/pandas-docs/stable/user_guide/indexing.html#returning-a-view-versus-a-copy\n",
      "\n",
      "C:\\Users\\astha\\AppData\\Local\\Temp\\ipykernel_44804\\1075755586.py:41: SettingWithCopyWarning:\n",
      "\n",
      "\n",
      "A value is trying to be set on a copy of a slice from a DataFrame.\n",
      "Try using .loc[row_indexer,col_indexer] = value instead\n",
      "\n",
      "See the caveats in the documentation: https://pandas.pydata.org/pandas-docs/stable/user_guide/indexing.html#returning-a-view-versus-a-copy\n",
      "\n"
     ]
    },
    {
     "data": {
      "application/vnd.plotly.v1+json": {
       "config": {
        "plotlyServerURL": "https://plot.ly"
       },
       "data": [
        {
         "line": {
          "color": "Maroon"
         },
         "mode": "lines",
         "name": "22",
         "type": "scatter",
         "x": [
          "2016",
          "2017",
          "2018",
          "2019",
          "2020",
          "2021",
          "2022",
          "2023",
          "2024",
          "2025"
         ],
         "y": {
          "bdata": "OmDa0CSU5z9Bv7bhbPfnP+4QBopL+Oc/AAqxj3gp6D9mcwNSnIDpP1O2c1eiY+k/BVrp5ZwQ6T8XRMsIlhXoP8QOravep+c/w4eBSJLA6D8=",
          "dtype": "f8"
         }
        },
        {
         "line": {
          "color": "Grey"
         },
         "mode": "lines",
         "name": "29",
         "type": "scatter",
         "x": [
          "2016",
          "2017",
          "2018",
          "2019",
          "2020",
          "2021",
          "2022",
          "2023",
          "2024",
          "2025"
         ],
         "y": {
          "bdata": "SHehNBqv4D/S8EoCN2nhP5rh5JhbIeA/5FPfbhPx3j/ksk7SULPjP5nebwH2M+M/4r60XVWg4z/O0jhUB8PcPxQ49QXbvNs/caN0P3vN4z8=",
          "dtype": "f8"
         }
        },
        {
         "line": {
          "color": "Olive"
         },
         "mode": "lines",
         "name": "15",
         "type": "scatter",
         "x": [
          "2016",
          "2017",
          "2018",
          "2019",
          "2020",
          "2021",
          "2022",
          "2023",
          "2024",
          "2025"
         ],
         "y": {
          "bdata": "c3oTOGNv5z/53MsiGKTnP/ccpt993+c/ahhhOurV6D/YC8luhZLpP9A3ge9S1ek/Z/16Jonc6T+kr3sqFBTpP+aCwQWskOg/FpH41PL96D8=",
          "dtype": "f8"
         }
        },
        {
         "line": {
          "color": "Teal"
         },
         "mode": "lines",
         "name": "45",
         "type": "scatter",
         "x": [
          "2016",
          "2017",
          "2018",
          "2019",
          "2020",
          "2021",
          "2022",
          "2023",
          "2024",
          "2025"
         ],
         "y": {
          "bdata": "ETRzWqrH5D/QQ3AEnZnkP2rfx8sg7+Q/VP1dt90j5T9xynQL4cflPwCVRfMuA+Y/pJuu3yv+5j8fE84eE87jP4+NrO5RAeI/kw5zCX4W4j8=",
          "dtype": "f8"
         }
        },
        {
         "line": {
          "color": "Navy"
         },
         "mode": "lines",
         "name": "44",
         "type": "scatter",
         "x": [
          "2016",
          "2017",
          "2018",
          "2019",
          "2020",
          "2021",
          "2022",
          "2023",
          "2024",
          "2025"
         ],
         "y": {
          "bdata": "fmThd4MA5D9cBXoG+X/kP53MyZzMyeQ/UunpaqCr5D/WKcGswLHkP7aM0LppP+Y/XMaZrBqm5j9JnAJEFNriPz5e5i/2RuE/Y6pGbFlA4j8=",
          "dtype": "f8"
         }
        },
        {
         "line": {
          "color": "Black"
         },
         "mode": "lines",
         "name": "42",
         "type": "scatter",
         "x": [
          "2016",
          "2017",
          "2018",
          "2019",
          "2020",
          "2021",
          "2022",
          "2023",
          "2024",
          "2025"
         ],
         "y": {
          "bdata": "X4DPiqOk5D8d3QJ/GNDkP6e4+AdkBuU/zyEhdkxu5z8nbtDAr9HmP5QTR0wh7uU/oJU/WJfa5D8dLAUmeoXlP2/TYtKNHeM/Bg4xeHh75T8=",
          "dtype": "f8"
         }
        },
        {
         "line": {
          "color": "Red"
         },
         "mode": "lines",
         "name": "17",
         "type": "scatter",
         "x": [
          "2016",
          "2017",
          "2018",
          "2019",
          "2020",
          "2021",
          "2022",
          "2023",
          "2024",
          "2025"
         ],
         "y": {
          "bdata": "qgQgy2Ut5D+F4NjvpLvkP7Y0cyOtFOY/vb7AD01d5z8OCInx6fTnP2YLwql7Jec/WGqKYxp85j/t8EEjFlDkP3DG1xjFAeI/q9/bnE5R5D8=",
          "dtype": "f8"
         }
        },
        {
         "line": {
          "color": "Orange"
         },
         "mode": "lines",
         "name": "23",
         "type": "scatter",
         "x": [
          "2016",
          "2017",
          "2018",
          "2019",
          "2020",
          "2021",
          "2022",
          "2023",
          "2024",
          "2025"
         ],
         "y": {
          "bdata": "Qv5Pr/6Y5z85Ss1q3mnnP7QNwSstp+c/33nHdvbg5z/HMFBhMhLpP9m62JKcEek/5+QwPY/Y6D/b0cYHKgXoP45eLprpSec/sGlEcACE6D8=",
          "dtype": "f8"
         }
        },
        {
         "line": {
          "color": "Yellow"
         },
         "mode": "lines",
         "name": "31",
         "type": "scatter",
         "x": [
          "2016",
          "2017",
          "2018",
          "2019",
          "2020",
          "2021",
          "2022",
          "2023",
          "2024",
          "2025"
         ],
         "y": {
          "bdata": "kPNuZqj/5z/CrVbVCLHoP02hW2/Jlug/OPSrts216D8btptwPUTqP6dtPPK/Iuo/PPBBIfsj6j8tHPxXkz7pP2VybOt93+g/3XCCM0cv6T8=",
          "dtype": "f8"
         }
        },
        {
         "line": {
          "color": "Green"
         },
         "mode": "lines",
         "name": "26",
         "type": "scatter",
         "x": [
          "2016",
          "2017",
          "2018",
          "2019",
          "2020",
          "2021",
          "2022",
          "2023",
          "2024",
          "2025"
         ],
         "y": {
          "bdata": "qkLAqSMl5D/GI5PnNqPkP/CN5Qhf+eI/oy6BZ7XZ5D9tZdWrG5nmP8yAVP3k0OY/FGmbOTXk5D+79e+HHz3lPyFTWyvj7eM/Tx4TSzOq5T8=",
          "dtype": "f8"
         }
        },
        {
         "line": {
          "color": "Cyan"
         },
         "mode": "lines",
         "name": "111",
         "type": "scatter",
         "x": [
          "2016",
          "2017",
          "2018",
          "2019",
          "2020",
          "2021",
          "2022",
          "2023",
          "2024",
          "2025"
         ],
         "y": {
          "bdata": "nw2H853S6D+3NqP78efoP6WfGvY1dOk/rwcRPhjZ6T9H2r8836vqP4l+KWWWpeo//9FSNTdP6j8eFw1K4UDqP1hXVBcI5uk/jy4fruy86j8=",
          "dtype": "f8"
         }
        },
        {
         "line": {
          "color": "Blue"
         },
         "mode": "lines",
         "name": "24",
         "type": "scatter",
         "x": [
          "2016",
          "2017",
          "2018",
          "2019",
          "2020",
          "2021",
          "2022",
          "2023",
          "2024",
          "2025"
         ],
         "y": {
          "bdata": "l9DctilC5j9u5bneciPmPyeYmf+42uQ/mskwXyi34z9riO6Eia/nP4pqkfKu6eQ/8YtWe43V4z8Lg1XDSFrkP1QMqzIPKuI/iJxEOmZr5T8=",
          "dtype": "f8"
         }
        },
        {
         "line": {
          "color": "Purple"
         },
         "mode": "lines",
         "name": "33",
         "type": "scatter",
         "x": [
          "2016",
          "2017",
          "2018",
          "2019",
          "2020",
          "2021",
          "2022",
          "2023",
          "2024",
          "2025"
         ],
         "y": {
          "bdata": "hfa2XMxl5T+1rXPQkGzmPwTwgDR8K+M/S1odi96Y4z8Ry6e/683mPyIeXrdIJuc/4kU9a1S64z+NW6C7euziP2qkNW9j1OM/9XtNmM4r4z8=",
          "dtype": "f8"
         }
        },
        {
         "line": {
          "color": "Magenta"
         },
         "mode": "lines",
         "name": "14",
         "type": "scatter",
         "x": [
          "2016",
          "2017",
          "2018",
          "2019",
          "2020",
          "2021",
          "2022",
          "2023",
          "2024",
          "2025"
         ],
         "y": {
          "bdata": "pV2GHCNF4D8bZ3M77V3gP+rRqFsqP+A/4Mw2imo/4D+LMKwUGpjhP5sW9tYJMuE/5Js4kQa+4j87irOoSKDhP5/gx/R4cuA/mdOiK4Ls4D8=",
          "dtype": "f8"
         }
        }
       ],
       "layout": {
        "legend": {
         "title": {
          "text": "Bus Routes"
         }
        },
        "template": {
         "data": {
          "bar": [
           {
            "error_x": {
             "color": "#2a3f5f"
            },
            "error_y": {
             "color": "#2a3f5f"
            },
            "marker": {
             "line": {
              "color": "#E5ECF6",
              "width": 0.5
             },
             "pattern": {
              "fillmode": "overlay",
              "size": 10,
              "solidity": 0.2
             }
            },
            "type": "bar"
           }
          ],
          "barpolar": [
           {
            "marker": {
             "line": {
              "color": "#E5ECF6",
              "width": 0.5
             },
             "pattern": {
              "fillmode": "overlay",
              "size": 10,
              "solidity": 0.2
             }
            },
            "type": "barpolar"
           }
          ],
          "carpet": [
           {
            "aaxis": {
             "endlinecolor": "#2a3f5f",
             "gridcolor": "white",
             "linecolor": "white",
             "minorgridcolor": "white",
             "startlinecolor": "#2a3f5f"
            },
            "baxis": {
             "endlinecolor": "#2a3f5f",
             "gridcolor": "white",
             "linecolor": "white",
             "minorgridcolor": "white",
             "startlinecolor": "#2a3f5f"
            },
            "type": "carpet"
           }
          ],
          "choropleth": [
           {
            "colorbar": {
             "outlinewidth": 0,
             "ticks": ""
            },
            "type": "choropleth"
           }
          ],
          "contour": [
           {
            "colorbar": {
             "outlinewidth": 0,
             "ticks": ""
            },
            "colorscale": [
             [
              0,
              "#0d0887"
             ],
             [
              0.1111111111111111,
              "#46039f"
             ],
             [
              0.2222222222222222,
              "#7201a8"
             ],
             [
              0.3333333333333333,
              "#9c179e"
             ],
             [
              0.4444444444444444,
              "#bd3786"
             ],
             [
              0.5555555555555556,
              "#d8576b"
             ],
             [
              0.6666666666666666,
              "#ed7953"
             ],
             [
              0.7777777777777778,
              "#fb9f3a"
             ],
             [
              0.8888888888888888,
              "#fdca26"
             ],
             [
              1,
              "#f0f921"
             ]
            ],
            "type": "contour"
           }
          ],
          "contourcarpet": [
           {
            "colorbar": {
             "outlinewidth": 0,
             "ticks": ""
            },
            "type": "contourcarpet"
           }
          ],
          "heatmap": [
           {
            "colorbar": {
             "outlinewidth": 0,
             "ticks": ""
            },
            "colorscale": [
             [
              0,
              "#0d0887"
             ],
             [
              0.1111111111111111,
              "#46039f"
             ],
             [
              0.2222222222222222,
              "#7201a8"
             ],
             [
              0.3333333333333333,
              "#9c179e"
             ],
             [
              0.4444444444444444,
              "#bd3786"
             ],
             [
              0.5555555555555556,
              "#d8576b"
             ],
             [
              0.6666666666666666,
              "#ed7953"
             ],
             [
              0.7777777777777778,
              "#fb9f3a"
             ],
             [
              0.8888888888888888,
              "#fdca26"
             ],
             [
              1,
              "#f0f921"
             ]
            ],
            "type": "heatmap"
           }
          ],
          "histogram": [
           {
            "marker": {
             "pattern": {
              "fillmode": "overlay",
              "size": 10,
              "solidity": 0.2
             }
            },
            "type": "histogram"
           }
          ],
          "histogram2d": [
           {
            "colorbar": {
             "outlinewidth": 0,
             "ticks": ""
            },
            "colorscale": [
             [
              0,
              "#0d0887"
             ],
             [
              0.1111111111111111,
              "#46039f"
             ],
             [
              0.2222222222222222,
              "#7201a8"
             ],
             [
              0.3333333333333333,
              "#9c179e"
             ],
             [
              0.4444444444444444,
              "#bd3786"
             ],
             [
              0.5555555555555556,
              "#d8576b"
             ],
             [
              0.6666666666666666,
              "#ed7953"
             ],
             [
              0.7777777777777778,
              "#fb9f3a"
             ],
             [
              0.8888888888888888,
              "#fdca26"
             ],
             [
              1,
              "#f0f921"
             ]
            ],
            "type": "histogram2d"
           }
          ],
          "histogram2dcontour": [
           {
            "colorbar": {
             "outlinewidth": 0,
             "ticks": ""
            },
            "colorscale": [
             [
              0,
              "#0d0887"
             ],
             [
              0.1111111111111111,
              "#46039f"
             ],
             [
              0.2222222222222222,
              "#7201a8"
             ],
             [
              0.3333333333333333,
              "#9c179e"
             ],
             [
              0.4444444444444444,
              "#bd3786"
             ],
             [
              0.5555555555555556,
              "#d8576b"
             ],
             [
              0.6666666666666666,
              "#ed7953"
             ],
             [
              0.7777777777777778,
              "#fb9f3a"
             ],
             [
              0.8888888888888888,
              "#fdca26"
             ],
             [
              1,
              "#f0f921"
             ]
            ],
            "type": "histogram2dcontour"
           }
          ],
          "mesh3d": [
           {
            "colorbar": {
             "outlinewidth": 0,
             "ticks": ""
            },
            "type": "mesh3d"
           }
          ],
          "parcoords": [
           {
            "line": {
             "colorbar": {
              "outlinewidth": 0,
              "ticks": ""
             }
            },
            "type": "parcoords"
           }
          ],
          "pie": [
           {
            "automargin": true,
            "type": "pie"
           }
          ],
          "scatter": [
           {
            "fillpattern": {
             "fillmode": "overlay",
             "size": 10,
             "solidity": 0.2
            },
            "type": "scatter"
           }
          ],
          "scatter3d": [
           {
            "line": {
             "colorbar": {
              "outlinewidth": 0,
              "ticks": ""
             }
            },
            "marker": {
             "colorbar": {
              "outlinewidth": 0,
              "ticks": ""
             }
            },
            "type": "scatter3d"
           }
          ],
          "scattercarpet": [
           {
            "marker": {
             "colorbar": {
              "outlinewidth": 0,
              "ticks": ""
             }
            },
            "type": "scattercarpet"
           }
          ],
          "scattergeo": [
           {
            "marker": {
             "colorbar": {
              "outlinewidth": 0,
              "ticks": ""
             }
            },
            "type": "scattergeo"
           }
          ],
          "scattergl": [
           {
            "marker": {
             "colorbar": {
              "outlinewidth": 0,
              "ticks": ""
             }
            },
            "type": "scattergl"
           }
          ],
          "scattermap": [
           {
            "marker": {
             "colorbar": {
              "outlinewidth": 0,
              "ticks": ""
             }
            },
            "type": "scattermap"
           }
          ],
          "scattermapbox": [
           {
            "marker": {
             "colorbar": {
              "outlinewidth": 0,
              "ticks": ""
             }
            },
            "type": "scattermapbox"
           }
          ],
          "scatterpolar": [
           {
            "marker": {
             "colorbar": {
              "outlinewidth": 0,
              "ticks": ""
             }
            },
            "type": "scatterpolar"
           }
          ],
          "scatterpolargl": [
           {
            "marker": {
             "colorbar": {
              "outlinewidth": 0,
              "ticks": ""
             }
            },
            "type": "scatterpolargl"
           }
          ],
          "scatterternary": [
           {
            "marker": {
             "colorbar": {
              "outlinewidth": 0,
              "ticks": ""
             }
            },
            "type": "scatterternary"
           }
          ],
          "surface": [
           {
            "colorbar": {
             "outlinewidth": 0,
             "ticks": ""
            },
            "colorscale": [
             [
              0,
              "#0d0887"
             ],
             [
              0.1111111111111111,
              "#46039f"
             ],
             [
              0.2222222222222222,
              "#7201a8"
             ],
             [
              0.3333333333333333,
              "#9c179e"
             ],
             [
              0.4444444444444444,
              "#bd3786"
             ],
             [
              0.5555555555555556,
              "#d8576b"
             ],
             [
              0.6666666666666666,
              "#ed7953"
             ],
             [
              0.7777777777777778,
              "#fb9f3a"
             ],
             [
              0.8888888888888888,
              "#fdca26"
             ],
             [
              1,
              "#f0f921"
             ]
            ],
            "type": "surface"
           }
          ],
          "table": [
           {
            "cells": {
             "fill": {
              "color": "#EBF0F8"
             },
             "line": {
              "color": "white"
             }
            },
            "header": {
             "fill": {
              "color": "#C8D4E3"
             },
             "line": {
              "color": "white"
             }
            },
            "type": "table"
           }
          ]
         },
         "layout": {
          "annotationdefaults": {
           "arrowcolor": "#2a3f5f",
           "arrowhead": 0,
           "arrowwidth": 1
          },
          "autotypenumbers": "strict",
          "coloraxis": {
           "colorbar": {
            "outlinewidth": 0,
            "ticks": ""
           }
          },
          "colorscale": {
           "diverging": [
            [
             0,
             "#8e0152"
            ],
            [
             0.1,
             "#c51b7d"
            ],
            [
             0.2,
             "#de77ae"
            ],
            [
             0.3,
             "#f1b6da"
            ],
            [
             0.4,
             "#fde0ef"
            ],
            [
             0.5,
             "#f7f7f7"
            ],
            [
             0.6,
             "#e6f5d0"
            ],
            [
             0.7,
             "#b8e186"
            ],
            [
             0.8,
             "#7fbc41"
            ],
            [
             0.9,
             "#4d9221"
            ],
            [
             1,
             "#276419"
            ]
           ],
           "sequential": [
            [
             0,
             "#0d0887"
            ],
            [
             0.1111111111111111,
             "#46039f"
            ],
            [
             0.2222222222222222,
             "#7201a8"
            ],
            [
             0.3333333333333333,
             "#9c179e"
            ],
            [
             0.4444444444444444,
             "#bd3786"
            ],
            [
             0.5555555555555556,
             "#d8576b"
            ],
            [
             0.6666666666666666,
             "#ed7953"
            ],
            [
             0.7777777777777778,
             "#fb9f3a"
            ],
            [
             0.8888888888888888,
             "#fdca26"
            ],
            [
             1,
             "#f0f921"
            ]
           ],
           "sequentialminus": [
            [
             0,
             "#0d0887"
            ],
            [
             0.1111111111111111,
             "#46039f"
            ],
            [
             0.2222222222222222,
             "#7201a8"
            ],
            [
             0.3333333333333333,
             "#9c179e"
            ],
            [
             0.4444444444444444,
             "#bd3786"
            ],
            [
             0.5555555555555556,
             "#d8576b"
            ],
            [
             0.6666666666666666,
             "#ed7953"
            ],
            [
             0.7777777777777778,
             "#fb9f3a"
            ],
            [
             0.8888888888888888,
             "#fdca26"
            ],
            [
             1,
             "#f0f921"
            ]
           ]
          },
          "colorway": [
           "#636efa",
           "#EF553B",
           "#00cc96",
           "#ab63fa",
           "#FFA15A",
           "#19d3f3",
           "#FF6692",
           "#B6E880",
           "#FF97FF",
           "#FECB52"
          ],
          "font": {
           "color": "#2a3f5f"
          },
          "geo": {
           "bgcolor": "white",
           "lakecolor": "white",
           "landcolor": "#E5ECF6",
           "showlakes": true,
           "showland": true,
           "subunitcolor": "white"
          },
          "hoverlabel": {
           "align": "left"
          },
          "hovermode": "closest",
          "mapbox": {
           "style": "light"
          },
          "paper_bgcolor": "white",
          "plot_bgcolor": "#E5ECF6",
          "polar": {
           "angularaxis": {
            "gridcolor": "white",
            "linecolor": "white",
            "ticks": ""
           },
           "bgcolor": "#E5ECF6",
           "radialaxis": {
            "gridcolor": "white",
            "linecolor": "white",
            "ticks": ""
           }
          },
          "scene": {
           "xaxis": {
            "backgroundcolor": "#E5ECF6",
            "gridcolor": "white",
            "gridwidth": 2,
            "linecolor": "white",
            "showbackground": true,
            "ticks": "",
            "zerolinecolor": "white"
           },
           "yaxis": {
            "backgroundcolor": "#E5ECF6",
            "gridcolor": "white",
            "gridwidth": 2,
            "linecolor": "white",
            "showbackground": true,
            "ticks": "",
            "zerolinecolor": "white"
           },
           "zaxis": {
            "backgroundcolor": "#E5ECF6",
            "gridcolor": "white",
            "gridwidth": 2,
            "linecolor": "white",
            "showbackground": true,
            "ticks": "",
            "zerolinecolor": "white"
           }
          },
          "shapedefaults": {
           "line": {
            "color": "#2a3f5f"
           }
          },
          "ternary": {
           "aaxis": {
            "gridcolor": "white",
            "linecolor": "white",
            "ticks": ""
           },
           "baxis": {
            "gridcolor": "white",
            "linecolor": "white",
            "ticks": ""
           },
           "bgcolor": "#E5ECF6",
           "caxis": {
            "gridcolor": "white",
            "linecolor": "white",
            "ticks": ""
           }
          },
          "title": {
           "x": 0.05
          },
          "xaxis": {
           "automargin": true,
           "gridcolor": "white",
           "linecolor": "white",
           "ticks": "",
           "title": {
            "standoff": 15
           },
           "zerolinecolor": "white",
           "zerolinewidth": 2
          },
          "yaxis": {
           "automargin": true,
           "gridcolor": "white",
           "linecolor": "white",
           "ticks": "",
           "title": {
            "standoff": 15
           },
           "zerolinecolor": "white",
           "zerolinewidth": 2
          }
         }
        },
        "title": {
         "text": "OTP Bus wise, every 6 months"
        },
        "xaxis": {
         "tickangle": 90,
         "title": {
          "text": "Service 6-Month Period"
         }
        },
        "yaxis": {
         "title": {
          "text": "OTP"
         }
        }
       }
      }
     },
     "metadata": {},
     "output_type": "display_data"
    }
   ],
   "source": [
    "def prepare_data(bus_data):\n",
    "    \"\"\"\n",
    "    Prepares the bus data by converting the service date to periods and \n",
    "    aggregating OTP values by route and date.\n",
    "    \n",
    "    Args:\n",
    "    bus_data (DataFrame): The raw bus data containing service_date, otp_numerator, and otp_denominator.\n",
    "\n",
    "    Returns:\n",
    "    DataFrame: Processed data grouped by route and date, with OTP values calculated.\n",
    "    \"\"\"\n",
    "    route_level_data = bus_data.copy()\n",
    "\n",
    "    # Ensure the route short name is set properly\n",
    "    route_level_data.loc[:, 'gtfs_route_short_name'] = route_level_data['gtfs_route_short_name'].where(\n",
    "        route_level_data['gtfs_route_short_name'].notna(), route_level_data['gtfs_route_id']\n",
    "    )\n",
    "\n",
    "    # Convert service_date to datetime and then to 6-month periods\n",
    "    route_level_data.loc[:, 'date'] = pd.to_datetime(route_level_data['service_date']).dt.to_period('Y')\n",
    "    route_level_data = route_level_data.groupby(['gtfs_route_short_name', 'date']).agg({'otp_numerator': 'sum', 'otp_denominator': 'sum'}).reset_index()\n",
    "    \n",
    "    return route_level_data\n",
    "\n",
    "def plot_otp(route_level_data, important_routes, color_palette):\n",
    "    \"\"\"\n",
    "    Plots OTP data for the specified important bus routes using Plotly.\n",
    "    \n",
    "    Args:\n",
    "    route_level_data (DataFrame): The processed bus data with OTP values.\n",
    "    important_routes (list): List of bus routes to plot.\n",
    "    color_palette (list): List of colors for the plot.\n",
    "    \n",
    "    Returns:\n",
    "    None: Displays the plot.\n",
    "    \"\"\"\n",
    "    fig = go.Figure()\n",
    "\n",
    "    for idx, bus_name in enumerate(important_routes):\n",
    "        single_bus_data = route_level_data[route_level_data['gtfs_route_short_name'] == bus_name]\n",
    "        single_bus_data['otp'] = single_bus_data['otp_numerator'] / single_bus_data['otp_denominator']\n",
    "\n",
    "        # Add a line for each bus route\n",
    "        fig.add_trace(go.Scatter(\n",
    "            x=single_bus_data['date'].astype(str),\n",
    "            y=single_bus_data['otp'],\n",
    "            mode='lines',\n",
    "            name=bus_name,\n",
    "            line=dict(color=color_palette[idx])\n",
    "        ))\n",
    "\n",
    "    # Customize the layout\n",
    "    fig.update_layout(\n",
    "        title='OTP Bus wise, every 6 months',\n",
    "        xaxis_title='Service 6-Month Period',\n",
    "        yaxis_title='OTP',\n",
    "        legend_title='Bus Routes',\n",
    "        xaxis_tickangle=90\n",
    "    )\n",
    "\n",
    "    fig.show()\n",
    "    pio.write_html(fig, \"./Plots/Reliability/OTP_performance.html\")\n",
    "\n",
    "route_level_data = prepare_data(bus_data)\n",
    "important_routes = ['22', '29', '15', '45', '44', '42', '17', '23', '31', '26', '111', '24', '33', '14']\n",
    "color_palette = [\"Maroon\", \"Grey\", \"Olive\", \"Teal\", \"Navy\", \"Black\", \"Red\", \"Orange\", \"Yellow\", \"Green\", \"Cyan\", \"Blue\", \"Purple\", \"Magenta\"]\n",
    "plot_otp(route_level_data, important_routes, color_palette)"
   ]
  }
 ],
 "metadata": {
  "kernelspec": {
   "display_name": "Python 3",
   "language": "python",
   "name": "python3"
  },
  "language_info": {
   "codemirror_mode": {
    "name": "ipython",
    "version": 3
   },
   "file_extension": ".py",
   "mimetype": "text/x-python",
   "name": "python",
   "nbconvert_exporter": "python",
   "pygments_lexer": "ipython3",
   "version": "3.13.1"
  }
 },
 "nbformat": 4,
 "nbformat_minor": 2
}
