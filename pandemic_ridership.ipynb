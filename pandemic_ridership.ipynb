{
 "cells": [
  {
   "cell_type": "code",
   "execution_count": 2,
   "metadata": {},
   "outputs": [],
   "source": [
    "import pandas as pd\n",
    "import matplotlib.pyplot as plt\n",
    "import seaborn as sns\n",
    "from datetime import datetime\n",
    "import os\n",
    "import plotly.graph_objects as go\n",
    "import plotly.express as px\n",
    "import plotly.io as pio\n",
    "# df = pd.read_csv(os.path.join('data','MBTA_Monthly_Ridership_By_Mode_and_Line.csv'))"
   ]
  },
  {
   "cell_type": "code",
   "execution_count": 4,
   "metadata": {},
   "outputs": [
    {
     "name": "stderr",
     "output_type": "stream",
     "text": [
      "C:\\Users\\astha\\AppData\\Local\\Temp\\ipykernel_16060\\2411114795.py:12: SettingWithCopyWarning:\n",
      "\n",
      "\n",
      "A value is trying to be set on a copy of a slice from a DataFrame.\n",
      "Try using .loc[row_indexer,col_indexer] = value instead\n",
      "\n",
      "See the caveats in the documentation: https://pandas.pydata.org/pandas-docs/stable/user_guide/indexing.html#returning-a-view-versus-a-copy\n",
      "\n",
      "C:\\Users\\astha\\AppData\\Local\\Temp\\ipykernel_16060\\2411114795.py:13: SettingWithCopyWarning:\n",
      "\n",
      "\n",
      "A value is trying to be set on a copy of a slice from a DataFrame.\n",
      "Try using .loc[row_indexer,col_indexer] = value instead\n",
      "\n",
      "See the caveats in the documentation: https://pandas.pydata.org/pandas-docs/stable/user_guide/indexing.html#returning-a-view-versus-a-copy\n",
      "\n",
      "C:\\Users\\astha\\AppData\\Local\\Temp\\ipykernel_16060\\2411114795.py:14: SettingWithCopyWarning:\n",
      "\n",
      "\n",
      "A value is trying to be set on a copy of a slice from a DataFrame.\n",
      "Try using .loc[row_indexer,col_indexer] = value instead\n",
      "\n",
      "See the caveats in the documentation: https://pandas.pydata.org/pandas-docs/stable/user_guide/indexing.html#returning-a-view-versus-a-copy\n",
      "\n",
      "C:\\Users\\astha\\AppData\\Local\\Temp\\ipykernel_16060\\2411114795.py:15: SettingWithCopyWarning:\n",
      "\n",
      "\n",
      "A value is trying to be set on a copy of a slice from a DataFrame.\n",
      "Try using .loc[row_indexer,col_indexer] = value instead\n",
      "\n",
      "See the caveats in the documentation: https://pandas.pydata.org/pandas-docs/stable/user_guide/indexing.html#returning-a-view-versus-a-copy\n",
      "\n",
      "C:\\Users\\astha\\AppData\\Local\\Temp\\ipykernel_16060\\2411114795.py:16: SettingWithCopyWarning:\n",
      "\n",
      "\n",
      "A value is trying to be set on a copy of a slice from a DataFrame.\n",
      "Try using .loc[row_indexer,col_indexer] = value instead\n",
      "\n",
      "See the caveats in the documentation: https://pandas.pydata.org/pandas-docs/stable/user_guide/indexing.html#returning-a-view-versus-a-copy\n",
      "\n",
      "C:\\Users\\astha\\AppData\\Local\\Temp\\ipykernel_16060\\2411114795.py:17: SettingWithCopyWarning:\n",
      "\n",
      "\n",
      "A value is trying to be set on a copy of a slice from a DataFrame.\n",
      "Try using .loc[row_indexer,col_indexer] = value instead\n",
      "\n",
      "See the caveats in the documentation: https://pandas.pydata.org/pandas-docs/stable/user_guide/indexing.html#returning-a-view-versus-a-copy\n",
      "\n"
     ]
    },
    {
     "data": {
      "application/vnd.plotly.v1+json": {
       "config": {
        "plotlyServerURL": "https://plot.ly"
       },
       "data": [
        {
         "mode": "lines+markers",
         "name": "All Bus",
         "type": "scatter",
         "x": [
          "2018-H2",
          "2019-H1",
          "2019-H2",
          "2020-H1",
          "2020-H2",
          "2021-H1",
          "2021-H2",
          "2022-H1",
          "2022-H2",
          "2023-H1",
          "2023-H2",
          "2024-H1",
          "2024-H2"
         ],
         "y": {
          "bdata": "AAAANEy/m0EAAACMvF2bQQAAAID8FpxBAAAAkJUhkEEAAAAYb9+IQQAAAKDkcYpBAAAASLn1kUEAAAB0xVmSQQAAAJi1NZRBAAAAsN1xlEEAAADU9IiVQQAAAMB/wZVBAAAA7JPQlkE=",
          "dtype": "f8"
         }
        },
        {
         "mode": "lines+markers",
         "name": "Private Bus",
         "type": "scatter",
         "x": [
          "2018-H2",
          "2019-H1",
          "2019-H2",
          "2020-H1",
          "2020-H2",
          "2021-H1",
          "2021-H2",
          "2022-H1",
          "2022-H2",
          "2023-H1",
          "2023-H2",
          "2024-H1",
          "2024-H2"
         ],
         "y": {
          "bdata": "AAAAAKCNKkEAAAAAZAoqQQAAAAB62y5BAAAAAPyRI0EAAAAAcIIaQQAAAACk0BhBAAAAALg/H0EAAAAAKnQgQQAAAADuCyRBAAAAAKDUJEEAAAAAwLb9QAAAAAAAAPh/AAAAAAAA+H8=",
          "dtype": "f8"
         }
        },
        {
         "mode": "lines+markers",
         "name": "Silver Line",
         "type": "scatter",
         "x": [
          "2018-H2",
          "2019-H1",
          "2019-H2",
          "2020-H1",
          "2020-H2",
          "2021-H1",
          "2021-H2",
          "2022-H1",
          "2022-H2",
          "2023-H1",
          "2023-H2",
          "2024-H1",
          "2024-H2"
         ],
         "y": {
          "bdata": "AAAAgMAiZkEAAADgGt9lQQAAAODHq2ZBAAAAwEzFWEEAAABAiJdRQQAAAEDfEFNBAAAAQBbeW0EAAADAGfRcQQAAAMBaz2BBAAAAwOCTYEEAAABgnwdjQQAAAOAqXGJBAAAA4B08ZEE=",
          "dtype": "f8"
         }
        }
       ],
       "layout": {
        "showlegend": true,
        "template": {
         "data": {
          "bar": [
           {
            "error_x": {
             "color": "#2a3f5f"
            },
            "error_y": {
             "color": "#2a3f5f"
            },
            "marker": {
             "line": {
              "color": "#E5ECF6",
              "width": 0.5
             },
             "pattern": {
              "fillmode": "overlay",
              "size": 10,
              "solidity": 0.2
             }
            },
            "type": "bar"
           }
          ],
          "barpolar": [
           {
            "marker": {
             "line": {
              "color": "#E5ECF6",
              "width": 0.5
             },
             "pattern": {
              "fillmode": "overlay",
              "size": 10,
              "solidity": 0.2
             }
            },
            "type": "barpolar"
           }
          ],
          "carpet": [
           {
            "aaxis": {
             "endlinecolor": "#2a3f5f",
             "gridcolor": "white",
             "linecolor": "white",
             "minorgridcolor": "white",
             "startlinecolor": "#2a3f5f"
            },
            "baxis": {
             "endlinecolor": "#2a3f5f",
             "gridcolor": "white",
             "linecolor": "white",
             "minorgridcolor": "white",
             "startlinecolor": "#2a3f5f"
            },
            "type": "carpet"
           }
          ],
          "choropleth": [
           {
            "colorbar": {
             "outlinewidth": 0,
             "ticks": ""
            },
            "type": "choropleth"
           }
          ],
          "contour": [
           {
            "colorbar": {
             "outlinewidth": 0,
             "ticks": ""
            },
            "colorscale": [
             [
              0,
              "#0d0887"
             ],
             [
              0.1111111111111111,
              "#46039f"
             ],
             [
              0.2222222222222222,
              "#7201a8"
             ],
             [
              0.3333333333333333,
              "#9c179e"
             ],
             [
              0.4444444444444444,
              "#bd3786"
             ],
             [
              0.5555555555555556,
              "#d8576b"
             ],
             [
              0.6666666666666666,
              "#ed7953"
             ],
             [
              0.7777777777777778,
              "#fb9f3a"
             ],
             [
              0.8888888888888888,
              "#fdca26"
             ],
             [
              1,
              "#f0f921"
             ]
            ],
            "type": "contour"
           }
          ],
          "contourcarpet": [
           {
            "colorbar": {
             "outlinewidth": 0,
             "ticks": ""
            },
            "type": "contourcarpet"
           }
          ],
          "heatmap": [
           {
            "colorbar": {
             "outlinewidth": 0,
             "ticks": ""
            },
            "colorscale": [
             [
              0,
              "#0d0887"
             ],
             [
              0.1111111111111111,
              "#46039f"
             ],
             [
              0.2222222222222222,
              "#7201a8"
             ],
             [
              0.3333333333333333,
              "#9c179e"
             ],
             [
              0.4444444444444444,
              "#bd3786"
             ],
             [
              0.5555555555555556,
              "#d8576b"
             ],
             [
              0.6666666666666666,
              "#ed7953"
             ],
             [
              0.7777777777777778,
              "#fb9f3a"
             ],
             [
              0.8888888888888888,
              "#fdca26"
             ],
             [
              1,
              "#f0f921"
             ]
            ],
            "type": "heatmap"
           }
          ],
          "histogram": [
           {
            "marker": {
             "pattern": {
              "fillmode": "overlay",
              "size": 10,
              "solidity": 0.2
             }
            },
            "type": "histogram"
           }
          ],
          "histogram2d": [
           {
            "colorbar": {
             "outlinewidth": 0,
             "ticks": ""
            },
            "colorscale": [
             [
              0,
              "#0d0887"
             ],
             [
              0.1111111111111111,
              "#46039f"
             ],
             [
              0.2222222222222222,
              "#7201a8"
             ],
             [
              0.3333333333333333,
              "#9c179e"
             ],
             [
              0.4444444444444444,
              "#bd3786"
             ],
             [
              0.5555555555555556,
              "#d8576b"
             ],
             [
              0.6666666666666666,
              "#ed7953"
             ],
             [
              0.7777777777777778,
              "#fb9f3a"
             ],
             [
              0.8888888888888888,
              "#fdca26"
             ],
             [
              1,
              "#f0f921"
             ]
            ],
            "type": "histogram2d"
           }
          ],
          "histogram2dcontour": [
           {
            "colorbar": {
             "outlinewidth": 0,
             "ticks": ""
            },
            "colorscale": [
             [
              0,
              "#0d0887"
             ],
             [
              0.1111111111111111,
              "#46039f"
             ],
             [
              0.2222222222222222,
              "#7201a8"
             ],
             [
              0.3333333333333333,
              "#9c179e"
             ],
             [
              0.4444444444444444,
              "#bd3786"
             ],
             [
              0.5555555555555556,
              "#d8576b"
             ],
             [
              0.6666666666666666,
              "#ed7953"
             ],
             [
              0.7777777777777778,
              "#fb9f3a"
             ],
             [
              0.8888888888888888,
              "#fdca26"
             ],
             [
              1,
              "#f0f921"
             ]
            ],
            "type": "histogram2dcontour"
           }
          ],
          "mesh3d": [
           {
            "colorbar": {
             "outlinewidth": 0,
             "ticks": ""
            },
            "type": "mesh3d"
           }
          ],
          "parcoords": [
           {
            "line": {
             "colorbar": {
              "outlinewidth": 0,
              "ticks": ""
             }
            },
            "type": "parcoords"
           }
          ],
          "pie": [
           {
            "automargin": true,
            "type": "pie"
           }
          ],
          "scatter": [
           {
            "fillpattern": {
             "fillmode": "overlay",
             "size": 10,
             "solidity": 0.2
            },
            "type": "scatter"
           }
          ],
          "scatter3d": [
           {
            "line": {
             "colorbar": {
              "outlinewidth": 0,
              "ticks": ""
             }
            },
            "marker": {
             "colorbar": {
              "outlinewidth": 0,
              "ticks": ""
             }
            },
            "type": "scatter3d"
           }
          ],
          "scattercarpet": [
           {
            "marker": {
             "colorbar": {
              "outlinewidth": 0,
              "ticks": ""
             }
            },
            "type": "scattercarpet"
           }
          ],
          "scattergeo": [
           {
            "marker": {
             "colorbar": {
              "outlinewidth": 0,
              "ticks": ""
             }
            },
            "type": "scattergeo"
           }
          ],
          "scattergl": [
           {
            "marker": {
             "colorbar": {
              "outlinewidth": 0,
              "ticks": ""
             }
            },
            "type": "scattergl"
           }
          ],
          "scattermap": [
           {
            "marker": {
             "colorbar": {
              "outlinewidth": 0,
              "ticks": ""
             }
            },
            "type": "scattermap"
           }
          ],
          "scattermapbox": [
           {
            "marker": {
             "colorbar": {
              "outlinewidth": 0,
              "ticks": ""
             }
            },
            "type": "scattermapbox"
           }
          ],
          "scatterpolar": [
           {
            "marker": {
             "colorbar": {
              "outlinewidth": 0,
              "ticks": ""
             }
            },
            "type": "scatterpolar"
           }
          ],
          "scatterpolargl": [
           {
            "marker": {
             "colorbar": {
              "outlinewidth": 0,
              "ticks": ""
             }
            },
            "type": "scatterpolargl"
           }
          ],
          "scatterternary": [
           {
            "marker": {
             "colorbar": {
              "outlinewidth": 0,
              "ticks": ""
             }
            },
            "type": "scatterternary"
           }
          ],
          "surface": [
           {
            "colorbar": {
             "outlinewidth": 0,
             "ticks": ""
            },
            "colorscale": [
             [
              0,
              "#0d0887"
             ],
             [
              0.1111111111111111,
              "#46039f"
             ],
             [
              0.2222222222222222,
              "#7201a8"
             ],
             [
              0.3333333333333333,
              "#9c179e"
             ],
             [
              0.4444444444444444,
              "#bd3786"
             ],
             [
              0.5555555555555556,
              "#d8576b"
             ],
             [
              0.6666666666666666,
              "#ed7953"
             ],
             [
              0.7777777777777778,
              "#fb9f3a"
             ],
             [
              0.8888888888888888,
              "#fdca26"
             ],
             [
              1,
              "#f0f921"
             ]
            ],
            "type": "surface"
           }
          ],
          "table": [
           {
            "cells": {
             "fill": {
              "color": "#EBF0F8"
             },
             "line": {
              "color": "white"
             }
            },
            "header": {
             "fill": {
              "color": "#C8D4E3"
             },
             "line": {
              "color": "white"
             }
            },
            "type": "table"
           }
          ]
         },
         "layout": {
          "annotationdefaults": {
           "arrowcolor": "#2a3f5f",
           "arrowhead": 0,
           "arrowwidth": 1
          },
          "autotypenumbers": "strict",
          "coloraxis": {
           "colorbar": {
            "outlinewidth": 0,
            "ticks": ""
           }
          },
          "colorscale": {
           "diverging": [
            [
             0,
             "#8e0152"
            ],
            [
             0.1,
             "#c51b7d"
            ],
            [
             0.2,
             "#de77ae"
            ],
            [
             0.3,
             "#f1b6da"
            ],
            [
             0.4,
             "#fde0ef"
            ],
            [
             0.5,
             "#f7f7f7"
            ],
            [
             0.6,
             "#e6f5d0"
            ],
            [
             0.7,
             "#b8e186"
            ],
            [
             0.8,
             "#7fbc41"
            ],
            [
             0.9,
             "#4d9221"
            ],
            [
             1,
             "#276419"
            ]
           ],
           "sequential": [
            [
             0,
             "#0d0887"
            ],
            [
             0.1111111111111111,
             "#46039f"
            ],
            [
             0.2222222222222222,
             "#7201a8"
            ],
            [
             0.3333333333333333,
             "#9c179e"
            ],
            [
             0.4444444444444444,
             "#bd3786"
            ],
            [
             0.5555555555555556,
             "#d8576b"
            ],
            [
             0.6666666666666666,
             "#ed7953"
            ],
            [
             0.7777777777777778,
             "#fb9f3a"
            ],
            [
             0.8888888888888888,
             "#fdca26"
            ],
            [
             1,
             "#f0f921"
            ]
           ],
           "sequentialminus": [
            [
             0,
             "#0d0887"
            ],
            [
             0.1111111111111111,
             "#46039f"
            ],
            [
             0.2222222222222222,
             "#7201a8"
            ],
            [
             0.3333333333333333,
             "#9c179e"
            ],
            [
             0.4444444444444444,
             "#bd3786"
            ],
            [
             0.5555555555555556,
             "#d8576b"
            ],
            [
             0.6666666666666666,
             "#ed7953"
            ],
            [
             0.7777777777777778,
             "#fb9f3a"
            ],
            [
             0.8888888888888888,
             "#fdca26"
            ],
            [
             1,
             "#f0f921"
            ]
           ]
          },
          "colorway": [
           "#636efa",
           "#EF553B",
           "#00cc96",
           "#ab63fa",
           "#FFA15A",
           "#19d3f3",
           "#FF6692",
           "#B6E880",
           "#FF97FF",
           "#FECB52"
          ],
          "font": {
           "color": "#2a3f5f"
          },
          "geo": {
           "bgcolor": "white",
           "lakecolor": "white",
           "landcolor": "#E5ECF6",
           "showlakes": true,
           "showland": true,
           "subunitcolor": "white"
          },
          "hoverlabel": {
           "align": "left"
          },
          "hovermode": "closest",
          "mapbox": {
           "style": "light"
          },
          "paper_bgcolor": "white",
          "plot_bgcolor": "#E5ECF6",
          "polar": {
           "angularaxis": {
            "gridcolor": "white",
            "linecolor": "white",
            "ticks": ""
           },
           "bgcolor": "#E5ECF6",
           "radialaxis": {
            "gridcolor": "white",
            "linecolor": "white",
            "ticks": ""
           }
          },
          "scene": {
           "xaxis": {
            "backgroundcolor": "#E5ECF6",
            "gridcolor": "white",
            "gridwidth": 2,
            "linecolor": "white",
            "showbackground": true,
            "ticks": "",
            "zerolinecolor": "white"
           },
           "yaxis": {
            "backgroundcolor": "#E5ECF6",
            "gridcolor": "white",
            "gridwidth": 2,
            "linecolor": "white",
            "showbackground": true,
            "ticks": "",
            "zerolinecolor": "white"
           },
           "zaxis": {
            "backgroundcolor": "#E5ECF6",
            "gridcolor": "white",
            "gridwidth": 2,
            "linecolor": "white",
            "showbackground": true,
            "ticks": "",
            "zerolinecolor": "white"
           }
          },
          "shapedefaults": {
           "line": {
            "color": "#2a3f5f"
           }
          },
          "ternary": {
           "aaxis": {
            "gridcolor": "white",
            "linecolor": "white",
            "ticks": ""
           },
           "baxis": {
            "gridcolor": "white",
            "linecolor": "white",
            "ticks": ""
           },
           "bgcolor": "#E5ECF6",
           "caxis": {
            "gridcolor": "white",
            "linecolor": "white",
            "ticks": ""
           }
          },
          "title": {
           "x": 0.05
          },
          "xaxis": {
           "automargin": true,
           "gridcolor": "white",
           "linecolor": "white",
           "ticks": "",
           "title": {
            "standoff": 15
           },
           "zerolinecolor": "white",
           "zerolinewidth": 2
          },
          "yaxis": {
           "automargin": true,
           "gridcolor": "white",
           "linecolor": "white",
           "ticks": "",
           "title": {
            "standoff": 15
           },
           "zerolinecolor": "white",
           "zerolinewidth": 2
          }
         }
        },
        "title": {
         "text": "Ridership Trends by Route (6-Month Intervals)"
        },
        "xaxis": {
         "tickangle": 45,
         "title": {
          "text": "6-Month Period"
         }
        },
        "yaxis": {
         "title": {
          "text": "Total Ridership"
         }
        }
       }
      }
     },
     "metadata": {},
     "output_type": "display_data"
    },
    {
     "data": {
      "application/vnd.plotly.v1+json": {
       "config": {
        "plotlyServerURL": "https://plot.ly"
       },
       "data": [
        {
         "hovertemplate": "pandemic_period=After Pandemic<br>route_or_line=%{x}<br>Average Ridership per 6-Month Period=%{y}<extra></extra>",
         "legendgroup": "After Pandemic",
         "marker": {
          "color": "#636efa",
          "pattern": {
           "shape": ""
          }
         },
         "name": "After Pandemic",
         "orientation": "v",
         "showlegend": true,
         "textposition": "auto",
         "type": "bar",
         "x": [
          "All Bus",
          "Private Bus",
          "Silver Line"
         ],
         "xaxis": "x",
         "y": {
          "bdata": "vLu72+mlSEHyWTeYclvaQBEREZGtBBRB",
          "dtype": "f8"
         },
         "yaxis": "y"
        },
        {
         "hovertemplate": "pandemic_period=Before Pandemic<br>route_or_line=%{x}<br>Average Ridership per 6-Month Period=%{y}<extra></extra>",
         "legendgroup": "Before Pandemic",
         "marker": {
          "color": "#EF553B",
          "pattern": {
           "shape": ""
          }
         },
         "name": "Before Pandemic",
         "orientation": "v",
         "showlegend": true,
         "textposition": "auto",
         "type": "bar",
         "x": [
          "All Bus",
          "Private Bus",
          "Silver Line"
         ],
         "xaxis": "x",
         "y": {
          "bdata": "AAAAgFZ9UkFVVVVVcYvyQHIcx3GBoh1B",
          "dtype": "f8"
         },
         "yaxis": "y"
        }
       ],
       "layout": {
        "barmode": "relative",
        "legend": {
         "title": {
          "text": "pandemic_period"
         },
         "tracegroupgap": 0
        },
        "template": {
         "data": {
          "bar": [
           {
            "error_x": {
             "color": "#2a3f5f"
            },
            "error_y": {
             "color": "#2a3f5f"
            },
            "marker": {
             "line": {
              "color": "#E5ECF6",
              "width": 0.5
             },
             "pattern": {
              "fillmode": "overlay",
              "size": 10,
              "solidity": 0.2
             }
            },
            "type": "bar"
           }
          ],
          "barpolar": [
           {
            "marker": {
             "line": {
              "color": "#E5ECF6",
              "width": 0.5
             },
             "pattern": {
              "fillmode": "overlay",
              "size": 10,
              "solidity": 0.2
             }
            },
            "type": "barpolar"
           }
          ],
          "carpet": [
           {
            "aaxis": {
             "endlinecolor": "#2a3f5f",
             "gridcolor": "white",
             "linecolor": "white",
             "minorgridcolor": "white",
             "startlinecolor": "#2a3f5f"
            },
            "baxis": {
             "endlinecolor": "#2a3f5f",
             "gridcolor": "white",
             "linecolor": "white",
             "minorgridcolor": "white",
             "startlinecolor": "#2a3f5f"
            },
            "type": "carpet"
           }
          ],
          "choropleth": [
           {
            "colorbar": {
             "outlinewidth": 0,
             "ticks": ""
            },
            "type": "choropleth"
           }
          ],
          "contour": [
           {
            "colorbar": {
             "outlinewidth": 0,
             "ticks": ""
            },
            "colorscale": [
             [
              0,
              "#0d0887"
             ],
             [
              0.1111111111111111,
              "#46039f"
             ],
             [
              0.2222222222222222,
              "#7201a8"
             ],
             [
              0.3333333333333333,
              "#9c179e"
             ],
             [
              0.4444444444444444,
              "#bd3786"
             ],
             [
              0.5555555555555556,
              "#d8576b"
             ],
             [
              0.6666666666666666,
              "#ed7953"
             ],
             [
              0.7777777777777778,
              "#fb9f3a"
             ],
             [
              0.8888888888888888,
              "#fdca26"
             ],
             [
              1,
              "#f0f921"
             ]
            ],
            "type": "contour"
           }
          ],
          "contourcarpet": [
           {
            "colorbar": {
             "outlinewidth": 0,
             "ticks": ""
            },
            "type": "contourcarpet"
           }
          ],
          "heatmap": [
           {
            "colorbar": {
             "outlinewidth": 0,
             "ticks": ""
            },
            "colorscale": [
             [
              0,
              "#0d0887"
             ],
             [
              0.1111111111111111,
              "#46039f"
             ],
             [
              0.2222222222222222,
              "#7201a8"
             ],
             [
              0.3333333333333333,
              "#9c179e"
             ],
             [
              0.4444444444444444,
              "#bd3786"
             ],
             [
              0.5555555555555556,
              "#d8576b"
             ],
             [
              0.6666666666666666,
              "#ed7953"
             ],
             [
              0.7777777777777778,
              "#fb9f3a"
             ],
             [
              0.8888888888888888,
              "#fdca26"
             ],
             [
              1,
              "#f0f921"
             ]
            ],
            "type": "heatmap"
           }
          ],
          "histogram": [
           {
            "marker": {
             "pattern": {
              "fillmode": "overlay",
              "size": 10,
              "solidity": 0.2
             }
            },
            "type": "histogram"
           }
          ],
          "histogram2d": [
           {
            "colorbar": {
             "outlinewidth": 0,
             "ticks": ""
            },
            "colorscale": [
             [
              0,
              "#0d0887"
             ],
             [
              0.1111111111111111,
              "#46039f"
             ],
             [
              0.2222222222222222,
              "#7201a8"
             ],
             [
              0.3333333333333333,
              "#9c179e"
             ],
             [
              0.4444444444444444,
              "#bd3786"
             ],
             [
              0.5555555555555556,
              "#d8576b"
             ],
             [
              0.6666666666666666,
              "#ed7953"
             ],
             [
              0.7777777777777778,
              "#fb9f3a"
             ],
             [
              0.8888888888888888,
              "#fdca26"
             ],
             [
              1,
              "#f0f921"
             ]
            ],
            "type": "histogram2d"
           }
          ],
          "histogram2dcontour": [
           {
            "colorbar": {
             "outlinewidth": 0,
             "ticks": ""
            },
            "colorscale": [
             [
              0,
              "#0d0887"
             ],
             [
              0.1111111111111111,
              "#46039f"
             ],
             [
              0.2222222222222222,
              "#7201a8"
             ],
             [
              0.3333333333333333,
              "#9c179e"
             ],
             [
              0.4444444444444444,
              "#bd3786"
             ],
             [
              0.5555555555555556,
              "#d8576b"
             ],
             [
              0.6666666666666666,
              "#ed7953"
             ],
             [
              0.7777777777777778,
              "#fb9f3a"
             ],
             [
              0.8888888888888888,
              "#fdca26"
             ],
             [
              1,
              "#f0f921"
             ]
            ],
            "type": "histogram2dcontour"
           }
          ],
          "mesh3d": [
           {
            "colorbar": {
             "outlinewidth": 0,
             "ticks": ""
            },
            "type": "mesh3d"
           }
          ],
          "parcoords": [
           {
            "line": {
             "colorbar": {
              "outlinewidth": 0,
              "ticks": ""
             }
            },
            "type": "parcoords"
           }
          ],
          "pie": [
           {
            "automargin": true,
            "type": "pie"
           }
          ],
          "scatter": [
           {
            "fillpattern": {
             "fillmode": "overlay",
             "size": 10,
             "solidity": 0.2
            },
            "type": "scatter"
           }
          ],
          "scatter3d": [
           {
            "line": {
             "colorbar": {
              "outlinewidth": 0,
              "ticks": ""
             }
            },
            "marker": {
             "colorbar": {
              "outlinewidth": 0,
              "ticks": ""
             }
            },
            "type": "scatter3d"
           }
          ],
          "scattercarpet": [
           {
            "marker": {
             "colorbar": {
              "outlinewidth": 0,
              "ticks": ""
             }
            },
            "type": "scattercarpet"
           }
          ],
          "scattergeo": [
           {
            "marker": {
             "colorbar": {
              "outlinewidth": 0,
              "ticks": ""
             }
            },
            "type": "scattergeo"
           }
          ],
          "scattergl": [
           {
            "marker": {
             "colorbar": {
              "outlinewidth": 0,
              "ticks": ""
             }
            },
            "type": "scattergl"
           }
          ],
          "scattermap": [
           {
            "marker": {
             "colorbar": {
              "outlinewidth": 0,
              "ticks": ""
             }
            },
            "type": "scattermap"
           }
          ],
          "scattermapbox": [
           {
            "marker": {
             "colorbar": {
              "outlinewidth": 0,
              "ticks": ""
             }
            },
            "type": "scattermapbox"
           }
          ],
          "scatterpolar": [
           {
            "marker": {
             "colorbar": {
              "outlinewidth": 0,
              "ticks": ""
             }
            },
            "type": "scatterpolar"
           }
          ],
          "scatterpolargl": [
           {
            "marker": {
             "colorbar": {
              "outlinewidth": 0,
              "ticks": ""
             }
            },
            "type": "scatterpolargl"
           }
          ],
          "scatterternary": [
           {
            "marker": {
             "colorbar": {
              "outlinewidth": 0,
              "ticks": ""
             }
            },
            "type": "scatterternary"
           }
          ],
          "surface": [
           {
            "colorbar": {
             "outlinewidth": 0,
             "ticks": ""
            },
            "colorscale": [
             [
              0,
              "#0d0887"
             ],
             [
              0.1111111111111111,
              "#46039f"
             ],
             [
              0.2222222222222222,
              "#7201a8"
             ],
             [
              0.3333333333333333,
              "#9c179e"
             ],
             [
              0.4444444444444444,
              "#bd3786"
             ],
             [
              0.5555555555555556,
              "#d8576b"
             ],
             [
              0.6666666666666666,
              "#ed7953"
             ],
             [
              0.7777777777777778,
              "#fb9f3a"
             ],
             [
              0.8888888888888888,
              "#fdca26"
             ],
             [
              1,
              "#f0f921"
             ]
            ],
            "type": "surface"
           }
          ],
          "table": [
           {
            "cells": {
             "fill": {
              "color": "#EBF0F8"
             },
             "line": {
              "color": "white"
             }
            },
            "header": {
             "fill": {
              "color": "#C8D4E3"
             },
             "line": {
              "color": "white"
             }
            },
            "type": "table"
           }
          ]
         },
         "layout": {
          "annotationdefaults": {
           "arrowcolor": "#2a3f5f",
           "arrowhead": 0,
           "arrowwidth": 1
          },
          "autotypenumbers": "strict",
          "coloraxis": {
           "colorbar": {
            "outlinewidth": 0,
            "ticks": ""
           }
          },
          "colorscale": {
           "diverging": [
            [
             0,
             "#8e0152"
            ],
            [
             0.1,
             "#c51b7d"
            ],
            [
             0.2,
             "#de77ae"
            ],
            [
             0.3,
             "#f1b6da"
            ],
            [
             0.4,
             "#fde0ef"
            ],
            [
             0.5,
             "#f7f7f7"
            ],
            [
             0.6,
             "#e6f5d0"
            ],
            [
             0.7,
             "#b8e186"
            ],
            [
             0.8,
             "#7fbc41"
            ],
            [
             0.9,
             "#4d9221"
            ],
            [
             1,
             "#276419"
            ]
           ],
           "sequential": [
            [
             0,
             "#0d0887"
            ],
            [
             0.1111111111111111,
             "#46039f"
            ],
            [
             0.2222222222222222,
             "#7201a8"
            ],
            [
             0.3333333333333333,
             "#9c179e"
            ],
            [
             0.4444444444444444,
             "#bd3786"
            ],
            [
             0.5555555555555556,
             "#d8576b"
            ],
            [
             0.6666666666666666,
             "#ed7953"
            ],
            [
             0.7777777777777778,
             "#fb9f3a"
            ],
            [
             0.8888888888888888,
             "#fdca26"
            ],
            [
             1,
             "#f0f921"
            ]
           ],
           "sequentialminus": [
            [
             0,
             "#0d0887"
            ],
            [
             0.1111111111111111,
             "#46039f"
            ],
            [
             0.2222222222222222,
             "#7201a8"
            ],
            [
             0.3333333333333333,
             "#9c179e"
            ],
            [
             0.4444444444444444,
             "#bd3786"
            ],
            [
             0.5555555555555556,
             "#d8576b"
            ],
            [
             0.6666666666666666,
             "#ed7953"
            ],
            [
             0.7777777777777778,
             "#fb9f3a"
            ],
            [
             0.8888888888888888,
             "#fdca26"
            ],
            [
             1,
             "#f0f921"
            ]
           ]
          },
          "colorway": [
           "#636efa",
           "#EF553B",
           "#00cc96",
           "#ab63fa",
           "#FFA15A",
           "#19d3f3",
           "#FF6692",
           "#B6E880",
           "#FF97FF",
           "#FECB52"
          ],
          "font": {
           "color": "#2a3f5f"
          },
          "geo": {
           "bgcolor": "white",
           "lakecolor": "white",
           "landcolor": "#E5ECF6",
           "showlakes": true,
           "showland": true,
           "subunitcolor": "white"
          },
          "hoverlabel": {
           "align": "left"
          },
          "hovermode": "closest",
          "mapbox": {
           "style": "light"
          },
          "paper_bgcolor": "white",
          "plot_bgcolor": "#E5ECF6",
          "polar": {
           "angularaxis": {
            "gridcolor": "white",
            "linecolor": "white",
            "ticks": ""
           },
           "bgcolor": "#E5ECF6",
           "radialaxis": {
            "gridcolor": "white",
            "linecolor": "white",
            "ticks": ""
           }
          },
          "scene": {
           "xaxis": {
            "backgroundcolor": "#E5ECF6",
            "gridcolor": "white",
            "gridwidth": 2,
            "linecolor": "white",
            "showbackground": true,
            "ticks": "",
            "zerolinecolor": "white"
           },
           "yaxis": {
            "backgroundcolor": "#E5ECF6",
            "gridcolor": "white",
            "gridwidth": 2,
            "linecolor": "white",
            "showbackground": true,
            "ticks": "",
            "zerolinecolor": "white"
           },
           "zaxis": {
            "backgroundcolor": "#E5ECF6",
            "gridcolor": "white",
            "gridwidth": 2,
            "linecolor": "white",
            "showbackground": true,
            "ticks": "",
            "zerolinecolor": "white"
           }
          },
          "shapedefaults": {
           "line": {
            "color": "#2a3f5f"
           }
          },
          "ternary": {
           "aaxis": {
            "gridcolor": "white",
            "linecolor": "white",
            "ticks": ""
           },
           "baxis": {
            "gridcolor": "white",
            "linecolor": "white",
            "ticks": ""
           },
           "bgcolor": "#E5ECF6",
           "caxis": {
            "gridcolor": "white",
            "linecolor": "white",
            "ticks": ""
           }
          },
          "title": {
           "x": 0.05
          },
          "xaxis": {
           "automargin": true,
           "gridcolor": "white",
           "linecolor": "white",
           "ticks": "",
           "title": {
            "standoff": 15
           },
           "zerolinecolor": "white",
           "zerolinewidth": 2
          },
          "yaxis": {
           "automargin": true,
           "gridcolor": "white",
           "linecolor": "white",
           "ticks": "",
           "title": {
            "standoff": 15
           },
           "zerolinecolor": "white",
           "zerolinewidth": 2
          }
         }
        },
        "title": {
         "text": "Average Ridership Before and After Pandemic by Route"
        },
        "xaxis": {
         "anchor": "y",
         "domain": [
          0,
          1
         ],
         "tickangle": 45,
         "title": {
          "text": "Route"
         }
        },
        "yaxis": {
         "anchor": "x",
         "domain": [
          0,
          1
         ],
         "title": {
          "text": "Average Ridership"
         }
        }
       }
      }
     },
     "metadata": {},
     "output_type": "display_data"
    },
    {
     "name": "stdout",
     "output_type": "stream",
     "text": [
      "Percent Change in Average Ridership (Before vs After Pandemic):\n",
      "pandemic_period  After Pandemic  Before Pandemic  Percent Change\n",
      "route_or_line                                                   \n",
      "Silver Line        3.279794e+05     4.855364e+05      -32.450087\n",
      "All Bus            3.230676e+06     4.846938e+06      -33.346048\n",
      "Private Bus        2.698979e+04     7.595908e+04      -64.467988\n"
     ]
    }
   ],
   "source": [
    "def load_data(file_path):\n",
    "    \"\"\"Load the CSV data.\"\"\"\n",
    "    return pd.read_csv(file_path)\n",
    "\n",
    "def preprocess_data(df):\n",
    "    \"\"\"Preprocess the data by filtering, creating new columns, and aggregating data.\"\"\"\n",
    "    # Filter the dataframe to keep only rows for selected routes\n",
    "    selected_routes = ['All Bus', 'Private Bus', 'Silver Line']\n",
    "    df = df[df['route_or_line'].isin(selected_routes)]\n",
    "    \n",
    "    # Convert 'month_of_service' to datetime and create necessary columns\n",
    "    df['month_of_service'] = pd.to_datetime(df['month_of_service'])\n",
    "    df['year'] = df['month_of_service'].dt.year\n",
    "    df['half_year'] = ((df['month_of_service'].dt.month - 1) // 6) + 1\n",
    "    df['period'] = df['year'].astype(str) + '-H' + df['half_year'].astype(str)\n",
    "    df['pandemic_period'] = df['month_of_service'].dt.year >= 2020\n",
    "    df['pandemic_period'] = df['pandemic_period'].map({True: 'After Pandemic', False: 'Before Pandemic'})\n",
    "\n",
    "    return df\n",
    "\n",
    "def aggregate_data(df):\n",
    "    \"\"\"Aggregate data by 6-month periods and create a pivot table.\"\"\"\n",
    "    period_data = df.groupby(['period', 'route_or_line'])['ridership_total'].sum().reset_index()\n",
    "    pivot_data = period_data.pivot(index='period', columns='route_or_line', values='ridership_total')\n",
    "    return pivot_data\n",
    "\n",
    "def plot_ridership_trends(pivot_data):\n",
    "    \"\"\"Plot ridership trends using plotly.\"\"\"\n",
    "    fig = go.Figure()\n",
    "    \n",
    "    for route in pivot_data.columns:\n",
    "        fig.add_trace(go.Scatter(x=pivot_data.index, y=pivot_data[route], mode='lines+markers', name=route))\n",
    "    \n",
    "    fig.update_layout(\n",
    "        title='Ridership Trends by Route (6-Month Intervals)',\n",
    "        xaxis_title='6-Month Period',\n",
    "        yaxis_title='Total Ridership',\n",
    "        showlegend=True\n",
    "    )\n",
    "    fig.update_xaxes(tickangle=45)\n",
    "    fig.show()\n",
    "    pio.write_html(fig, \"./Plots/Ridership/Ridership_trends_route.html\")\n",
    "\n",
    "def compare_pre_post_pandemic(df):\n",
    "    \"\"\"Compare pre-pandemic and post-pandemic ridership and plot the results.\"\"\"\n",
    "    pre_post_comparison = df.groupby(['route_or_line', 'pandemic_period'])['ridership_total'].mean().reset_index()\n",
    "    pre_post_pivot = pre_post_comparison.pivot(index='route_or_line', columns='pandemic_period', values='ridership_total')\n",
    "    \n",
    "    # Calculate the percent change\n",
    "    if 'Before Pandemic' in pre_post_pivot.columns and 'After Pandemic' in pre_post_pivot.columns:\n",
    "        pre_post_pivot['Percent Change'] = ((pre_post_pivot['After Pandemic'] - pre_post_pivot['Before Pandemic']) / \n",
    "                                          pre_post_pivot['Before Pandemic'] * 100)\n",
    "    \n",
    "    # Plot the bar chart using plotly\n",
    "    fig = px.bar(pre_post_comparison, x='route_or_line', y='ridership_total', color='pandemic_period',\n",
    "                 title='Average Ridership Before and After Pandemic by Route',\n",
    "                 labels={'ridership_total': 'Average Ridership per 6-Month Period'})\n",
    "    \n",
    "    fig.update_layout(xaxis_title='Route', yaxis_title='Average Ridership')\n",
    "    fig.update_xaxes(tickangle=45)\n",
    "    fig.show()\n",
    "    pio.write_html(fig, \"./Plots/Ridership/Prepandemic_vs_Postpandemic.html\")\n",
    "    \n",
    "    return pre_post_pivot\n",
    "\n",
    "def print_percent_change(pre_post_pivot):\n",
    "    \"\"\"Print the percent change in ridership between before and after the pandemic.\"\"\"\n",
    "    if 'Percent Change' in pre_post_pivot.columns:\n",
    "        print(\"Percent Change in Average Ridership (Before vs After Pandemic):\")\n",
    "        print(pre_post_pivot.sort_values('Percent Change', ascending=False))\n",
    "\n",
    "def main():\n",
    "    # Define file path\n",
    "    file_path = os.path.join('data', 'MBTA_Monthly_Ridership_By_Mode_and_Line.csv')\n",
    "\n",
    "    # Load and preprocess data\n",
    "    df = load_data(file_path)\n",
    "    df = preprocess_data(df)\n",
    "\n",
    "    # Aggregate data\n",
    "    pivot_data = aggregate_data(df)\n",
    "\n",
    "    # Plot ridership trends\n",
    "    plot_ridership_trends(pivot_data)\n",
    "\n",
    "    # Compare pre-pandemic and post-pandemic ridership\n",
    "    pre_post_pivot = compare_pre_post_pandemic(df)\n",
    "\n",
    "    # Print the percent change table\n",
    "    print_percent_change(pre_post_pivot)\n",
    "\n",
    "main()"
   ]
  },
  {
   "cell_type": "code",
   "execution_count": null,
   "metadata": {},
   "outputs": [],
   "source": [
    "# df.isna().sum()\n",
    "# # Define list of route/line values you want to keep\n",
    "# selected_routes = ['All Bus', 'Private Bus', 'Silver Line']\n",
    "\n",
    "# # Filter the dataframe to keep only rows where route_ot_line is in the list\n",
    "# df = df[df['route_or_line'].isin(selected_routes)]"
   ]
  },
  {
   "cell_type": "code",
   "execution_count": null,
   "metadata": {},
   "outputs": [
    {
     "name": "stderr",
     "output_type": "stream",
     "text": [
      "C:\\Users\\astha\\AppData\\Local\\Temp\\ipykernel_37324\\4197588259.py:2: SettingWithCopyWarning: \n",
      "A value is trying to be set on a copy of a slice from a DataFrame.\n",
      "Try using .loc[row_indexer,col_indexer] = value instead\n",
      "\n",
      "See the caveats in the documentation: https://pandas.pydata.org/pandas-docs/stable/user_guide/indexing.html#returning-a-view-versus-a-copy\n",
      "  df['month_of_service'] = pd.to_datetime(df['month_of_service'])\n",
      "C:\\Users\\astha\\AppData\\Local\\Temp\\ipykernel_37324\\4197588259.py:5: SettingWithCopyWarning: \n",
      "A value is trying to be set on a copy of a slice from a DataFrame.\n",
      "Try using .loc[row_indexer,col_indexer] = value instead\n",
      "\n",
      "See the caveats in the documentation: https://pandas.pydata.org/pandas-docs/stable/user_guide/indexing.html#returning-a-view-versus-a-copy\n",
      "  df['year'] = df['month_of_service'].dt.year\n",
      "C:\\Users\\astha\\AppData\\Local\\Temp\\ipykernel_37324\\4197588259.py:6: SettingWithCopyWarning: \n",
      "A value is trying to be set on a copy of a slice from a DataFrame.\n",
      "Try using .loc[row_indexer,col_indexer] = value instead\n",
      "\n",
      "See the caveats in the documentation: https://pandas.pydata.org/pandas-docs/stable/user_guide/indexing.html#returning-a-view-versus-a-copy\n",
      "  df['half_year'] = ((df['month_of_service'].dt.month - 1) // 6) + 1\n",
      "C:\\Users\\astha\\AppData\\Local\\Temp\\ipykernel_37324\\4197588259.py:7: SettingWithCopyWarning: \n",
      "A value is trying to be set on a copy of a slice from a DataFrame.\n",
      "Try using .loc[row_indexer,col_indexer] = value instead\n",
      "\n",
      "See the caveats in the documentation: https://pandas.pydata.org/pandas-docs/stable/user_guide/indexing.html#returning-a-view-versus-a-copy\n",
      "  df['period'] = df['year'].astype(str) + '-H' + df['half_year'].astype(str)\n",
      "C:\\Users\\astha\\AppData\\Local\\Temp\\ipykernel_37324\\4197588259.py:10: SettingWithCopyWarning: \n",
      "A value is trying to be set on a copy of a slice from a DataFrame.\n",
      "Try using .loc[row_indexer,col_indexer] = value instead\n",
      "\n",
      "See the caveats in the documentation: https://pandas.pydata.org/pandas-docs/stable/user_guide/indexing.html#returning-a-view-versus-a-copy\n",
      "  df['pandemic_period'] = df['month_of_service'].dt.year >= 2020\n",
      "C:\\Users\\astha\\AppData\\Local\\Temp\\ipykernel_37324\\4197588259.py:11: SettingWithCopyWarning: \n",
      "A value is trying to be set on a copy of a slice from a DataFrame.\n",
      "Try using .loc[row_indexer,col_indexer] = value instead\n",
      "\n",
      "See the caveats in the documentation: https://pandas.pydata.org/pandas-docs/stable/user_guide/indexing.html#returning-a-view-versus-a-copy\n",
      "  df['pandemic_period'] = df['pandemic_period'].map({True: 'After Pandemic', False: 'Before Pandemic'})\n"
     ]
    },
    {
     "data": {
      "image/png": "[encoded data removed]",
      "text/plain": [
       "<Figure size 1500x1000 with 1 Axes>"
      ]
     },
     "metadata": {},
     "output_type": "display_data"
    },
    {
     "data": {
      "image/png": "[encoded data removed]",
      "text/plain": [
       "<Figure size 1400x800 with 1 Axes>"
      ]
     },
     "metadata": {},
     "output_type": "display_data"
    },
    {
     "name": "stdout",
     "output_type": "stream",
     "text": [
      "Percent Change in Average Ridership (Before vs After Pandemic):\n",
      "pandemic_period  After Pandemic  Before Pandemic  Percent Change\n",
      "route_or_line                                                   \n",
      "Silver Line        3.279794e+05     4.855364e+05      -32.450087\n",
      "All Bus            3.230676e+06     4.846938e+06      -33.346048\n",
      "Private Bus        2.698979e+04     7.595908e+04      -64.467988\n"
     ]
    }
   ],
   "source": [
    "# # Convert month_of_service to datetime\n",
    "# df['month_of_service'] = pd.to_datetime(df['month_of_service'])\n",
    "\n",
    "# # Create a 6-month period column\n",
    "# df['year'] = df['month_of_service'].dt.year\n",
    "# df['half_year'] = ((df['month_of_service'].dt.month - 1) // 6) + 1\n",
    "# df['period'] = df['year'].astype(str) + '-H' + df['half_year'].astype(str)\n",
    "\n",
    "# # Add a pandemic indicator (before/after 2020)\n",
    "# df['pandemic_period'] = df['month_of_service'].dt.year >= 2020\n",
    "# df['pandemic_period'] = df['pandemic_period'].map({True: 'After Pandemic', False: 'Before Pandemic'})\n",
    "\n",
    "# # Aggregate data by 6-month periods for each route\n",
    "# period_data = df.groupby(['period', 'route_or_line'])['ridership_total'].sum().reset_index()\n",
    "\n",
    "# # Create a pivot table for easier plotting\n",
    "# pivot_data = period_data.pivot(index='period', columns='route_or_line', values='ridership_total')\n",
    "\n",
    "# # colors = ['#e6194b', '#3cb44b', '#ffe119', '#4363d8', '#f58231', '#911eb4', \n",
    "# #           '#46f0f0', '#f032e6', '#bcf60c', '#fabebe', '#008080', '#e6beff', \n",
    "# #           '#9a6324', '#fffac8', '#800000', '#aaffc3']\n",
    "\n",
    "# # Plot ridership trends over 6-month periods for each route\n",
    "# plt.figure(figsize=(15, 10))\n",
    "# for i,route in enumerate(pivot_data.columns):\n",
    "#     plt.plot(pivot_data.index, pivot_data[route], label=route, marker='o', linewidth=2)\n",
    "\n",
    "# plt.title('Ridership Trends by Route (6-Month Intervals)', fontsize=16)\n",
    "# plt.xlabel('6-Month Period', fontsize=14)\n",
    "# plt.ylabel('Total Ridership', fontsize=14)\n",
    "# plt.xticks(rotation=45)\n",
    "# plt.legend(bbox_to_anchor=(1.05, 1), loc='upper left', fontsize=12)\n",
    "# plt.grid(True, linestyle='--', alpha=0.7)\n",
    "# plt.tight_layout()\n",
    "# plt.show()\n",
    "\n",
    "# # Compare pre-pandemic and post-pandemic ridership for each route\n",
    "# pre_post_comparison = df.groupby(['route_or_line', 'pandemic_period'])['ridership_total'].mean().reset_index()\n",
    "# pre_post_pivot = pre_post_comparison.pivot(index='route_or_line', columns='pandemic_period', values='ridership_total')\n",
    "\n",
    "# # Calculate the percent change (handle cases where 'Before Pandemic' might be missing)\n",
    "# if 'Before Pandemic' in pre_post_pivot.columns and 'After Pandemic' in pre_post_pivot.columns:\n",
    "#     pre_post_pivot['Percent Change'] = ((pre_post_pivot['After Pandemic'] - pre_post_pivot['Before Pandemic']) / \n",
    "#                                       pre_post_pivot['Before Pandemic'] * 100)\n",
    "\n",
    "# # Plot the comparison as a bar chart\n",
    "# plt.figure(figsize=(14, 8))\n",
    "# sns.barplot(x='route_or_line', y='ridership_total', hue='pandemic_period', data=pre_post_comparison)\n",
    "# plt.title('Average Ridership Before and After Pandemic by Route', fontsize=16)\n",
    "# plt.xlabel('Route', fontsize=14)\n",
    "# plt.ylabel('Average Ridership per 6-Month Period', fontsize=14)\n",
    "# plt.xticks(rotation=45)\n",
    "# plt.legend(title='Period', fontsize=12)\n",
    "# plt.tight_layout()\n",
    "# plt.show()\n",
    "\n",
    "# # # Create a heatmap to visualize the changes over time for all routes\n",
    "# # heatmap_data = pivot_data.T  # Transpose for better visualization\n",
    "# # plt.figure(figsize=(16, 10))\n",
    "# # sns.heatmap(heatmap_data, cmap=\"YlGnBu\", annot=False, fmt=\".0f\", linewidths=.5)\n",
    "# # plt.title('Ridership Heatmap by Route and 6-Month Period', fontsize=16)\n",
    "# # plt.ylabel('Route', fontsize=14)\n",
    "# # plt.xlabel('6-Month Period', fontsize=14)\n",
    "# # plt.tight_layout()\n",
    "# # plt.show()\n",
    "\n",
    "# # Print the percent change table\n",
    "# if 'Percent Change' in pre_post_pivot.columns:\n",
    "#     print(\"Percent Change in Average Ridership (Before vs After Pandemic):\")\n",
    "#     print(pre_post_pivot.sort_values('Percent Change', ascending=False))"
   ]
  },
  {
   "cell_type": "markdown",
   "metadata": {},
   "source": [
    "## Analysis"
   ]
  },
  {
   "cell_type": "markdown",
   "metadata": {},
   "source": [
    "From the above data we can see that most routes experienced a significant drop in ridership around 2020-H1, likely due to the COVID-19 pandemic. There's a gradual recovery in ridership across most routes from 2020-H2 onwards, though not reaching pre-pandemic levels for many routes.\n",
    "\n",
    "**Route-Specific Observations**\n",
    "- Heavy Rail shows the highest ridership consistently, especially pre-pandemic.\n",
    "\n",
    "- All Bus and Bus routes follow Heavy Rail in terms of ridership volume.\n",
    "\n",
    "- Blue Line, Commuter Rail, and Light Rail show moderate ridership levels.\n",
    "\n",
    "- Ferry, Green Line, and Orange Line display lower but consistent ridership.\n",
    "\n",
    "- The RIDE, Trackless Trolley, and Private Bus show the lowest ridership levels throughout the period.\n",
    "\n",
    "**Temporal Patterns**\n",
    "- Seasonal variations are visible in some routes, with slight dips often occurring in the first half of each year (H1).\n",
    "\n",
    "- The recovery pattern is not uniform across all routes, with some bouncing back faster than others.\n",
    "\n",
    "**Impact and Recovery**\n",
    "- The pandemic's impact is most visible for Heavy Rail, All Bus, and Bus routes, showing the sharpest decline in 2020-H1.\n",
    "\n",
    "- Some routes like Ferry and Trackless Trolley seem less affected, possibly due to their already lower ridership or essential nature.\n",
    "\n",
    "- As of the most recent data point (2024-H2), most routes have not fully returned to their pre-pandemic ridership levels."
   ]
  },
  {
   "cell_type": "markdown",
   "metadata": {},
   "source": []
  }
 ],
 "metadata": {
  "kernelspec": {
   "display_name": "Python 3",
   "language": "python",
   "name": "python3"
  },
  "language_info": {
   "codemirror_mode": {
    "name": "ipython",
    "version": 3
   },
   "file_extension": ".py",
   "mimetype": "text/x-python",
   "name": "python",
   "nbconvert_exporter": "python",
   "pygments_lexer": "ipython3",
   "version": "3.13.1"
  }
 },
 "nbformat": 4,
 "nbformat_minor": 2
}
