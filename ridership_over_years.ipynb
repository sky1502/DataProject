{
 "cells": [
  {
   "cell_type": "code",
   "execution_count": null,
   "id": "a32d185c-de96-478b-bf35-3a23e6dab3f9",
   "metadata": {
    "execution": {
     "iopub.execute_input": "2025-04-01T01:46:36.929851Z",
     "iopub.status.busy": "2025-04-01T01:46:36.928849Z",
     "iopub.status.idle": "2025-04-01T01:46:36.945978Z",
     "shell.execute_reply": "2025-04-01T01:46:36.945978Z",
     "shell.execute_reply.started": "2025-04-01T01:46:36.929851Z"
    }
   },
   "outputs": [
    {
     "data": {
      "text/plain": [
       "<contextlib.ExitStack at 0x7d2e6bb37c80>"
      ]
     },
     "execution_count": 1,
     "metadata": {},
     "output_type": "execute_result"
    }
   ],
   "source": [
    "import pandas as pd\n",
    "import matplotlib.pyplot as plt\n",
    "import seaborn as sns\n",
    "import plotly.graph_objects as go\n",
    "import plotly.express as px\n",
    "plt.ioff()"
   ]
  },
  {
   "cell_type": "code",
   "execution_count": 2,
   "id": "3fe7adf4-c058-4d69-a03f-01f572667920",
   "metadata": {
    "execution": {
     "iopub.execute_input": "2025-04-01T01:46:39.799515Z",
     "iopub.status.busy": "2025-04-01T01:46:39.799515Z",
     "iopub.status.idle": "2025-04-01T01:46:41.419791Z",
     "shell.execute_reply": "2025-04-01T01:46:41.419791Z",
     "shell.execute_reply.started": "2025-04-01T01:46:39.799515Z"
    }
   },
   "outputs": [
    {
     "name": "stderr",
     "output_type": "stream",
     "text": [
      "/tmp/ipykernel_18469/1845220859.py:1: DtypeWarning: Columns (2,3) have mixed types. Specify dtype option on import or set low_memory=False.\n",
      "  df = pd.read_csv('./data/MBTA_Bus_Ridership_by_Time_Period_Route_Line_and_Stop_Fall.csv')\n"
     ]
    }
   ],
   "source": [
    "df = pd.read_csv('./data/MBTA_Bus_Ridership_by_Time_Period_Route_Line_and_Stop_Fall.csv')"
   ]
  },
  {
   "cell_type": "code",
   "execution_count": 3,
   "id": "56ae7082-2b95-428d-99d3-540522693dc3",
   "metadata": {
    "execution": {
     "iopub.execute_input": "2025-04-01T01:46:41.420975Z",
     "iopub.status.busy": "2025-04-01T01:46:41.420975Z",
     "iopub.status.idle": "2025-04-01T01:46:41.436192Z",
     "shell.execute_reply": "2025-04-01T01:46:41.435690Z",
     "shell.execute_reply.started": "2025-04-01T01:46:41.420975Z"
    }
   },
   "outputs": [
    {
     "data": {
      "text/plain": [
       "(1086511, 19)"
      ]
     },
     "execution_count": 3,
     "metadata": {},
     "output_type": "execute_result"
    }
   ],
   "source": [
    "df.shape"
   ]
  },
  {
   "cell_type": "code",
   "execution_count": 4,
   "id": "9f338807-95ad-4c6c-89f5-1228121b38ea",
   "metadata": {
    "execution": {
     "iopub.execute_input": "2025-04-01T01:46:44.853812Z",
     "iopub.status.busy": "2025-04-01T01:46:44.853812Z",
     "iopub.status.idle": "2025-04-01T01:46:47.012019Z",
     "shell.execute_reply": "2025-04-01T01:46:47.012019Z",
     "shell.execute_reply.started": "2025-04-01T01:46:44.853812Z"
    }
   },
   "outputs": [],
   "source": [
    "df['year'] = df['season'].str.extract(r'(\\d{4})').astype(int)"
   ]
  },
  {
   "cell_type": "code",
   "execution_count": 5,
   "id": "c0849878-0694-43c2-97fd-9e4d8dfb420d",
   "metadata": {
    "execution": {
     "iopub.execute_input": "2025-04-01T01:46:47.013013Z",
     "iopub.status.busy": "2025-04-01T01:46:47.013013Z",
     "iopub.status.idle": "2025-04-01T01:46:47.027576Z",
     "shell.execute_reply": "2025-04-01T01:46:47.027576Z",
     "shell.execute_reply.started": "2025-04-01T01:46:47.013013Z"
    }
   },
   "outputs": [
    {
     "data": {
      "text/html": [
       "<div>\n",
       "<style scoped>\n",
       "    .dataframe tbody tr th:only-of-type {\n",
       "        vertical-align: middle;\n",
       "    }\n",
       "\n",
       "    .dataframe tbody tr th {\n",
       "        vertical-align: top;\n",
       "    }\n",
       "\n",
       "    .dataframe thead th {\n",
       "        text-align: right;\n",
       "    }\n",
       "</style>\n",
       "<table border=\"1\" class=\"dataframe\">\n",
       "  <thead>\n",
       "    <tr style=\"text-align: right;\">\n",
       "      <th></th>\n",
       "      <th>mode</th>\n",
       "      <th>season</th>\n",
       "      <th>route_id</th>\n",
       "      <th>route_name</th>\n",
       "      <th>route_variant</th>\n",
       "      <th>stop_sequence</th>\n",
       "      <th>direction_id</th>\n",
       "      <th>day_type_id</th>\n",
       "      <th>day_type_name</th>\n",
       "      <th>time_period_id</th>\n",
       "      <th>time_period_name</th>\n",
       "      <th>stop_name</th>\n",
       "      <th>stop_id</th>\n",
       "      <th>average_ons</th>\n",
       "      <th>average_offs</th>\n",
       "      <th>average_load</th>\n",
       "      <th>num_trips</th>\n",
       "      <th>ons_all_trips</th>\n",
       "      <th>ObjectId</th>\n",
       "      <th>year</th>\n",
       "    </tr>\n",
       "  </thead>\n",
       "  <tbody>\n",
       "    <tr>\n",
       "      <th>0</th>\n",
       "      <td>3</td>\n",
       "      <td>Fall 2016</td>\n",
       "      <td>1</td>\n",
       "      <td>1</td>\n",
       "      <td>1-_-0</td>\n",
       "      <td>19</td>\n",
       "      <td>0</td>\n",
       "      <td>day_type_01</td>\n",
       "      <td>weekday</td>\n",
       "      <td>time_period_06</td>\n",
       "      <td>PM_PEAK</td>\n",
       "      <td>MASSACHUSETTS AVE @ SIDNEY ST</td>\n",
       "      <td>101</td>\n",
       "      <td>1.400000</td>\n",
       "      <td>2.636842</td>\n",
       "      <td>32.894737</td>\n",
       "      <td>19</td>\n",
       "      <td>26.6</td>\n",
       "      <td>1</td>\n",
       "      <td>2016</td>\n",
       "    </tr>\n",
       "    <tr>\n",
       "      <th>1</th>\n",
       "      <td>3</td>\n",
       "      <td>Fall 2016</td>\n",
       "      <td>1</td>\n",
       "      <td>1</td>\n",
       "      <td>1-_-0</td>\n",
       "      <td>20</td>\n",
       "      <td>0</td>\n",
       "      <td>day_type_01</td>\n",
       "      <td>weekday</td>\n",
       "      <td>time_period_06</td>\n",
       "      <td>PM_PEAK</td>\n",
       "      <td>MASSACHUSETTS AVE @ PROSPECT</td>\n",
       "      <td>102</td>\n",
       "      <td>3.868421</td>\n",
       "      <td>10.178947</td>\n",
       "      <td>26.584211</td>\n",
       "      <td>19</td>\n",
       "      <td>73.5</td>\n",
       "      <td>2</td>\n",
       "      <td>2016</td>\n",
       "    </tr>\n",
       "    <tr>\n",
       "      <th>2</th>\n",
       "      <td>3</td>\n",
       "      <td>Fall 2016</td>\n",
       "      <td>1</td>\n",
       "      <td>1</td>\n",
       "      <td>1-_-0</td>\n",
       "      <td>21</td>\n",
       "      <td>0</td>\n",
       "      <td>day_type_01</td>\n",
       "      <td>weekday</td>\n",
       "      <td>time_period_06</td>\n",
       "      <td>PM_PEAK</td>\n",
       "      <td>MASSACHUSETTS AVE @ BIGELOW S</td>\n",
       "      <td>104</td>\n",
       "      <td>1.521053</td>\n",
       "      <td>1.168421</td>\n",
       "      <td>26.936842</td>\n",
       "      <td>19</td>\n",
       "      <td>28.9</td>\n",
       "      <td>3</td>\n",
       "      <td>2016</td>\n",
       "    </tr>\n",
       "    <tr>\n",
       "      <th>3</th>\n",
       "      <td>3</td>\n",
       "      <td>Fall 2016</td>\n",
       "      <td>1</td>\n",
       "      <td>1</td>\n",
       "      <td>1-_-0</td>\n",
       "      <td>22</td>\n",
       "      <td>0</td>\n",
       "      <td>day_type_01</td>\n",
       "      <td>weekday</td>\n",
       "      <td>time_period_06</td>\n",
       "      <td>PM_PEAK</td>\n",
       "      <td>MASSACHUSETTS AVE @ HANCOCK S</td>\n",
       "      <td>106</td>\n",
       "      <td>0.321053</td>\n",
       "      <td>1.621053</td>\n",
       "      <td>25.626316</td>\n",
       "      <td>19</td>\n",
       "      <td>6.1</td>\n",
       "      <td>4</td>\n",
       "      <td>2016</td>\n",
       "    </tr>\n",
       "    <tr>\n",
       "      <th>4</th>\n",
       "      <td>3</td>\n",
       "      <td>Fall 2016</td>\n",
       "      <td>1</td>\n",
       "      <td>1</td>\n",
       "      <td>1-_-0</td>\n",
       "      <td>23</td>\n",
       "      <td>0</td>\n",
       "      <td>day_type_01</td>\n",
       "      <td>weekday</td>\n",
       "      <td>time_period_06</td>\n",
       "      <td>PM_PEAK</td>\n",
       "      <td>MASSACHUSETTS AVE @ DANA ST</td>\n",
       "      <td>107</td>\n",
       "      <td>0.647368</td>\n",
       "      <td>3.336842</td>\n",
       "      <td>22.942105</td>\n",
       "      <td>19</td>\n",
       "      <td>12.3</td>\n",
       "      <td>5</td>\n",
       "      <td>2016</td>\n",
       "    </tr>\n",
       "  </tbody>\n",
       "</table>\n",
       "</div>"
      ],
      "text/plain": [
       "   mode     season route_id route_name route_variant  stop_sequence  \\\n",
       "0     3  Fall 2016        1          1         1-_-0             19   \n",
       "1     3  Fall 2016        1          1         1-_-0             20   \n",
       "2     3  Fall 2016        1          1         1-_-0             21   \n",
       "3     3  Fall 2016        1          1         1-_-0             22   \n",
       "4     3  Fall 2016        1          1         1-_-0             23   \n",
       "\n",
       "   direction_id  day_type_id day_type_name  time_period_id time_period_name  \\\n",
       "0             0  day_type_01       weekday  time_period_06          PM_PEAK   \n",
       "1             0  day_type_01       weekday  time_period_06          PM_PEAK   \n",
       "2             0  day_type_01       weekday  time_period_06          PM_PEAK   \n",
       "3             0  day_type_01       weekday  time_period_06          PM_PEAK   \n",
       "4             0  day_type_01       weekday  time_period_06          PM_PEAK   \n",
       "\n",
       "                       stop_name  stop_id  average_ons  average_offs  \\\n",
       "0  MASSACHUSETTS AVE @ SIDNEY ST      101     1.400000      2.636842   \n",
       "1   MASSACHUSETTS AVE @ PROSPECT      102     3.868421     10.178947   \n",
       "2  MASSACHUSETTS AVE @ BIGELOW S      104     1.521053      1.168421   \n",
       "3  MASSACHUSETTS AVE @ HANCOCK S      106     0.321053      1.621053   \n",
       "4    MASSACHUSETTS AVE @ DANA ST      107     0.647368      3.336842   \n",
       "\n",
       "   average_load  num_trips  ons_all_trips  ObjectId  year  \n",
       "0     32.894737         19           26.6         1  2016  \n",
       "1     26.584211         19           73.5         2  2016  \n",
       "2     26.936842         19           28.9         3  2016  \n",
       "3     25.626316         19            6.1         4  2016  \n",
       "4     22.942105         19           12.3         5  2016  "
      ]
     },
     "execution_count": 5,
     "metadata": {},
     "output_type": "execute_result"
    }
   ],
   "source": [
    "df.head()"
   ]
  },
  {
   "cell_type": "code",
   "execution_count": 6,
   "id": "99636a25-26b6-4795-8578-e46691e4a486",
   "metadata": {
    "execution": {
     "iopub.execute_input": "2025-04-01T01:46:54.333976Z",
     "iopub.status.busy": "2025-04-01T01:46:54.333976Z",
     "iopub.status.idle": "2025-04-01T01:46:54.438982Z",
     "shell.execute_reply": "2025-04-01T01:46:54.438982Z",
     "shell.execute_reply.started": "2025-04-01T01:46:54.333976Z"
    }
   },
   "outputs": [],
   "source": [
    "yearly_ridership = df.groupby(['route_id', 'year'])['ons_all_trips'].sum().reset_index()"
   ]
  },
  {
   "cell_type": "code",
   "execution_count": 7,
   "id": "fb7bd9db-09d3-4571-9538-91e87b1d8549",
   "metadata": {
    "execution": {
     "iopub.execute_input": "2025-04-01T01:46:57.156127Z",
     "iopub.status.busy": "2025-04-01T01:46:57.156127Z",
     "iopub.status.idle": "2025-04-01T01:46:57.175996Z",
     "shell.execute_reply": "2025-04-01T01:46:57.175996Z",
     "shell.execute_reply.started": "2025-04-01T01:46:57.156127Z"
    }
   },
   "outputs": [
    {
     "name": "stdout",
     "output_type": "stream",
     "text": [
      "Routes with Gains in Ridership Over the Years:\n",
      "[1 5 7 8 9 10 11 14 15 16 17 18 19 21 22 36 37 38 39 40 41 42 43 44 45 47\n",
      " 50 51 52 55 57 59 60 61 62 64 65 66 67 68 69 70 71 73 74 75 76 77 78 80\n",
      " 83 85 86 87 88 89 90 91 92 93 94 95 96 97 99 100 101 104 105 106 108 109\n",
      " 110 111 112 114 116 117 119 120 121 131 132 134 136 137 170 171 201 202\n",
      " 210 211 214 215 217 240 411 424 426 428 429 430 434 435 436 439 441 442\n",
      " 450 451 455 456 501 502 504 505 553 554 556 558 708 712 713 741 742 743\n",
      " 746 747 749 751 '134' '19' '201' '21' '210' '211' '214' '215' '216' '217'\n",
      " '22' '220' '221' '222' '225' '226' '23' '230' '236' '238' '24' '240'\n",
      " '245' '26' '27' '28' '29' '30' '31' '32' '325' '326' '33' '34' '34E' '35'\n",
      " '350' '351' '354' '36' '37' '38' '39' '4' '40' '41' '411' '42' '424'\n",
      " '426' '428' '429' '43' '430' '434' '435' '436' '439' '44' '441' '442'\n",
      " '45' '450' '451' '455' '456' '47' '50' '503' '504' '51' '52' '55' '553'\n",
      " '554' '556' '558' '57' '57A' '59' '60' '61' '62' '64' '65' '66' '67' '68'\n",
      " '69' '7' '70' '701' '708' '70A' '71' '712' '713' '72' '73' '74' '743'\n",
      " '746' '747' '749' '75' '751' '76' '77' '78' '79' '8' '80' '83' '84' '85'\n",
      " '86' '87' '88' '89' '9' '90' '91' '92' '96']\n",
      "\n",
      "Routes with Losses in Ridership Over the Years:\n",
      "[1 4 9 10 11 14 15 16 17 18 19 21 22 23 24 36 37 38 39 40 41 42 43 44 45\n",
      " 47 50 51 52 55 57 60 61 62 70 71 73 80 85 88 89 90 91 92 93 94 95 96 97\n",
      " 99 100 101 104 105 106 108 109 110 111 112 114 116 117 119 120 121 131\n",
      " 132 134 136 137 170 171 201 202 210 211 212 214 215 216 217 220 222 225\n",
      " 226 230 236 238 411 424 426 428 429 430 435 436 439 441 442 448 449 450\n",
      " 451 455 456 459 465 501 503 504 505 553 554 556 558 749 '137' '14' '15'\n",
      " '16' '17' '171' '18' '201' '202' '21' '210' '211' '212' '214' '215' '216'\n",
      " '217' '22' '220' '221' '222' '225' '226' '23' '230' '236' '238' '24'\n",
      " '240' '245' '26' '27' '28' '29' '30' '31' '32' '325' '326' '33' '34'\n",
      " '34E' '35' '350' '351' '352' '354' '36' '37' '38' '39' '4' '40' '41'\n",
      " '411' '42' '424' '426' '428' '429' '43' '430' '435' '436' '439' '44'\n",
      " '441' '442' '45' '450' '451' '456' '465' '47' '50' '501' '502' '504'\n",
      " '505' '51' '52' '55' '553' '554' '556' '558' '57' '57A' '59' '60' '62'\n",
      " '64' '65' '66' '67' '68' '69' '7' '70' '701' '708' '70A' '71' '712' '713'\n",
      " '72' '73' '74' '741' '742' '746' '747' '749' '75' '751' '76' '77' '78'\n",
      " '79' '8' '80' '83' '84' '85' '86' '87' '88' '89' '9' '90' '91' '92' '93'\n",
      " '94' '95']\n"
     ]
    }
   ],
   "source": [
    "yearly_ridership.rename(columns={'ons_all_trips': 'yearly_ons_all_trips'}, inplace=True)\n",
    "\n",
    "# Step 3: Calculate Year-over-Year Change in Ridership\n",
    "yearly_ridership['change'] = yearly_ridership.sort_values(['route_id', 'year']).groupby('route_id')['yearly_ons_all_trips'].diff()\n",
    "\n",
    "# Step 4: Categorize Routes as Gained or Lost Riders\n",
    "gains = yearly_ridership[yearly_ridership['change'] > 0]\n",
    "losses = yearly_ridership[yearly_ridership['change'] < 0]\n",
    "\n",
    "# Step 5: Identify Unique Routes with Gains or Losses\n",
    "routes_with_gains = gains['route_id'].unique()\n",
    "routes_with_losses = losses['route_id'].unique()\n",
    "\n",
    "# Display Results\n",
    "print(\"Routes with Gains in Ridership Over the Years:\")\n",
    "print(routes_with_gains)\n",
    "\n",
    "print(\"\\nRoutes with Losses in Ridership Over the Years:\")\n",
    "print(routes_with_losses)"
   ]
  },
  {
   "cell_type": "code",
   "execution_count": 8,
   "id": "65c66e4e-c97b-45f8-8bbf-751c36b39e1a",
   "metadata": {
    "execution": {
     "iopub.execute_input": "2025-04-01T01:48:05.519930Z",
     "iopub.status.busy": "2025-04-01T01:48:05.519930Z",
     "iopub.status.idle": "2025-04-01T01:48:05.532425Z",
     "shell.execute_reply": "2025-04-01T01:48:05.531427Z",
     "shell.execute_reply.started": "2025-04-01T01:48:05.519930Z"
    }
   },
   "outputs": [],
   "source": [
    "important_routes = [ '22', '29', '15', '45', '44', '42', '17', '23', '31', '26', '111', '24', '33', '14']"
   ]
  },
  {
   "cell_type": "code",
   "execution_count": 9,
   "id": "b3288a9e-fcae-4bf5-b744-7e9570653b0b",
   "metadata": {
    "execution": {
     "iopub.execute_input": "2025-04-01T02:01:11.972174Z",
     "iopub.status.busy": "2025-04-01T02:01:11.971171Z",
     "iopub.status.idle": "2025-04-01T02:01:11.984320Z",
     "shell.execute_reply": "2025-04-01T02:01:11.984320Z",
     "shell.execute_reply.started": "2025-04-01T02:01:11.972174Z"
    }
   },
   "outputs": [],
   "source": [
    "filtered_data = yearly_ridership[yearly_ridership['route_id'].isin(important_routes)]"
   ]
  },
  {
   "cell_type": "code",
   "execution_count": 23,
   "id": "f7f8ec2c",
   "metadata": {},
   "outputs": [
    {
     "data": {
      "text/html": [
       "<div>\n",
       "<style scoped>\n",
       "    .dataframe tbody tr th:only-of-type {\n",
       "        vertical-align: middle;\n",
       "    }\n",
       "\n",
       "    .dataframe tbody tr th {\n",
       "        vertical-align: top;\n",
       "    }\n",
       "\n",
       "    .dataframe thead th {\n",
       "        text-align: right;\n",
       "    }\n",
       "</style>\n",
       "<table border=\"1\" class=\"dataframe\">\n",
       "  <thead>\n",
       "    <tr style=\"text-align: right;\">\n",
       "      <th></th>\n",
       "      <th>route_id</th>\n",
       "      <th>year</th>\n",
       "      <th>yearly_ons_all_trips</th>\n",
       "      <th>change</th>\n",
       "    </tr>\n",
       "  </thead>\n",
       "  <tbody>\n",
       "    <tr>\n",
       "      <th>758</th>\n",
       "      <td>111</td>\n",
       "      <td>2024</td>\n",
       "      <td>11292.3</td>\n",
       "      <td>NaN</td>\n",
       "    </tr>\n",
       "    <tr>\n",
       "      <th>769</th>\n",
       "      <td>14</td>\n",
       "      <td>2023</td>\n",
       "      <td>1602.5</td>\n",
       "      <td>NaN</td>\n",
       "    </tr>\n",
       "    <tr>\n",
       "      <th>770</th>\n",
       "      <td>14</td>\n",
       "      <td>2024</td>\n",
       "      <td>552.5</td>\n",
       "      <td>-1050.0</td>\n",
       "    </tr>\n",
       "    <tr>\n",
       "      <th>771</th>\n",
       "      <td>15</td>\n",
       "      <td>2023</td>\n",
       "      <td>12280.7</td>\n",
       "      <td>NaN</td>\n",
       "    </tr>\n",
       "    <tr>\n",
       "      <th>772</th>\n",
       "      <td>15</td>\n",
       "      <td>2024</td>\n",
       "      <td>7183.1</td>\n",
       "      <td>-5097.6</td>\n",
       "    </tr>\n",
       "    <tr>\n",
       "      <th>...</th>\n",
       "      <td>...</td>\n",
       "      <td>...</td>\n",
       "      <td>...</td>\n",
       "      <td>...</td>\n",
       "    </tr>\n",
       "    <tr>\n",
       "      <th>1178</th>\n",
       "      <td>45</td>\n",
       "      <td>2018</td>\n",
       "      <td>5448.4</td>\n",
       "      <td>NaN</td>\n",
       "    </tr>\n",
       "    <tr>\n",
       "      <th>1179</th>\n",
       "      <td>45</td>\n",
       "      <td>2019</td>\n",
       "      <td>5382.0</td>\n",
       "      <td>-66.4</td>\n",
       "    </tr>\n",
       "    <tr>\n",
       "      <th>1180</th>\n",
       "      <td>45</td>\n",
       "      <td>2021</td>\n",
       "      <td>3216.2</td>\n",
       "      <td>-2165.8</td>\n",
       "    </tr>\n",
       "    <tr>\n",
       "      <th>1181</th>\n",
       "      <td>45</td>\n",
       "      <td>2023</td>\n",
       "      <td>3275.7</td>\n",
       "      <td>59.5</td>\n",
       "    </tr>\n",
       "    <tr>\n",
       "      <th>1182</th>\n",
       "      <td>45</td>\n",
       "      <td>2024</td>\n",
       "      <td>3291.1</td>\n",
       "      <td>15.4</td>\n",
       "    </tr>\n",
       "  </tbody>\n",
       "</table>\n",
       "<p>83 rows × 4 columns</p>\n",
       "</div>"
      ],
      "text/plain": [
       "     route_id  year  yearly_ons_all_trips  change\n",
       "758       111  2024               11292.3     NaN\n",
       "769        14  2023                1602.5     NaN\n",
       "770        14  2024                 552.5 -1050.0\n",
       "771        15  2023               12280.7     NaN\n",
       "772        15  2024                7183.1 -5097.6\n",
       "...       ...   ...                   ...     ...\n",
       "1178       45  2018                5448.4     NaN\n",
       "1179       45  2019                5382.0   -66.4\n",
       "1180       45  2021                3216.2 -2165.8\n",
       "1181       45  2023                3275.7    59.5\n",
       "1182       45  2024                3291.1    15.4\n",
       "\n",
       "[83 rows x 4 columns]"
      ]
     },
     "execution_count": 23,
     "metadata": {},
     "output_type": "execute_result"
    }
   ],
   "source": [
    "filtered_data"
   ]
  },
  {
   "cell_type": "code",
   "execution_count": null,
   "id": "048fb334-096d-41bc-86a6-408470b3df44",
   "metadata": {
    "execution": {
     "iopub.execute_input": "2025-04-01T02:18:47.428195Z",
     "iopub.status.busy": "2025-04-01T02:18:47.428195Z",
     "iopub.status.idle": "2025-04-01T02:18:48.333345Z",
     "shell.execute_reply": "2025-04-01T02:18:48.333345Z",
     "shell.execute_reply.started": "2025-04-01T02:18:47.428195Z"
    },
    "scrolled": true
   },
   "outputs": [
    {
     "data": {
      "application/vnd.plotly.v1+json": {
       "config": {
        "plotlyServerURL": "https://plot.ly"
       },
       "data": [
        {
         "hovertemplate": "route_id=111<br>year=%{x}<br>yearly_ons_all_trips=%{y}<extra></extra>",
         "legendgroup": "111",
         "line": {
          "color": "#636efa",
          "dash": "solid"
         },
         "marker": {
          "symbol": "circle"
         },
         "mode": "lines+markers",
         "name": "111",
         "orientation": "v",
         "showlegend": true,
         "type": "scatter",
         "x": {
          "bdata": "6Ac=",
          "dtype": "i2"
         },
         "xaxis": "x",
         "y": {
          "bdata": "Z2ZmZiYOxkA=",
          "dtype": "f8"
         },
         "yaxis": "y"
        },
        {
         "hovertemplate": "route_id=14<br>year=%{x}<br>yearly_ons_all_trips=%{y}<extra></extra>",
         "legendgroup": "14",
         "line": {
          "color": "#EF553B",
          "dash": "solid"
         },
         "marker": {
          "symbol": "circle"
         },
         "mode": "lines+markers",
         "name": "14",
         "orientation": "v",
         "showlegend": true,
         "type": "scatter",
         "x": {
          "bdata": "5wfoBw==",
          "dtype": "i2"
         },
         "xaxis": "x",
         "y": {
          "bdata": "//////8JmUAAAAAAAESBQA==",
          "dtype": "f8"
         },
         "yaxis": "y"
        },
        {
         "hovertemplate": "route_id=15<br>year=%{x}<br>yearly_ons_all_trips=%{y}<extra></extra>",
         "legendgroup": "15",
         "line": {
          "color": "#00cc96",
          "dash": "solid"
         },
         "marker": {
          "symbol": "circle"
         },
         "mode": "lines+markers",
         "name": "15",
         "orientation": "v",
         "showlegend": true,
         "type": "scatter",
         "x": {
          "bdata": "5wfoBw==",
          "dtype": "i2"
         },
         "xaxis": "x",
         "y": {
          "bdata": "mpmZmVn8x0CamZmZGQ+8QA==",
          "dtype": "f8"
         },
         "yaxis": "y"
        },
        {
         "hovertemplate": "route_id=17<br>year=%{x}<br>yearly_ons_all_trips=%{y}<extra></extra>",
         "legendgroup": "17",
         "line": {
          "color": "#ab63fa",
          "dash": "solid"
         },
         "marker": {
          "symbol": "circle"
         },
         "mode": "lines+markers",
         "name": "17",
         "orientation": "v",
         "showlegend": true,
         "type": "scatter",
         "x": {
          "bdata": "5wfoBw==",
          "dtype": "i2"
         },
         "xaxis": "x",
         "y": {
          "bdata": "mpmZmZmKrUAAAAAAAN6VQA==",
          "dtype": "f8"
         },
         "yaxis": "y"
        },
        {
         "hovertemplate": "route_id=22<br>year=%{x}<br>yearly_ons_all_trips=%{y}<extra></extra>",
         "legendgroup": "22",
         "line": {
          "color": "#FFA15A",
          "dash": "solid"
         },
         "marker": {
          "symbol": "circle"
         },
         "mode": "lines+markers",
         "name": "22",
         "orientation": "v",
         "showlegend": true,
         "type": "scatter",
         "x": {
          "bdata": "4AfhB+IH4wfkB+YH5wfoBw==",
          "dtype": "i2"
         },
         "xaxis": "x",
         "y": {
          "bdata": "mZmZmTlQ0EBmZmZm5qTQQMzMzMxsVtBAzczMzGwi0UAAAAAAQBfDQGdmZmYm38lAMzMzMzM7zUAzMzMzM4S+QA==",
          "dtype": "f8"
         },
         "yaxis": "y"
        },
        {
         "hovertemplate": "route_id=23<br>year=%{x}<br>yearly_ons_all_trips=%{y}<extra></extra>",
         "legendgroup": "23",
         "line": {
          "color": "#19d3f3",
          "dash": "solid"
         },
         "marker": {
          "symbol": "circle"
         },
         "mode": "lines+markers",
         "name": "23",
         "orientation": "v",
         "showlegend": true,
         "type": "scatter",
         "x": {
          "bdata": "4AfhB+IH4wfkB+YH5wfoBw==",
          "dtype": "i2"
         },
         "xaxis": "x",
         "y": {
          "bdata": "mZmZmRlP1kBoZmZm5lLWQDQzMzPTutVAmpmZmVlR1kDNzMzMzDnJQGdmZmam8NRA0MzMzExV10BmZmZmphjIQA==",
          "dtype": "f8"
         },
         "yaxis": "y"
        },
        {
         "hovertemplate": "route_id=24<br>year=%{x}<br>yearly_ons_all_trips=%{y}<extra></extra>",
         "legendgroup": "24",
         "line": {
          "color": "#FF6692",
          "dash": "solid"
         },
         "marker": {
          "symbol": "circle"
         },
         "mode": "lines+markers",
         "name": "24",
         "orientation": "v",
         "showlegend": true,
         "type": "scatter",
         "x": {
          "bdata": "4AfhB+IH4wfkB+YH5wfoBw==",
          "dtype": "i2"
         },
         "xaxis": "x",
         "y": {
          "bdata": "AAAAAADGp0AAAAAAAFKrQJqZmZmZPatAKEhsd3cNqkBPkNju7r2aQM3MzMzM3KhA//////+gqkAzMzMzM+GZQA==",
          "dtype": "f8"
         },
         "yaxis": "y"
        },
        {
         "hovertemplate": "route_id=26<br>year=%{x}<br>yearly_ons_all_trips=%{y}<extra></extra>",
         "legendgroup": "26",
         "line": {
          "color": "#B6E880",
          "dash": "solid"
         },
         "marker": {
          "symbol": "circle"
         },
         "mode": "lines+markers",
         "name": "26",
         "orientation": "v",
         "showlegend": true,
         "type": "scatter",
         "x": {
          "bdata": "4AfhB+IH4wfkB+UH5gfnB+gH",
          "dtype": "i2"
         },
         "xaxis": "x",
         "y": {
          "bdata": "wZ8aL13xoEDNzMzMzJSkQDMzMzMz5aNANDMzMzOeokBmZmZmZlSQQDMzMzMzX5hAAAAAAABilUAAAAAAAAqTQDMzMzMzN4RA",
          "dtype": "f8"
         },
         "yaxis": "y"
        },
        {
         "hovertemplate": "route_id=29<br>year=%{x}<br>yearly_ons_all_trips=%{y}<extra></extra>",
         "legendgroup": "29",
         "line": {
          "color": "#FF97FF",
          "dash": "solid"
         },
         "marker": {
          "symbol": "circle"
         },
         "mode": "lines+markers",
         "name": "29",
         "orientation": "v",
         "showlegend": true,
         "type": "scatter",
         "x": {
          "bdata": "4AfhB+IH4wfkB+UH5gfnB+gH",
          "dtype": "i2"
         },
         "xaxis": "x",
         "y": {
          "bdata": "zczMzMxKpEAzMzMzMy+lQM3MzMzMVqNAMzMzMzOlo0DNzMzMzCKQQAAAAAAAqJRAMjMzMzMBn0CamZmZmVuXQDMzMzMzc15A",
          "dtype": "f8"
         },
         "yaxis": "y"
        },
        {
         "hovertemplate": "route_id=31<br>year=%{x}<br>yearly_ons_all_trips=%{y}<extra></extra>",
         "legendgroup": "31",
         "line": {
          "color": "#FECB52",
          "dash": "solid"
         },
         "marker": {
          "symbol": "circle"
         },
         "mode": "lines+markers",
         "name": "31",
         "orientation": "v",
         "showlegend": true,
         "type": "scatter",
         "x": {
          "bdata": "4AfhB+IH4wfkB+UH5gfnB+gH",
          "dtype": "i2"
         },
         "xaxis": "x",
         "y": {
          "bdata": "mpmZmRlsxUAAAAAAwFnGQIGjqqqq88VAAQAAAMCFxEABAAAAAAq3QMzMzMzML7hAZmZmZuavtkAuMzMzM828QM3MzMzMkLBA",
          "dtype": "f8"
         },
         "yaxis": "y"
        },
        {
         "hovertemplate": "route_id=33<br>year=%{x}<br>yearly_ons_all_trips=%{y}<extra></extra>",
         "legendgroup": "33",
         "line": {
          "color": "#636efa",
          "dash": "solid"
         },
         "marker": {
          "symbol": "circle"
         },
         "mode": "lines+markers",
         "name": "33",
         "orientation": "v",
         "showlegend": true,
         "type": "scatter",
         "x": {
          "bdata": "4AfhB+IH4wfkB+UH5gfnB+gH",
          "dtype": "i2"
         },
         "xaxis": "x",
         "y": {
          "bdata": "AAAAAAC6lUBnZmZmZqqbQDMzMzMzb5tAAAAAAAC8nEDOzMzMzGyHQDQzMzMzr5NAZ2ZmZma+kkBmZmZmZgSYQAAAAAAARIFA",
          "dtype": "f8"
         },
         "yaxis": "y"
        },
        {
         "hovertemplate": "route_id=42<br>year=%{x}<br>yearly_ons_all_trips=%{y}<extra></extra>",
         "legendgroup": "42",
         "line": {
          "color": "#EF553B",
          "dash": "solid"
         },
         "marker": {
          "symbol": "circle"
         },
         "mode": "lines+markers",
         "name": "42",
         "orientation": "v",
         "showlegend": true,
         "type": "scatter",
         "x": {
          "bdata": "4gfjB+UH5gfnB+gH",
          "dtype": "i2"
         },
         "xaxis": "x",
         "y": {
          "bdata": "AQAAAIBnsEA1MzMzMzWxQDUzMzMz0KhAzMzMzMx+qkDMzMzMzN6pQM3MzMzM/6tA",
          "dtype": "f8"
         },
         "yaxis": "y"
        },
        {
         "hovertemplate": "route_id=44<br>year=%{x}<br>yearly_ons_all_trips=%{y}<extra></extra>",
         "legendgroup": "44",
         "line": {
          "color": "#00cc96",
          "dash": "solid"
         },
         "marker": {
          "symbol": "circle"
         },
         "mode": "lines+markers",
         "name": "44",
         "orientation": "v",
         "showlegend": true,
         "type": "scatter",
         "x": {
          "bdata": "4gfjB+UH5wfoBw==",
          "dtype": "i2"
         },
         "xaxis": "x",
         "y": {
          "bdata": "MjMzMzMXt0BmZmZm5ue1QJmZmZmZdqtAZWZmZmY3r0AzMzMzM06wQA==",
          "dtype": "f8"
         },
         "yaxis": "y"
        },
        {
         "hovertemplate": "route_id=45<br>year=%{x}<br>yearly_ons_all_trips=%{y}<extra></extra>",
         "legendgroup": "45",
         "line": {
          "color": "#ab63fa",
          "dash": "solid"
         },
         "marker": {
          "symbol": "circle"
         },
         "mode": "lines+markers",
         "name": "45",
         "orientation": "v",
         "showlegend": true,
         "type": "scatter",
         "x": {
          "bdata": "4gfjB+UH5wfoBw==",
          "dtype": "i2"
         },
         "xaxis": "x",
         "y": {
          "bdata": "ZmZmZmZItUD//////wW1QGZmZmZmIKlAZWZmZmaXqUAzMzMzM7apQA==",
          "dtype": "f8"
         },
         "yaxis": "y"
        }
       ],
       "layout": {
        "legend": {
         "title": {
          "text": "Route ID"
         },
         "tracegroupgap": 0
        },
        "margin": {
         "t": 60
        },
        "template": {
         "data": {
          "bar": [
           {
            "error_x": {
             "color": "#2a3f5f"
            },
            "error_y": {
             "color": "#2a3f5f"
            },
            "marker": {
             "line": {
              "color": "white",
              "width": 0.5
             },
             "pattern": {
              "fillmode": "overlay",
              "size": 10,
              "solidity": 0.2
             }
            },
            "type": "bar"
           }
          ],
          "barpolar": [
           {
            "marker": {
             "line": {
              "color": "white",
              "width": 0.5
             },
             "pattern": {
              "fillmode": "overlay",
              "size": 10,
              "solidity": 0.2
             }
            },
            "type": "barpolar"
           }
          ],
          "carpet": [
           {
            "aaxis": {
             "endlinecolor": "#2a3f5f",
             "gridcolor": "#C8D4E3",
             "linecolor": "#C8D4E3",
             "minorgridcolor": "#C8D4E3",
             "startlinecolor": "#2a3f5f"
            },
            "baxis": {
             "endlinecolor": "#2a3f5f",
             "gridcolor": "#C8D4E3",
             "linecolor": "#C8D4E3",
             "minorgridcolor": "#C8D4E3",
             "startlinecolor": "#2a3f5f"
            },
            "type": "carpet"
           }
          ],
          "choropleth": [
           {
            "colorbar": {
             "outlinewidth": 0,
             "ticks": ""
            },
            "type": "choropleth"
           }
          ],
          "contour": [
           {
            "colorbar": {
             "outlinewidth": 0,
             "ticks": ""
            },
            "colorscale": [
             [
              0,
              "#0d0887"
             ],
             [
              0.1111111111111111,
              "#46039f"
             ],
             [
              0.2222222222222222,
              "#7201a8"
             ],
             [
              0.3333333333333333,
              "#9c179e"
             ],
             [
              0.4444444444444444,
              "#bd3786"
             ],
             [
              0.5555555555555556,
              "#d8576b"
             ],
             [
              0.6666666666666666,
              "#ed7953"
             ],
             [
              0.7777777777777778,
              "#fb9f3a"
             ],
             [
              0.8888888888888888,
              "#fdca26"
             ],
             [
              1,
              "#f0f921"
             ]
            ],
            "type": "contour"
           }
          ],
          "contourcarpet": [
           {
            "colorbar": {
             "outlinewidth": 0,
             "ticks": ""
            },
            "type": "contourcarpet"
           }
          ],
          "heatmap": [
           {
            "colorbar": {
             "outlinewidth": 0,
             "ticks": ""
            },
            "colorscale": [
             [
              0,
              "#0d0887"
             ],
             [
              0.1111111111111111,
              "#46039f"
             ],
             [
              0.2222222222222222,
              "#7201a8"
             ],
             [
              0.3333333333333333,
              "#9c179e"
             ],
             [
              0.4444444444444444,
              "#bd3786"
             ],
             [
              0.5555555555555556,
              "#d8576b"
             ],
             [
              0.6666666666666666,
              "#ed7953"
             ],
             [
              0.7777777777777778,
              "#fb9f3a"
             ],
             [
              0.8888888888888888,
              "#fdca26"
             ],
             [
              1,
              "#f0f921"
             ]
            ],
            "type": "heatmap"
           }
          ],
          "histogram": [
           {
            "marker": {
             "pattern": {
              "fillmode": "overlay",
              "size": 10,
              "solidity": 0.2
             }
            },
            "type": "histogram"
           }
          ],
          "histogram2d": [
           {
            "colorbar": {
             "outlinewidth": 0,
             "ticks": ""
            },
            "colorscale": [
             [
              0,
              "#0d0887"
             ],
             [
              0.1111111111111111,
              "#46039f"
             ],
             [
              0.2222222222222222,
              "#7201a8"
             ],
             [
              0.3333333333333333,
              "#9c179e"
             ],
             [
              0.4444444444444444,
              "#bd3786"
             ],
             [
              0.5555555555555556,
              "#d8576b"
             ],
             [
              0.6666666666666666,
              "#ed7953"
             ],
             [
              0.7777777777777778,
              "#fb9f3a"
             ],
             [
              0.8888888888888888,
              "#fdca26"
             ],
             [
              1,
              "#f0f921"
             ]
            ],
            "type": "histogram2d"
           }
          ],
          "histogram2dcontour": [
           {
            "colorbar": {
             "outlinewidth": 0,
             "ticks": ""
            },
            "colorscale": [
             [
              0,
              "#0d0887"
             ],
             [
              0.1111111111111111,
              "#46039f"
             ],
             [
              0.2222222222222222,
              "#7201a8"
             ],
             [
              0.3333333333333333,
              "#9c179e"
             ],
             [
              0.4444444444444444,
              "#bd3786"
             ],
             [
              0.5555555555555556,
              "#d8576b"
             ],
             [
              0.6666666666666666,
              "#ed7953"
             ],
             [
              0.7777777777777778,
              "#fb9f3a"
             ],
             [
              0.8888888888888888,
              "#fdca26"
             ],
             [
              1,
              "#f0f921"
             ]
            ],
            "type": "histogram2dcontour"
           }
          ],
          "mesh3d": [
           {
            "colorbar": {
             "outlinewidth": 0,
             "ticks": ""
            },
            "type": "mesh3d"
           }
          ],
          "parcoords": [
           {
            "line": {
             "colorbar": {
              "outlinewidth": 0,
              "ticks": ""
             }
            },
            "type": "parcoords"
           }
          ],
          "pie": [
           {
            "automargin": true,
            "type": "pie"
           }
          ],
          "scatter": [
           {
            "fillpattern": {
             "fillmode": "overlay",
             "size": 10,
             "solidity": 0.2
            },
            "type": "scatter"
           }
          ],
          "scatter3d": [
           {
            "line": {
             "colorbar": {
              "outlinewidth": 0,
              "ticks": ""
             }
            },
            "marker": {
             "colorbar": {
              "outlinewidth": 0,
              "ticks": ""
             }
            },
            "type": "scatter3d"
           }
          ],
          "scattercarpet": [
           {
            "marker": {
             "colorbar": {
              "outlinewidth": 0,
              "ticks": ""
             }
            },
            "type": "scattercarpet"
           }
          ],
          "scattergeo": [
           {
            "marker": {
             "colorbar": {
              "outlinewidth": 0,
              "ticks": ""
             }
            },
            "type": "scattergeo"
           }
          ],
          "scattergl": [
           {
            "marker": {
             "colorbar": {
              "outlinewidth": 0,
              "ticks": ""
             }
            },
            "type": "scattergl"
           }
          ],
          "scattermap": [
           {
            "marker": {
             "colorbar": {
              "outlinewidth": 0,
              "ticks": ""
             }
            },
            "type": "scattermap"
           }
          ],
          "scattermapbox": [
           {
            "marker": {
             "colorbar": {
              "outlinewidth": 0,
              "ticks": ""
             }
            },
            "type": "scattermapbox"
           }
          ],
          "scatterpolar": [
           {
            "marker": {
             "colorbar": {
              "outlinewidth": 0,
              "ticks": ""
             }
            },
            "type": "scatterpolar"
           }
          ],
          "scatterpolargl": [
           {
            "marker": {
             "colorbar": {
              "outlinewidth": 0,
              "ticks": ""
             }
            },
            "type": "scatterpolargl"
           }
          ],
          "scatterternary": [
           {
            "marker": {
             "colorbar": {
              "outlinewidth": 0,
              "ticks": ""
             }
            },
            "type": "scatterternary"
           }
          ],
          "surface": [
           {
            "colorbar": {
             "outlinewidth": 0,
             "ticks": ""
            },
            "colorscale": [
             [
              0,
              "#0d0887"
             ],
             [
              0.1111111111111111,
              "#46039f"
             ],
             [
              0.2222222222222222,
              "#7201a8"
             ],
             [
              0.3333333333333333,
              "#9c179e"
             ],
             [
              0.4444444444444444,
              "#bd3786"
             ],
             [
              0.5555555555555556,
              "#d8576b"
             ],
             [
              0.6666666666666666,
              "#ed7953"
             ],
             [
              0.7777777777777778,
              "#fb9f3a"
             ],
             [
              0.8888888888888888,
              "#fdca26"
             ],
             [
              1,
              "#f0f921"
             ]
            ],
            "type": "surface"
           }
          ],
          "table": [
           {
            "cells": {
             "fill": {
              "color": "#EBF0F8"
             },
             "line": {
              "color": "white"
             }
            },
            "header": {
             "fill": {
              "color": "#C8D4E3"
             },
             "line": {
              "color": "white"
             }
            },
            "type": "table"
           }
          ]
         },
         "layout": {
          "annotationdefaults": {
           "arrowcolor": "#2a3f5f",
           "arrowhead": 0,
           "arrowwidth": 1
          },
          "autotypenumbers": "strict",
          "coloraxis": {
           "colorbar": {
            "outlinewidth": 0,
            "ticks": ""
           }
          },
          "colorscale": {
           "diverging": [
            [
             0,
             "#8e0152"
            ],
            [
             0.1,
             "#c51b7d"
            ],
            [
             0.2,
             "#de77ae"
            ],
            [
             0.3,
             "#f1b6da"
            ],
            [
             0.4,
             "#fde0ef"
            ],
            [
             0.5,
             "#f7f7f7"
            ],
            [
             0.6,
             "#e6f5d0"
            ],
            [
             0.7,
             "#b8e186"
            ],
            [
             0.8,
             "#7fbc41"
            ],
            [
             0.9,
             "#4d9221"
            ],
            [
             1,
             "#276419"
            ]
           ],
           "sequential": [
            [
             0,
             "#0d0887"
            ],
            [
             0.1111111111111111,
             "#46039f"
            ],
            [
             0.2222222222222222,
             "#7201a8"
            ],
            [
             0.3333333333333333,
             "#9c179e"
            ],
            [
             0.4444444444444444,
             "#bd3786"
            ],
            [
             0.5555555555555556,
             "#d8576b"
            ],
            [
             0.6666666666666666,
             "#ed7953"
            ],
            [
             0.7777777777777778,
             "#fb9f3a"
            ],
            [
             0.8888888888888888,
             "#fdca26"
            ],
            [
             1,
             "#f0f921"
            ]
           ],
           "sequentialminus": [
            [
             0,
             "#0d0887"
            ],
            [
             0.1111111111111111,
             "#46039f"
            ],
            [
             0.2222222222222222,
             "#7201a8"
            ],
            [
             0.3333333333333333,
             "#9c179e"
            ],
            [
             0.4444444444444444,
             "#bd3786"
            ],
            [
             0.5555555555555556,
             "#d8576b"
            ],
            [
             0.6666666666666666,
             "#ed7953"
            ],
            [
             0.7777777777777778,
             "#fb9f3a"
            ],
            [
             0.8888888888888888,
             "#fdca26"
            ],
            [
             1,
             "#f0f921"
            ]
           ]
          },
          "colorway": [
           "#636efa",
           "#EF553B",
           "#00cc96",
           "#ab63fa",
           "#FFA15A",
           "#19d3f3",
           "#FF6692",
           "#B6E880",
           "#FF97FF",
           "#FECB52"
          ],
          "font": {
           "color": "#2a3f5f"
          },
          "geo": {
           "bgcolor": "white",
           "lakecolor": "white",
           "landcolor": "white",
           "showlakes": true,
           "showland": true,
           "subunitcolor": "#C8D4E3"
          },
          "hoverlabel": {
           "align": "left"
          },
          "hovermode": "closest",
          "mapbox": {
           "style": "light"
          },
          "paper_bgcolor": "white",
          "plot_bgcolor": "white",
          "polar": {
           "angularaxis": {
            "gridcolor": "#EBF0F8",
            "linecolor": "#EBF0F8",
            "ticks": ""
           },
           "bgcolor": "white",
           "radialaxis": {
            "gridcolor": "#EBF0F8",
            "linecolor": "#EBF0F8",
            "ticks": ""
           }
          },
          "scene": {
           "xaxis": {
            "backgroundcolor": "white",
            "gridcolor": "#DFE8F3",
            "gridwidth": 2,
            "linecolor": "#EBF0F8",
            "showbackground": true,
            "ticks": "",
            "zerolinecolor": "#EBF0F8"
           },
           "yaxis": {
            "backgroundcolor": "white",
            "gridcolor": "#DFE8F3",
            "gridwidth": 2,
            "linecolor": "#EBF0F8",
            "showbackground": true,
            "ticks": "",
            "zerolinecolor": "#EBF0F8"
           },
           "zaxis": {
            "backgroundcolor": "white",
            "gridcolor": "#DFE8F3",
            "gridwidth": 2,
            "linecolor": "#EBF0F8",
            "showbackground": true,
            "ticks": "",
            "zerolinecolor": "#EBF0F8"
           }
          },
          "shapedefaults": {
           "line": {
            "color": "#2a3f5f"
           }
          },
          "ternary": {
           "aaxis": {
            "gridcolor": "#DFE8F3",
            "linecolor": "#A2B1C6",
            "ticks": ""
           },
           "baxis": {
            "gridcolor": "#DFE8F3",
            "linecolor": "#A2B1C6",
            "ticks": ""
           },
           "bgcolor": "white",
           "caxis": {
            "gridcolor": "#DFE8F3",
            "linecolor": "#A2B1C6",
            "ticks": ""
           }
          },
          "title": {
           "x": 0.05
          },
          "xaxis": {
           "automargin": true,
           "gridcolor": "#EBF0F8",
           "linecolor": "#EBF0F8",
           "ticks": "",
           "title": {
            "standoff": 15
           },
           "zerolinecolor": "#EBF0F8",
           "zerolinewidth": 2
          },
          "yaxis": {
           "automargin": true,
           "gridcolor": "#EBF0F8",
           "linecolor": "#EBF0F8",
           "ticks": "",
           "title": {
            "standoff": 15
           },
           "zerolinecolor": "#EBF0F8",
           "zerolinewidth": 2
          }
         }
        },
        "title": {
         "text": "Yearly Ridership for Each Route"
        },
        "xaxis": {
         "anchor": "y",
         "domain": [
          0,
          1
         ],
         "title": {
          "text": "Year"
         }
        },
        "yaxis": {
         "anchor": "x",
         "domain": [
          0,
          1
         ],
         "title": {
          "text": "Yearly Ridership (ons_all_trips)"
         }
        }
       }
      }
     },
     "metadata": {},
     "output_type": "display_data"
    },
    {
     "data": {
      "image/png": "[encoded data removed]",
      "text/plain": [
       "<Figure size 1200x600 with 1 Axes>"
      ]
     },
     "metadata": {},
     "output_type": "display_data"
    }
   ],
   "source": [
    "# plt.figure(figsize=(12, 6))\n",
    "# sns.lineplot(data=filtered_data, x='year', y='yearly_ons_all_trips', hue='route_id', marker='o')\n",
    "# plt.title(\"Yearly Ridership for Each Route\", fontsize=16)\n",
    "# plt.xlabel(\"Year\", fontsize=12)\n",
    "# plt.ylabel(\"Yearly Ridership (ons_all_trips)\", fontsize=12)\n",
    "# plt.legend(title=\"Route ID\", bbox_to_anchor=(1.05, 1), loc='upper left')\n",
    "# plt.grid(alpha=0.3)\n",
    "# plt.tight_layout()\n",
    "# plt.savefig('yearly_ridership_per_route.png', dpi=400)\n",
    "\n",
    "# Visualization 1: Yearly Ridership for Each Route\n",
    "plotly_fig = px.line(filtered_data, x='year', y='yearly_ons_all_trips', color='route_id', markers=True)\n",
    "plotly_fig.update_layout(\n",
    "    title=\"Yearly Ridership for Each Route\",\n",
    "    xaxis_title=\"Year\",\n",
    "    yaxis_title=\"Yearly Ridership (ons_all_trips)\",\n",
    "    legend_title=\"Route ID\",\n",
    "    template='plotly_white'\n",
    ")\n",
    "\n",
    "\n",
    "plotly_fig.write_html(\"./Plots/Ridership/yearly_ridership_per_route.html\")\n",
    "plotly_fig.show()\n"
   ]
  },
  {
   "cell_type": "code",
   "execution_count": 13,
   "id": "fb8d4254-8a22-49af-8ebf-245f8c8fe302",
   "metadata": {
    "execution": {
     "iopub.execute_input": "2025-04-01T02:19:05.470009Z",
     "iopub.status.busy": "2025-04-01T02:19:05.470009Z",
     "iopub.status.idle": "2025-04-01T02:19:06.426349Z",
     "shell.execute_reply": "2025-04-01T02:19:06.426349Z",
     "shell.execute_reply.started": "2025-04-01T02:19:05.470009Z"
    }
   },
   "outputs": [
    {
     "data": {
      "application/vnd.plotly.v1+json": {
       "config": {
        "plotlyServerURL": "https://plot.ly"
       },
       "data": [
        {
         "alignmentgroup": "True",
         "hovertemplate": "route_id=111<br>year=%{x}<br>change=%{y}<extra></extra>",
         "legendgroup": "111",
         "marker": {
          "color": "#636efa",
          "pattern": {
           "shape": ""
          }
         },
         "name": "111",
         "offsetgroup": "111",
         "orientation": "v",
         "showlegend": true,
         "textposition": "auto",
         "type": "bar",
         "x": {
          "bdata": "6Ac=",
          "dtype": "i2"
         },
         "xaxis": "x",
         "y": {
          "bdata": "AAAAAAAA+H8=",
          "dtype": "f8"
         },
         "yaxis": "y"
        },
        {
         "alignmentgroup": "True",
         "hovertemplate": "route_id=14<br>year=%{x}<br>change=%{y}<extra></extra>",
         "legendgroup": "14",
         "marker": {
          "color": "#EF553B",
          "pattern": {
           "shape": ""
          }
         },
         "name": "14",
         "offsetgroup": "14",
         "orientation": "v",
         "showlegend": true,
         "textposition": "auto",
         "type": "bar",
         "x": {
          "bdata": "5wfoBw==",
          "dtype": "i2"
         },
         "xaxis": "x",
         "y": {
          "bdata": "AAAAAAAA+H///////2eQwA==",
          "dtype": "f8"
         },
         "yaxis": "y"
        },
        {
         "alignmentgroup": "True",
         "hovertemplate": "route_id=15<br>year=%{x}<br>change=%{y}<extra></extra>",
         "legendgroup": "15",
         "marker": {
          "color": "#00cc96",
          "pattern": {
           "shape": ""
          }
         },
         "name": "15",
         "offsetgroup": "15",
         "orientation": "v",
         "showlegend": true,
         "textposition": "auto",
         "type": "bar",
         "x": {
          "bdata": "5wfoBw==",
          "dtype": "i2"
         },
         "xaxis": "x",
         "y": {
          "bdata": "AAAAAAAA+H+amZmZmemzwA==",
          "dtype": "f8"
         },
         "yaxis": "y"
        },
        {
         "alignmentgroup": "True",
         "hovertemplate": "route_id=17<br>year=%{x}<br>change=%{y}<extra></extra>",
         "legendgroup": "17",
         "marker": {
          "color": "#ab63fa",
          "pattern": {
           "shape": ""
          }
         },
         "name": "17",
         "offsetgroup": "17",
         "orientation": "v",
         "showlegend": true,
         "textposition": "auto",
         "type": "bar",
         "x": {
          "bdata": "5wfoBw==",
          "dtype": "i2"
         },
         "xaxis": "x",
         "y": {
          "bdata": "AAAAAAAA+H+amZmZmZuiwA==",
          "dtype": "f8"
         },
         "yaxis": "y"
        },
        {
         "alignmentgroup": "True",
         "hovertemplate": "route_id=22<br>year=%{x}<br>change=%{y}<extra></extra>",
         "legendgroup": "22",
         "marker": {
          "color": "#FFA15A",
          "pattern": {
           "shape": ""
          }
         },
         "name": "22",
         "offsetgroup": "22",
         "orientation": "v",
         "showlegend": true,
         "textposition": "auto",
         "type": "bar",
         "x": {
          "bdata": "4AfhB+IH4wfkB+YH5wfoBw==",
          "dtype": "i2"
         },
         "xaxis": "x",
         "y": {
          "bdata": "AAAAAAAA+H9AMzMzMyt1QIBmZmZmnnPAIAAAAACAiUA0MzMzM1u+wJyZmZmZH6tAYGZmZmbgmkAzMzMzM/K7wA==",
          "dtype": "f8"
         },
         "yaxis": "y"
        },
        {
         "alignmentgroup": "True",
         "hovertemplate": "route_id=23<br>year=%{x}<br>change=%{y}<extra></extra>",
         "legendgroup": "23",
         "marker": {
          "color": "#19d3f3",
          "pattern": {
           "shape": ""
          }
         },
         "name": "23",
         "offsetgroup": "23",
         "orientation": "v",
         "showlegend": true,
         "textposition": "auto",
         "type": "bar",
         "x": {
          "bdata": "4AfhB+IH4wfkB+YH5wfoBw==",
          "dtype": "i2"
         },
         "xaxis": "x",
         "y": {
          "bdata": "AAAAAAAA+H8AeGZmZmYuQIBmZmZmAoPAwMzMzMzQgkBnZmZm5mjDwAEAAACAp8BASDMzMzMlo0A6MzMz85HGwA==",
          "dtype": "f8"
         },
         "yaxis": "y"
        },
        {
         "alignmentgroup": "True",
         "hovertemplate": "route_id=24<br>year=%{x}<br>change=%{y}<extra></extra>",
         "legendgroup": "24",
         "marker": {
          "color": "#FF6692",
          "pattern": {
           "shape": ""
          }
         },
         "name": "24",
         "offsetgroup": "24",
         "orientation": "v",
         "showlegend": true,
         "textposition": "auto",
         "type": "bar",
         "x": {
          "bdata": "4AfhB+IH4wfkB+YH5wfoBw==",
          "dtype": "i2"
         },
         "xaxis": "x",
         "y": {
          "bdata": "AAAAAAAA+H8AAAAAAGB8QABmZmZmZiTAIBfVIiICY8ABAAAAAF2ZwEsJwaqq+5ZAIDMzMzNDbEDLzMzMzGCbwA==",
          "dtype": "f8"
         },
         "yaxis": "y"
        },
        {
         "alignmentgroup": "True",
         "hovertemplate": "route_id=26<br>year=%{x}<br>change=%{y}<extra></extra>",
         "legendgroup": "26",
         "marker": {
          "color": "#B6E880",
          "pattern": {
           "shape": ""
          }
         },
         "name": "26",
         "offsetgroup": "26",
         "orientation": "v",
         "showlegend": true,
         "textposition": "auto",
         "type": "bar",
         "x": {
          "bdata": "4AfhB+IH4wfkB+UH5gfnB+gH",
          "dtype": "i2"
         },
         "xaxis": "x",
         "y": {
          "bdata": "AAAAAAAA+H9gaJHtfBt9QEAzMzMz81XA8P////9vZMACAAAAAOiUwJqZmZmZFYBAmJmZmZnpZ8AAAAAAAMBiwM3MzMzM3IHA",
          "dtype": "f8"
         },
         "yaxis": "y"
        },
        {
         "alignmentgroup": "True",
         "hovertemplate": "route_id=29<br>year=%{x}<br>change=%{y}<extra></extra>",
         "legendgroup": "29",
         "marker": {
          "color": "#FF97FF",
          "pattern": {
           "shape": ""
          }
         },
         "name": "29",
         "offsetgroup": "29",
         "orientation": "v",
         "showlegend": true,
         "textposition": "auto",
         "type": "bar",
         "x": {
          "bdata": "4AfhB+IH4wfkB+UH5gfnB+gH",
          "dtype": "i2"
         },
         "xaxis": "x",
         "y": {
          "bdata": "AAAAAAAA+H/AzMzMzIxcQGBmZmZmhm3AgJmZmZmZQ0CZmZmZmSeXwMzMzMzMFHJAZGZmZmayhEBgZmZmZpZ+wGdmZmZmdJXA",
          "dtype": "f8"
         },
         "yaxis": "y"
        },
        {
         "alignmentgroup": "True",
         "hovertemplate": "route_id=31<br>year=%{x}<br>change=%{y}<extra></extra>",
         "legendgroup": "31",
         "marker": {
          "color": "#FECB52",
          "pattern": {
           "shape": ""
          }
         },
         "name": "31",
         "offsetgroup": "31",
         "orientation": "v",
         "showlegend": true,
         "textposition": "auto",
         "type": "bar",
         "x": {
          "bdata": "4AfhB+IH4wfkB+UH5gfnB+gH",
          "dtype": "i2"
         },
         "xaxis": "x",
         "y": {
          "bdata": "AAAAAAAA+H/AzMzMzLR9QMAfV1VVhWnAADiqqqrehsABAAAAgAGywLDMzMzMXHJAYGZmZmb+d8AgMzMzM3WYQMLMzMzMeKjA",
          "dtype": "f8"
         },
         "yaxis": "y"
        },
        {
         "alignmentgroup": "True",
         "hovertemplate": "route_id=33<br>year=%{x}<br>change=%{y}<extra></extra>",
         "legendgroup": "33",
         "marker": {
          "color": "#636efa",
          "pattern": {
           "shape": ""
          }
         },
         "name": "33",
         "offsetgroup": "33",
         "orientation": "v",
         "showlegend": true,
         "textposition": "auto",
         "type": "bar",
         "x": {
          "bdata": "4AfhB+IH4wfkB+UH5gfnB+gH",
          "dtype": "i2"
         },
         "xaxis": "x",
         "y": {
          "bdata": "AAAAAAAA+H+cmZmZmcF3QACamZmZmS3A0MzMzMzMVECZmZmZmQWRwDQzMzMz439AoJmZmZkZTsD8/////xd1QMzMzMzMxI7A",
          "dtype": "f8"
         },
         "yaxis": "y"
        },
        {
         "alignmentgroup": "True",
         "hovertemplate": "route_id=42<br>year=%{x}<br>change=%{y}<extra></extra>",
         "legendgroup": "42",
         "marker": {
          "color": "#EF553B",
          "pattern": {
           "shape": ""
          }
         },
         "name": "42",
         "offsetgroup": "42",
         "orientation": "v",
         "showlegend": true,
         "textposition": "auto",
         "type": "bar",
         "x": {
          "bdata": "4gfjB+UH5gfnB+gH",
          "dtype": "i2"
         },
         "xaxis": "x",
         "y": {
          "bdata": "AAAAAAAA+H+AZmZmZrZpQGpmZmZmNJPAcJmZmZnpakAAAAAAAABUwAgAAAAACHFA",
          "dtype": "f8"
         },
         "yaxis": "y"
        },
        {
         "alignmentgroup": "True",
         "hovertemplate": "route_id=44<br>year=%{x}<br>change=%{y}<extra></extra>",
         "legendgroup": "44",
         "marker": {
          "color": "#00cc96",
          "pattern": {
           "shape": ""
          }
         },
         "name": "44",
         "offsetgroup": "44",
         "orientation": "v",
         "showlegend": true,
         "textposition": "auto",
         "type": "bar",
         "x": {
          "bdata": "4gfjB+UH5wfoBw==",
          "dtype": "i2"
         },
         "xaxis": "x",
         "y": {
          "bdata": "AAAAAAAA+H/AzMzMzPRywDMzMzMzWaDAYGZmZmYGfkAQAAAAAFBmQA==",
          "dtype": "f8"
         },
         "yaxis": "y"
        },
        {
         "alignmentgroup": "True",
         "hovertemplate": "route_id=45<br>year=%{x}<br>change=%{y}<extra></extra>",
         "legendgroup": "45",
         "marker": {
          "color": "#ab63fa",
          "pattern": {
           "shape": ""
          }
         },
         "name": "45",
         "offsetgroup": "45",
         "orientation": "v",
         "showlegend": true,
         "textposition": "auto",
         "type": "bar",
         "x": {
          "bdata": "4gfjB+UH5wfoBw==",
          "dtype": "i2"
         },
         "xaxis": "x",
         "y": {
          "bdata": "AAAAAAAA+H/AmZmZmZlQwJiZmZmZ66DAwP////+/TUAAzszMzMwuQA==",
          "dtype": "f8"
         },
         "yaxis": "y"
        }
       ],
       "layout": {
        "barmode": "group",
        "legend": {
         "title": {
          "text": "Route ID"
         },
         "tracegroupgap": 0
        },
        "margin": {
         "t": 60
        },
        "template": {
         "data": {
          "bar": [
           {
            "error_x": {
             "color": "#2a3f5f"
            },
            "error_y": {
             "color": "#2a3f5f"
            },
            "marker": {
             "line": {
              "color": "white",
              "width": 0.5
             },
             "pattern": {
              "fillmode": "overlay",
              "size": 10,
              "solidity": 0.2
             }
            },
            "type": "bar"
           }
          ],
          "barpolar": [
           {
            "marker": {
             "line": {
              "color": "white",
              "width": 0.5
             },
             "pattern": {
              "fillmode": "overlay",
              "size": 10,
              "solidity": 0.2
             }
            },
            "type": "barpolar"
           }
          ],
          "carpet": [
           {
            "aaxis": {
             "endlinecolor": "#2a3f5f",
             "gridcolor": "#C8D4E3",
             "linecolor": "#C8D4E3",
             "minorgridcolor": "#C8D4E3",
             "startlinecolor": "#2a3f5f"
            },
            "baxis": {
             "endlinecolor": "#2a3f5f",
             "gridcolor": "#C8D4E3",
             "linecolor": "#C8D4E3",
             "minorgridcolor": "#C8D4E3",
             "startlinecolor": "#2a3f5f"
            },
            "type": "carpet"
           }
          ],
          "choropleth": [
           {
            "colorbar": {
             "outlinewidth": 0,
             "ticks": ""
            },
            "type": "choropleth"
           }
          ],
          "contour": [
           {
            "colorbar": {
             "outlinewidth": 0,
             "ticks": ""
            },
            "colorscale": [
             [
              0,
              "#0d0887"
             ],
             [
              0.1111111111111111,
              "#46039f"
             ],
             [
              0.2222222222222222,
              "#7201a8"
             ],
             [
              0.3333333333333333,
              "#9c179e"
             ],
             [
              0.4444444444444444,
              "#bd3786"
             ],
             [
              0.5555555555555556,
              "#d8576b"
             ],
             [
              0.6666666666666666,
              "#ed7953"
             ],
             [
              0.7777777777777778,
              "#fb9f3a"
             ],
             [
              0.8888888888888888,
              "#fdca26"
             ],
             [
              1,
              "#f0f921"
             ]
            ],
            "type": "contour"
           }
          ],
          "contourcarpet": [
           {
            "colorbar": {
             "outlinewidth": 0,
             "ticks": ""
            },
            "type": "contourcarpet"
           }
          ],
          "heatmap": [
           {
            "colorbar": {
             "outlinewidth": 0,
             "ticks": ""
            },
            "colorscale": [
             [
              0,
              "#0d0887"
             ],
             [
              0.1111111111111111,
              "#46039f"
             ],
             [
              0.2222222222222222,
              "#7201a8"
             ],
             [
              0.3333333333333333,
              "#9c179e"
             ],
             [
              0.4444444444444444,
              "#bd3786"
             ],
             [
              0.5555555555555556,
              "#d8576b"
             ],
             [
              0.6666666666666666,
              "#ed7953"
             ],
             [
              0.7777777777777778,
              "#fb9f3a"
             ],
             [
              0.8888888888888888,
              "#fdca26"
             ],
             [
              1,
              "#f0f921"
             ]
            ],
            "type": "heatmap"
           }
          ],
          "histogram": [
           {
            "marker": {
             "pattern": {
              "fillmode": "overlay",
              "size": 10,
              "solidity": 0.2
             }
            },
            "type": "histogram"
           }
          ],
          "histogram2d": [
           {
            "colorbar": {
             "outlinewidth": 0,
             "ticks": ""
            },
            "colorscale": [
             [
              0,
              "#0d0887"
             ],
             [
              0.1111111111111111,
              "#46039f"
             ],
             [
              0.2222222222222222,
              "#7201a8"
             ],
             [
              0.3333333333333333,
              "#9c179e"
             ],
             [
              0.4444444444444444,
              "#bd3786"
             ],
             [
              0.5555555555555556,
              "#d8576b"
             ],
             [
              0.6666666666666666,
              "#ed7953"
             ],
             [
              0.7777777777777778,
              "#fb9f3a"
             ],
             [
              0.8888888888888888,
              "#fdca26"
             ],
             [
              1,
              "#f0f921"
             ]
            ],
            "type": "histogram2d"
           }
          ],
          "histogram2dcontour": [
           {
            "colorbar": {
             "outlinewidth": 0,
             "ticks": ""
            },
            "colorscale": [
             [
              0,
              "#0d0887"
             ],
             [
              0.1111111111111111,
              "#46039f"
             ],
             [
              0.2222222222222222,
              "#7201a8"
             ],
             [
              0.3333333333333333,
              "#9c179e"
             ],
             [
              0.4444444444444444,
              "#bd3786"
             ],
             [
              0.5555555555555556,
              "#d8576b"
             ],
             [
              0.6666666666666666,
              "#ed7953"
             ],
             [
              0.7777777777777778,
              "#fb9f3a"
             ],
             [
              0.8888888888888888,
              "#fdca26"
             ],
             [
              1,
              "#f0f921"
             ]
            ],
            "type": "histogram2dcontour"
           }
          ],
          "mesh3d": [
           {
            "colorbar": {
             "outlinewidth": 0,
             "ticks": ""
            },
            "type": "mesh3d"
           }
          ],
          "parcoords": [
           {
            "line": {
             "colorbar": {
              "outlinewidth": 0,
              "ticks": ""
             }
            },
            "type": "parcoords"
           }
          ],
          "pie": [
           {
            "automargin": true,
            "type": "pie"
           }
          ],
          "scatter": [
           {
            "fillpattern": {
             "fillmode": "overlay",
             "size": 10,
             "solidity": 0.2
            },
            "type": "scatter"
           }
          ],
          "scatter3d": [
           {
            "line": {
             "colorbar": {
              "outlinewidth": 0,
              "ticks": ""
             }
            },
            "marker": {
             "colorbar": {
              "outlinewidth": 0,
              "ticks": ""
             }
            },
            "type": "scatter3d"
           }
          ],
          "scattercarpet": [
           {
            "marker": {
             "colorbar": {
              "outlinewidth": 0,
              "ticks": ""
             }
            },
            "type": "scattercarpet"
           }
          ],
          "scattergeo": [
           {
            "marker": {
             "colorbar": {
              "outlinewidth": 0,
              "ticks": ""
             }
            },
            "type": "scattergeo"
           }
          ],
          "scattergl": [
           {
            "marker": {
             "colorbar": {
              "outlinewidth": 0,
              "ticks": ""
             }
            },
            "type": "scattergl"
           }
          ],
          "scattermap": [
           {
            "marker": {
             "colorbar": {
              "outlinewidth": 0,
              "ticks": ""
             }
            },
            "type": "scattermap"
           }
          ],
          "scattermapbox": [
           {
            "marker": {
             "colorbar": {
              "outlinewidth": 0,
              "ticks": ""
             }
            },
            "type": "scattermapbox"
           }
          ],
          "scatterpolar": [
           {
            "marker": {
             "colorbar": {
              "outlinewidth": 0,
              "ticks": ""
             }
            },
            "type": "scatterpolar"
           }
          ],
          "scatterpolargl": [
           {
            "marker": {
             "colorbar": {
              "outlinewidth": 0,
              "ticks": ""
             }
            },
            "type": "scatterpolargl"
           }
          ],
          "scatterternary": [
           {
            "marker": {
             "colorbar": {
              "outlinewidth": 0,
              "ticks": ""
             }
            },
            "type": "scatterternary"
           }
          ],
          "surface": [
           {
            "colorbar": {
             "outlinewidth": 0,
             "ticks": ""
            },
            "colorscale": [
             [
              0,
              "#0d0887"
             ],
             [
              0.1111111111111111,
              "#46039f"
             ],
             [
              0.2222222222222222,
              "#7201a8"
             ],
             [
              0.3333333333333333,
              "#9c179e"
             ],
             [
              0.4444444444444444,
              "#bd3786"
             ],
             [
              0.5555555555555556,
              "#d8576b"
             ],
             [
              0.6666666666666666,
              "#ed7953"
             ],
             [
              0.7777777777777778,
              "#fb9f3a"
             ],
             [
              0.8888888888888888,
              "#fdca26"
             ],
             [
              1,
              "#f0f921"
             ]
            ],
            "type": "surface"
           }
          ],
          "table": [
           {
            "cells": {
             "fill": {
              "color": "#EBF0F8"
             },
             "line": {
              "color": "white"
             }
            },
            "header": {
             "fill": {
              "color": "#C8D4E3"
             },
             "line": {
              "color": "white"
             }
            },
            "type": "table"
           }
          ]
         },
         "layout": {
          "annotationdefaults": {
           "arrowcolor": "#2a3f5f",
           "arrowhead": 0,
           "arrowwidth": 1
          },
          "autotypenumbers": "strict",
          "coloraxis": {
           "colorbar": {
            "outlinewidth": 0,
            "ticks": ""
           }
          },
          "colorscale": {
           "diverging": [
            [
             0,
             "#8e0152"
            ],
            [
             0.1,
             "#c51b7d"
            ],
            [
             0.2,
             "#de77ae"
            ],
            [
             0.3,
             "#f1b6da"
            ],
            [
             0.4,
             "#fde0ef"
            ],
            [
             0.5,
             "#f7f7f7"
            ],
            [
             0.6,
             "#e6f5d0"
            ],
            [
             0.7,
             "#b8e186"
            ],
            [
             0.8,
             "#7fbc41"
            ],
            [
             0.9,
             "#4d9221"
            ],
            [
             1,
             "#276419"
            ]
           ],
           "sequential": [
            [
             0,
             "#0d0887"
            ],
            [
             0.1111111111111111,
             "#46039f"
            ],
            [
             0.2222222222222222,
             "#7201a8"
            ],
            [
             0.3333333333333333,
             "#9c179e"
            ],
            [
             0.4444444444444444,
             "#bd3786"
            ],
            [
             0.5555555555555556,
             "#d8576b"
            ],
            [
             0.6666666666666666,
             "#ed7953"
            ],
            [
             0.7777777777777778,
             "#fb9f3a"
            ],
            [
             0.8888888888888888,
             "#fdca26"
            ],
            [
             1,
             "#f0f921"
            ]
           ],
           "sequentialminus": [
            [
             0,
             "#0d0887"
            ],
            [
             0.1111111111111111,
             "#46039f"
            ],
            [
             0.2222222222222222,
             "#7201a8"
            ],
            [
             0.3333333333333333,
             "#9c179e"
            ],
            [
             0.4444444444444444,
             "#bd3786"
            ],
            [
             0.5555555555555556,
             "#d8576b"
            ],
            [
             0.6666666666666666,
             "#ed7953"
            ],
            [
             0.7777777777777778,
             "#fb9f3a"
            ],
            [
             0.8888888888888888,
             "#fdca26"
            ],
            [
             1,
             "#f0f921"
            ]
           ]
          },
          "colorway": [
           "#636efa",
           "#EF553B",
           "#00cc96",
           "#ab63fa",
           "#FFA15A",
           "#19d3f3",
           "#FF6692",
           "#B6E880",
           "#FF97FF",
           "#FECB52"
          ],
          "font": {
           "color": "#2a3f5f"
          },
          "geo": {
           "bgcolor": "white",
           "lakecolor": "white",
           "landcolor": "white",
           "showlakes": true,
           "showland": true,
           "subunitcolor": "#C8D4E3"
          },
          "hoverlabel": {
           "align": "left"
          },
          "hovermode": "closest",
          "mapbox": {
           "style": "light"
          },
          "paper_bgcolor": "white",
          "plot_bgcolor": "white",
          "polar": {
           "angularaxis": {
            "gridcolor": "#EBF0F8",
            "linecolor": "#EBF0F8",
            "ticks": ""
           },
           "bgcolor": "white",
           "radialaxis": {
            "gridcolor": "#EBF0F8",
            "linecolor": "#EBF0F8",
            "ticks": ""
           }
          },
          "scene": {
           "xaxis": {
            "backgroundcolor": "white",
            "gridcolor": "#DFE8F3",
            "gridwidth": 2,
            "linecolor": "#EBF0F8",
            "showbackground": true,
            "ticks": "",
            "zerolinecolor": "#EBF0F8"
           },
           "yaxis": {
            "backgroundcolor": "white",
            "gridcolor": "#DFE8F3",
            "gridwidth": 2,
            "linecolor": "#EBF0F8",
            "showbackground": true,
            "ticks": "",
            "zerolinecolor": "#EBF0F8"
           },
           "zaxis": {
            "backgroundcolor": "white",
            "gridcolor": "#DFE8F3",
            "gridwidth": 2,
            "linecolor": "#EBF0F8",
            "showbackground": true,
            "ticks": "",
            "zerolinecolor": "#EBF0F8"
           }
          },
          "shapedefaults": {
           "line": {
            "color": "#2a3f5f"
           }
          },
          "ternary": {
           "aaxis": {
            "gridcolor": "#DFE8F3",
            "linecolor": "#A2B1C6",
            "ticks": ""
           },
           "baxis": {
            "gridcolor": "#DFE8F3",
            "linecolor": "#A2B1C6",
            "ticks": ""
           },
           "bgcolor": "white",
           "caxis": {
            "gridcolor": "#DFE8F3",
            "linecolor": "#A2B1C6",
            "ticks": ""
           }
          },
          "title": {
           "x": 0.05
          },
          "xaxis": {
           "automargin": true,
           "gridcolor": "#EBF0F8",
           "linecolor": "#EBF0F8",
           "ticks": "",
           "title": {
            "standoff": 15
           },
           "zerolinecolor": "#EBF0F8",
           "zerolinewidth": 2
          },
          "yaxis": {
           "automargin": true,
           "gridcolor": "#EBF0F8",
           "linecolor": "#EBF0F8",
           "ticks": "",
           "title": {
            "standoff": 15
           },
           "zerolinecolor": "#EBF0F8",
           "zerolinewidth": 2
          }
         }
        },
        "title": {
         "text": "Year-over-Year Change in Ridership"
        },
        "xaxis": {
         "anchor": "y",
         "domain": [
          0,
          1
         ],
         "title": {
          "text": "Year"
         }
        },
        "yaxis": {
         "anchor": "x",
         "domain": [
          0,
          1
         ],
         "title": {
          "text": "Change in Ridership"
         }
        }
       }
      }
     },
     "metadata": {},
     "output_type": "display_data"
    }
   ],
   "source": [
    "# Visualization 2: Year-over-Year Change for Each Route\n",
    "# plt.figure(figsize=(12, 6))\n",
    "# sns.barplot(data=filtered_data, x='year', y='change', hue='route_id', dodge=True)\n",
    "# plt.axhline(0, color='black', linewidth=0.8, linestyle='--')\n",
    "# plt.title(\"Year-over-Year Change in Ridership\", fontsize=16)\n",
    "# plt.xlabel(\"Year\", fontsize=12)\n",
    "# plt.ylabel(\"Change in Ridership\", fontsize=12)\n",
    "# plt.legend(title=\"Route ID\", bbox_to_anchor=(1.05, 1), loc='upper left')\n",
    "# plt.grid(alpha=0.3)\n",
    "# plt.tight_layout()\n",
    "# plt.savefig('yeary_change_per_route.png', dpi=400)\n",
    "# plt.show()\n",
    "\n",
    "# Visualization 2: Year-over-Year Change for Each Route\n",
    "plotly_fig2 = px.bar(filtered_data, x='year', y='change', color='route_id', barmode='group')\n",
    "plotly_fig2.update_layout(\n",
    "    title=\"Year-over-Year Change in Ridership\",\n",
    "    xaxis_title=\"Year\",\n",
    "    yaxis_title=\"Change in Ridership\",\n",
    "    legend_title=\"Route ID\",\n",
    "    template='plotly_white'\n",
    ")\n",
    "\n",
    "plotly_fig2.write_html(\"./Plots/Ridership/yearly_change_per_route.html\")\n",
    "plotly_fig2.show()"
   ]
  },
  {
   "cell_type": "code",
   "execution_count": 14,
   "id": "4ea7dd66-a8b8-4c4c-8f25-41d7283b70c6",
   "metadata": {
    "execution": {
     "iopub.execute_input": "2025-04-01T02:13:19.751583Z",
     "iopub.status.busy": "2025-04-01T02:13:19.751583Z",
     "iopub.status.idle": "2025-04-01T02:13:19.765874Z",
     "shell.execute_reply": "2025-04-01T02:13:19.765874Z",
     "shell.execute_reply.started": "2025-04-01T02:13:19.751583Z"
    }
   },
   "outputs": [],
   "source": [
    "# Step 4: Categorize Routes as Gained or Lost Riders\n",
    "gains = filtered_data[filtered_data['change'] > 0]\n",
    "losses = filtered_data[filtered_data['change'] < 0]\n",
    "\n",
    "# Step 5: Identify Unique Routes with Gains or Losses\n",
    "routes_with_gains = gains['route_id'].unique()\n",
    "routes_with_losses = losses['route_id'].unique()"
   ]
  },
  {
   "cell_type": "code",
   "execution_count": null,
   "id": "5c01877c-6e44-4c00-beb9-a29fa9539248",
   "metadata": {
    "execution": {
     "iopub.execute_input": "2025-03-30T22:47:54.032579Z",
     "iopub.status.busy": "2025-03-30T22:47:54.031827Z",
     "iopub.status.idle": "2025-03-30T22:47:55.147231Z",
     "shell.execute_reply": "2025-03-30T22:47:55.146123Z",
     "shell.execute_reply.started": "2025-03-30T22:47:54.032579Z"
    }
   },
   "outputs": [
    {
     "data": {
      "image/png": "[encoded data removed]",
      "text/plain": [
       "<Figure size 1200x600 with 1 Axes>"
      ]
     },
     "metadata": {},
     "output_type": "display_data"
    },
    {
     "data": {
      "application/vnd.plotly.v1+json": {
       "config": {
        "plotlyServerURL": "https://plot.ly"
       },
       "data": [
        {
         "bingroup": "y",
         "hovertemplate": "ChangeType=Gains<br>count=%{x}<br>Route ID=%{y}<extra></extra>",
         "legendgroup": "Gains",
         "marker": {
          "color": "#636efa",
          "pattern": {
           "shape": ""
          }
         },
         "name": "Gains",
         "orientation": "h",
         "showlegend": true,
         "type": "histogram",
         "xaxis": "x",
         "y": [
          "22",
          "22",
          "22",
          "22",
          "23",
          "23",
          "23",
          "23",
          "24",
          "24",
          "24",
          "26",
          "26",
          "29",
          "29",
          "29",
          "29",
          "31",
          "31",
          "31",
          "33",
          "33",
          "33",
          "33",
          "42",
          "42",
          "42",
          "44",
          "44",
          "45",
          "45"
         ],
         "yaxis": "y"
        },
        {
         "bingroup": "y",
         "hovertemplate": "ChangeType=Losses<br>count=%{x}<br>Route ID=%{y}<extra></extra>",
         "legendgroup": "Losses",
         "marker": {
          "color": "#EF553B",
          "pattern": {
           "shape": ""
          }
         },
         "name": "Losses",
         "orientation": "h",
         "showlegend": true,
         "type": "histogram",
         "xaxis": "x",
         "y": [
          "14",
          "15",
          "17",
          "22",
          "22",
          "22",
          "23",
          "23",
          "23",
          "24",
          "24",
          "24",
          "24",
          "26",
          "26",
          "26",
          "26",
          "26",
          "26",
          "29",
          "29",
          "29",
          "29",
          "31",
          "31",
          "31",
          "31",
          "31",
          "33",
          "33",
          "33",
          "33",
          "42",
          "42",
          "44",
          "44",
          "45",
          "45"
         ],
         "yaxis": "y"
        }
       ],
       "layout": {
        "barmode": "stack",
        "legend": {
         "title": {
          "text": "Change Type"
         },
         "tracegroupgap": 0
        },
        "template": {
         "data": {
          "bar": [
           {
            "error_x": {
             "color": "#2a3f5f"
            },
            "error_y": {
             "color": "#2a3f5f"
            },
            "marker": {
             "line": {
              "color": "white",
              "width": 0.5
             },
             "pattern": {
              "fillmode": "overlay",
              "size": 10,
              "solidity": 0.2
             }
            },
            "type": "bar"
           }
          ],
          "barpolar": [
           {
            "marker": {
             "line": {
              "color": "white",
              "width": 0.5
             },
             "pattern": {
              "fillmode": "overlay",
              "size": 10,
              "solidity": 0.2
             }
            },
            "type": "barpolar"
           }
          ],
          "carpet": [
           {
            "aaxis": {
             "endlinecolor": "#2a3f5f",
             "gridcolor": "#C8D4E3",
             "linecolor": "#C8D4E3",
             "minorgridcolor": "#C8D4E3",
             "startlinecolor": "#2a3f5f"
            },
            "baxis": {
             "endlinecolor": "#2a3f5f",
             "gridcolor": "#C8D4E3",
             "linecolor": "#C8D4E3",
             "minorgridcolor": "#C8D4E3",
             "startlinecolor": "#2a3f5f"
            },
            "type": "carpet"
           }
          ],
          "choropleth": [
           {
            "colorbar": {
             "outlinewidth": 0,
             "ticks": ""
            },
            "type": "choropleth"
           }
          ],
          "contour": [
           {
            "colorbar": {
             "outlinewidth": 0,
             "ticks": ""
            },
            "colorscale": [
             [
              0,
              "#0d0887"
             ],
             [
              0.1111111111111111,
              "#46039f"
             ],
             [
              0.2222222222222222,
              "#7201a8"
             ],
             [
              0.3333333333333333,
              "#9c179e"
             ],
             [
              0.4444444444444444,
              "#bd3786"
             ],
             [
              0.5555555555555556,
              "#d8576b"
             ],
             [
              0.6666666666666666,
              "#ed7953"
             ],
             [
              0.7777777777777778,
              "#fb9f3a"
             ],
             [
              0.8888888888888888,
              "#fdca26"
             ],
             [
              1,
              "#f0f921"
             ]
            ],
            "type": "contour"
           }
          ],
          "contourcarpet": [
           {
            "colorbar": {
             "outlinewidth": 0,
             "ticks": ""
            },
            "type": "contourcarpet"
           }
          ],
          "heatmap": [
           {
            "colorbar": {
             "outlinewidth": 0,
             "ticks": ""
            },
            "colorscale": [
             [
              0,
              "#0d0887"
             ],
             [
              0.1111111111111111,
              "#46039f"
             ],
             [
              0.2222222222222222,
              "#7201a8"
             ],
             [
              0.3333333333333333,
              "#9c179e"
             ],
             [
              0.4444444444444444,
              "#bd3786"
             ],
             [
              0.5555555555555556,
              "#d8576b"
             ],
             [
              0.6666666666666666,
              "#ed7953"
             ],
             [
              0.7777777777777778,
              "#fb9f3a"
             ],
             [
              0.8888888888888888,
              "#fdca26"
             ],
             [
              1,
              "#f0f921"
             ]
            ],
            "type": "heatmap"
           }
          ],
          "histogram": [
           {
            "marker": {
             "pattern": {
              "fillmode": "overlay",
              "size": 10,
              "solidity": 0.2
             }
            },
            "type": "histogram"
           }
          ],
          "histogram2d": [
           {
            "colorbar": {
             "outlinewidth": 0,
             "ticks": ""
            },
            "colorscale": [
             [
              0,
              "#0d0887"
             ],
             [
              0.1111111111111111,
              "#46039f"
             ],
             [
              0.2222222222222222,
              "#7201a8"
             ],
             [
              0.3333333333333333,
              "#9c179e"
             ],
             [
              0.4444444444444444,
              "#bd3786"
             ],
             [
              0.5555555555555556,
              "#d8576b"
             ],
             [
              0.6666666666666666,
              "#ed7953"
             ],
             [
              0.7777777777777778,
              "#fb9f3a"
             ],
             [
              0.8888888888888888,
              "#fdca26"
             ],
             [
              1,
              "#f0f921"
             ]
            ],
            "type": "histogram2d"
           }
          ],
          "histogram2dcontour": [
           {
            "colorbar": {
             "outlinewidth": 0,
             "ticks": ""
            },
            "colorscale": [
             [
              0,
              "#0d0887"
             ],
             [
              0.1111111111111111,
              "#46039f"
             ],
             [
              0.2222222222222222,
              "#7201a8"
             ],
             [
              0.3333333333333333,
              "#9c179e"
             ],
             [
              0.4444444444444444,
              "#bd3786"
             ],
             [
              0.5555555555555556,
              "#d8576b"
             ],
             [
              0.6666666666666666,
              "#ed7953"
             ],
             [
              0.7777777777777778,
              "#fb9f3a"
             ],
             [
              0.8888888888888888,
              "#fdca26"
             ],
             [
              1,
              "#f0f921"
             ]
            ],
            "type": "histogram2dcontour"
           }
          ],
          "mesh3d": [
           {
            "colorbar": {
             "outlinewidth": 0,
             "ticks": ""
            },
            "type": "mesh3d"
           }
          ],
          "parcoords": [
           {
            "line": {
             "colorbar": {
              "outlinewidth": 0,
              "ticks": ""
             }
            },
            "type": "parcoords"
           }
          ],
          "pie": [
           {
            "automargin": true,
            "type": "pie"
           }
          ],
          "scatter": [
           {
            "fillpattern": {
             "fillmode": "overlay",
             "size": 10,
             "solidity": 0.2
            },
            "type": "scatter"
           }
          ],
          "scatter3d": [
           {
            "line": {
             "colorbar": {
              "outlinewidth": 0,
              "ticks": ""
             }
            },
            "marker": {
             "colorbar": {
              "outlinewidth": 0,
              "ticks": ""
             }
            },
            "type": "scatter3d"
           }
          ],
          "scattercarpet": [
           {
            "marker": {
             "colorbar": {
              "outlinewidth": 0,
              "ticks": ""
             }
            },
            "type": "scattercarpet"
           }
          ],
          "scattergeo": [
           {
            "marker": {
             "colorbar": {
              "outlinewidth": 0,
              "ticks": ""
             }
            },
            "type": "scattergeo"
           }
          ],
          "scattergl": [
           {
            "marker": {
             "colorbar": {
              "outlinewidth": 0,
              "ticks": ""
             }
            },
            "type": "scattergl"
           }
          ],
          "scattermap": [
           {
            "marker": {
             "colorbar": {
              "outlinewidth": 0,
              "ticks": ""
             }
            },
            "type": "scattermap"
           }
          ],
          "scattermapbox": [
           {
            "marker": {
             "colorbar": {
              "outlinewidth": 0,
              "ticks": ""
             }
            },
            "type": "scattermapbox"
           }
          ],
          "scatterpolar": [
           {
            "marker": {
             "colorbar": {
              "outlinewidth": 0,
              "ticks": ""
             }
            },
            "type": "scatterpolar"
           }
          ],
          "scatterpolargl": [
           {
            "marker": {
             "colorbar": {
              "outlinewidth": 0,
              "ticks": ""
             }
            },
            "type": "scatterpolargl"
           }
          ],
          "scatterternary": [
           {
            "marker": {
             "colorbar": {
              "outlinewidth": 0,
              "ticks": ""
             }
            },
            "type": "scatterternary"
           }
          ],
          "surface": [
           {
            "colorbar": {
             "outlinewidth": 0,
             "ticks": ""
            },
            "colorscale": [
             [
              0,
              "#0d0887"
             ],
             [
              0.1111111111111111,
              "#46039f"
             ],
             [
              0.2222222222222222,
              "#7201a8"
             ],
             [
              0.3333333333333333,
              "#9c179e"
             ],
             [
              0.4444444444444444,
              "#bd3786"
             ],
             [
              0.5555555555555556,
              "#d8576b"
             ],
             [
              0.6666666666666666,
              "#ed7953"
             ],
             [
              0.7777777777777778,
              "#fb9f3a"
             ],
             [
              0.8888888888888888,
              "#fdca26"
             ],
             [
              1,
              "#f0f921"
             ]
            ],
            "type": "surface"
           }
          ],
          "table": [
           {
            "cells": {
             "fill": {
              "color": "#EBF0F8"
             },
             "line": {
              "color": "white"
             }
            },
            "header": {
             "fill": {
              "color": "#C8D4E3"
             },
             "line": {
              "color": "white"
             }
            },
            "type": "table"
           }
          ]
         },
         "layout": {
          "annotationdefaults": {
           "arrowcolor": "#2a3f5f",
           "arrowhead": 0,
           "arrowwidth": 1
          },
          "autotypenumbers": "strict",
          "coloraxis": {
           "colorbar": {
            "outlinewidth": 0,
            "ticks": ""
           }
          },
          "colorscale": {
           "diverging": [
            [
             0,
             "#8e0152"
            ],
            [
             0.1,
             "#c51b7d"
            ],
            [
             0.2,
             "#de77ae"
            ],
            [
             0.3,
             "#f1b6da"
            ],
            [
             0.4,
             "#fde0ef"
            ],
            [
             0.5,
             "#f7f7f7"
            ],
            [
             0.6,
             "#e6f5d0"
            ],
            [
             0.7,
             "#b8e186"
            ],
            [
             0.8,
             "#7fbc41"
            ],
            [
             0.9,
             "#4d9221"
            ],
            [
             1,
             "#276419"
            ]
           ],
           "sequential": [
            [
             0,
             "#0d0887"
            ],
            [
             0.1111111111111111,
             "#46039f"
            ],
            [
             0.2222222222222222,
             "#7201a8"
            ],
            [
             0.3333333333333333,
             "#9c179e"
            ],
            [
             0.4444444444444444,
             "#bd3786"
            ],
            [
             0.5555555555555556,
             "#d8576b"
            ],
            [
             0.6666666666666666,
             "#ed7953"
            ],
            [
             0.7777777777777778,
             "#fb9f3a"
            ],
            [
             0.8888888888888888,
             "#fdca26"
            ],
            [
             1,
             "#f0f921"
            ]
           ],
           "sequentialminus": [
            [
             0,
             "#0d0887"
            ],
            [
             0.1111111111111111,
             "#46039f"
            ],
            [
             0.2222222222222222,
             "#7201a8"
            ],
            [
             0.3333333333333333,
             "#9c179e"
            ],
            [
             0.4444444444444444,
             "#bd3786"
            ],
            [
             0.5555555555555556,
             "#d8576b"
            ],
            [
             0.6666666666666666,
             "#ed7953"
            ],
            [
             0.7777777777777778,
             "#fb9f3a"
            ],
            [
             0.8888888888888888,
             "#fdca26"
            ],
            [
             1,
             "#f0f921"
            ]
           ]
          },
          "colorway": [
           "#636efa",
           "#EF553B",
           "#00cc96",
           "#ab63fa",
           "#FFA15A",
           "#19d3f3",
           "#FF6692",
           "#B6E880",
           "#FF97FF",
           "#FECB52"
          ],
          "font": {
           "color": "#2a3f5f"
          },
          "geo": {
           "bgcolor": "white",
           "lakecolor": "white",
           "landcolor": "white",
           "showlakes": true,
           "showland": true,
           "subunitcolor": "#C8D4E3"
          },
          "hoverlabel": {
           "align": "left"
          },
          "hovermode": "closest",
          "mapbox": {
           "style": "light"
          },
          "paper_bgcolor": "white",
          "plot_bgcolor": "white",
          "polar": {
           "angularaxis": {
            "gridcolor": "#EBF0F8",
            "linecolor": "#EBF0F8",
            "ticks": ""
           },
           "bgcolor": "white",
           "radialaxis": {
            "gridcolor": "#EBF0F8",
            "linecolor": "#EBF0F8",
            "ticks": ""
           }
          },
          "scene": {
           "xaxis": {
            "backgroundcolor": "white",
            "gridcolor": "#DFE8F3",
            "gridwidth": 2,
            "linecolor": "#EBF0F8",
            "showbackground": true,
            "ticks": "",
            "zerolinecolor": "#EBF0F8"
           },
           "yaxis": {
            "backgroundcolor": "white",
            "gridcolor": "#DFE8F3",
            "gridwidth": 2,
            "linecolor": "#EBF0F8",
            "showbackground": true,
            "ticks": "",
            "zerolinecolor": "#EBF0F8"
           },
           "zaxis": {
            "backgroundcolor": "white",
            "gridcolor": "#DFE8F3",
            "gridwidth": 2,
            "linecolor": "#EBF0F8",
            "showbackground": true,
            "ticks": "",
            "zerolinecolor": "#EBF0F8"
           }
          },
          "shapedefaults": {
           "line": {
            "color": "#2a3f5f"
           }
          },
          "ternary": {
           "aaxis": {
            "gridcolor": "#DFE8F3",
            "linecolor": "#A2B1C6",
            "ticks": ""
           },
           "baxis": {
            "gridcolor": "#DFE8F3",
            "linecolor": "#A2B1C6",
            "ticks": ""
           },
           "bgcolor": "white",
           "caxis": {
            "gridcolor": "#DFE8F3",
            "linecolor": "#A2B1C6",
            "ticks": ""
           }
          },
          "title": {
           "x": 0.05
          },
          "xaxis": {
           "automargin": true,
           "gridcolor": "#EBF0F8",
           "linecolor": "#EBF0F8",
           "ticks": "",
           "title": {
            "standoff": 15
           },
           "zerolinecolor": "#EBF0F8",
           "zerolinewidth": 2
          },
          "yaxis": {
           "automargin": true,
           "gridcolor": "#EBF0F8",
           "linecolor": "#EBF0F8",
           "ticks": "",
           "title": {
            "standoff": 15
           },
           "zerolinecolor": "#EBF0F8",
           "zerolinewidth": 2
          }
         }
        },
        "title": {
         "text": "Number of Years with Gains or Losses per Route"
        },
        "xaxis": {
         "anchor": "y",
         "domain": [
          0,
          1
         ],
         "title": {
          "text": "count"
         }
        },
        "yaxis": {
         "anchor": "x",
         "categoryarray": [
          "45",
          "44",
          "42",
          "33",
          "31",
          "29",
          "26",
          "24",
          "23",
          "22",
          "17",
          "15",
          "14"
         ],
         "categoryorder": "array",
         "domain": [
          0,
          1
         ],
         "title": {
          "text": "Route ID"
         }
        }
       }
      }
     },
     "metadata": {},
     "output_type": "display_data"
    }
   ],
   "source": [
    "# plt.figure(figsize=(12, 6))\n",
    "# sns.countplot(data=gains, y='route_id', color='green', label=\"Gains\")\n",
    "# sns.countplot(data=losses, y='route_id', color='red', label=\"Losses\", alpha=0.6)\n",
    "# plt.title(\"Number of Years with Gains or Losses per Route\", fontsize=16)\n",
    "# plt.xlabel(\"Count of Years\", fontsize=12)\n",
    "# plt.ylabel(\"Route ID\", fontsize=12)\n",
    "# plt.legend(title=\"Change Type\")\n",
    "# plt.tight_layout()\n",
    "# plt.show()\n",
    "\n",
    "# df = pd.concat([\n",
    "#     gains .assign(ChangeType='Gains'),\n",
    "#     losses.assign(ChangeType='Losses')\n",
    "# ])\n",
    "# fig_plotly3 = px.histogram(\n",
    "#     df,\n",
    "#     y='route_id',\n",
    "#     color='ChangeType',\n",
    "#     barmode='stack',\n",
    "#     category_orders={'route_id': sorted(df['route_id'].unique())},\n",
    "#     title=\"Number of Years with Gains or Losses per Route\",\n",
    "#     labels={'count':'Count of Years', 'route_id':'Route ID'}\n",
    "# )\n",
    "\n",
    "# fig_plotly3.update_layout(legend_title=\"Change Type\", template='plotly_white')\n",
    "# fig_plotly3.show()\n",
    "# # # Visualization 3: Highlight Routes with Gains and Losses\n",
    "# # plotly_fig3 = go.Figure()\n",
    "# # plotly_fig3.add_trace(go.Bar(\n",
    "# #     y=gains['route_id'],\n",
    "# #     x=gains['change'],\n",
    "# #     name='Gains',\n",
    "# #     orientation='h',\n",
    "# #     marker=dict(color='green')\n",
    "# # ))\n",
    "# # plotly_fig3.add_trace(go.Bar(\n",
    "# #     y=losses['route_id'],\n",
    "# #     x=losses['change'],\n",
    "# #     name='Losses',\n",
    "# #     orientation='h',\n",
    "# #     marker=dict(color='red')\n",
    "# # ))\n",
    "\n",
    "# # # plotly_fig3 = px.histogram(filtered_data, x='route_id', color='change', barmode='group')\n",
    "# # plotly_fig3.update_layout(\n",
    "# #     barmode='stack',\n",
    "# #     title=\"Number of Years with Gains or Losses per Route\",\n",
    "# #     xaxis_title=\"Count of Years\",\n",
    "# #     yaxis_title=\"Route ID\",\n",
    "# #     legend_title=\"Change Type\",\n",
    "# #     template='plotly_white'\n",
    "# # )\n",
    "# # plotly_fig3.write_html(\"./Plots/Ridership/years_with_gains_losses_per_route.html\")\n",
    "# # plotly_fig3.show()"
   ]
  },
  {
   "cell_type": "code",
   "execution_count": null,
   "id": "0650af98-686a-4235-9d24-b9c4ed174bb2",
   "metadata": {
    "execution": {
     "iopub.execute_input": "2025-04-01T02:26:37.152086Z",
     "iopub.status.busy": "2025-04-01T02:26:37.152086Z",
     "iopub.status.idle": "2025-04-01T02:26:37.861450Z",
     "shell.execute_reply": "2025-04-01T02:26:37.861450Z",
     "shell.execute_reply.started": "2025-04-01T02:26:37.152086Z"
    }
   },
   "outputs": [
    {
     "data": {
      "image/png": "[encoded data removed]",
      "text/plain": [
       "<Figure size 1200x600 with 1 Axes>"
      ]
     },
     "metadata": {},
     "output_type": "display_data"
    }
   ],
   "source": [
    "# Visualization 3: Highlight Routes with Gains and Losses\n",
    "# gain_color = \"#1f78b4\"  # Blue-green for gains\n",
    "# loss_color = \"#e31a1c\" \n",
    "\n",
    "# plt.figure(figsize=(12, 6))\n",
    "# sns.countplot(data=gains, y='route_id', color=gain_color, label=\"Gains\")\n",
    "# sns.countplot(data=losses, y='route_id', color=loss_color, label=\"Losses\", alpha=0.6)\n",
    "# plt.title(\"Number of Years with Gains or Losses per Route\", fontsize=16)\n",
    "# plt.xlabel(\"Count of Years\", fontsize=12)\n",
    "# plt.ylabel(\"Route ID\", fontsize=12)\n",
    "# plt.legend(title=\"Change Type\")\n",
    "# plt.tight_layout()\n",
    "# plt.savefig('yearly_change_per_route.png', dpi=400)\n",
    "# plt.show()\n"
   ]
  }
 ],
 "metadata": {
  "kernelspec": {
   "display_name": ".venv",
   "language": "python",
   "name": "python3"
  },
  "language_info": {
   "codemirror_mode": {
    "name": "ipython",
    "version": 3
   },
   "file_extension": ".py",
   "mimetype": "text/x-python",
   "name": "python",
   "nbconvert_exporter": "python",
   "pygments_lexer": "ipython3",
   "version": "3.12.3"
  },
  "widgets": {
   "application/vnd.jupyter.widget-state+json": {
    "state": {},
    "version_major": 2,
    "version_minor": 0
   }
  }
 },
 "nbformat": 4,
 "nbformat_minor": 5
}
