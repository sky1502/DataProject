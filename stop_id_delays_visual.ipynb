{
 "cells": [
  {
   "cell_type": "code",
   "execution_count": null,
   "metadata": {},
   "outputs": [],
   "source": [
    "import pandas as pd\n",
    "import os\n",
    "import plotly.express as px\n",
    "import plotly.io as pio"
   ]
  },
  {
   "cell_type": "code",
   "execution_count": null,
   "metadata": {},
   "outputs": [],
   "source": [
    "DATASETS_PATH = 'data/Arrival_Departure/Working'\n",
    "MASTER_DATASET = 'post_covid'\n",
    "MASTER_DATASET_PATH = os.path.join(DATASETS_PATH, MASTER_DATASET)\n",
    "imp_routes = [ '22', '29', '15', '45', '44', '42', '17', '23', '31', '26', '111', '24', '33', '14']"
   ]
  },
  {
   "cell_type": "code",
   "execution_count": null,
   "metadata": {},
   "outputs": [],
   "source": [
    "def process_csv(path, imp_routes = [ '22', '29', '15', '45', '44', '42', '17', '23', '31', '26', '111', '24', '33', '14']):\n",
    "    df = pd.read_csv(path)\n",
    "    \n",
    "    nan_count = df['delay'].isna().sum()\n",
    "    # print(f\"Number of rows with NaN: {nan_count}\")\n",
    "    df = df.dropna()\n",
    "    \n",
    "    df = df[df['route_id'].isin(imp_routes)]\n",
    "    df['service_date'] = pd.to_datetime(df['service_date'])\n",
    "    df['delay'] = df['delay'].clip(lower=0)\n",
    "    \n",
    "    return df"
   ]
  },
  {
   "cell_type": "code",
   "execution_count": null,
   "metadata": {},
   "outputs": [],
   "source": [
    "def stop_avg_delay_per_route(path, period = None, save_plots = False):\n",
    "    df = process_csv(path)\n",
    "    route_stop_avg_delay = df.groupby(['route_id', 'stop_id'])['delay'].mean().reset_index()\n",
    "    delay_threshold = 5\n",
    "    route_stop_avg_delay = route_stop_avg_delay[route_stop_avg_delay['delay'] > delay_threshold]\n",
    "    color_palette = [\n",
    "        \"#FF5733\",  # Red-Orange\n",
    "        \"#33FF57\",  # Green\n",
    "        \"#3357FF\",  # Blue\n",
    "        \"#FF33A1\",  # Pink\n",
    "        \"#FFD733\",  # Yellow\n",
    "        \"#FF8C00\",  # Orange\n",
    "        \"#8A2BE2\",  # Blue-Violet\n",
    "        \"#FF1493\",  # Deep Pink\n",
    "        \"#00FFFF\",  # Cyan\n",
    "        \"#800080\",  # Purple\n",
    "        \"#C71585\",  # Medium Violet Red\n",
    "        \"#00FF7F\",  # Spring Green\n",
    "        \"#B22222\",  # Firebrick\n",
    "        \"#A52A2A\"   # Brown\n",
    "    ]\n",
    "    c = 0\n",
    "    for i in route_stop_avg_delay['route_id'].unique():\n",
    "        xyz = route_stop_avg_delay[route_stop_avg_delay['route_id'] == i]\n",
    "        fig = px.bar(\n",
    "            xyz, \n",
    "            x='stop_id', \n",
    "            y='delay', \n",
    "            color_discrete_sequence=[color_palette[c]],\n",
    "            title=\"Greater than \" + str(delay_threshold) + \" min Delay Contribution per Stop at Route \" + i,\n",
    "            labels={'stop_id': 'Stop ID', 'delay': 'Total Delay (minutes)', 'route_id': 'Route ID'},\n",
    "            barmode='stack',\n",
    "            hover_data=['route_id', 'stop_id', 'delay'],\n",
    "        )\n",
    "        c = c + 1\n",
    "        fig.update_layout(\n",
    "            bargap=0.6,\n",
    "            xaxis_title='Stop ID',\n",
    "            yaxis_title='Average Delay (minutes)',\n",
    "            xaxis_tickangle=45,\n",
    "            showlegend=False, \n",
    "            height=600,  \n",
    "            margin=dict(t=40, b=40, l=40, r=40),\n",
    "            xaxis={'type': 'category', 'tickmode': 'array', 'tickvals': xyz['stop_id'].unique()}\n",
    "        )\n",
    "        fig.show()\n",
    "\n",
    "        if save_plots:\n",
    "            pio.write_image(fig, \"./Plots/Stops/stop_avg_delay_route_\"+i+period+\".jpg\", format=\"jpg\", width=1000, height=600, scale=1.5)\n",
    "\n"
   ]
  },
  {
   "cell_type": "markdown",
   "metadata": {},
   "source": [
    "# Pre - Covid"
   ]
  },
  {
   "cell_type": "code",
   "execution_count": null,
   "metadata": {},
   "outputs": [],
   "source": [
    "period = \"_pre_covid\"\n",
    "\n",
    "d = \"data/Arrival_Departure/Working/delay_pre_covid.csv\"\n",
    "\n",
    "stop_avg_delay_per_route(d, period, True)"
   ]
  },
  {
   "cell_type": "markdown",
   "metadata": {},
   "source": [
    "# Covid"
   ]
  },
  {
   "cell_type": "code",
   "execution_count": null,
   "metadata": {},
   "outputs": [],
   "source": [
    "period = \"_covid\"\n",
    "\n",
    "d = \"data/Arrival_Departure/Working/delay_covid.csv\"\n",
    "\n",
    "stop_avg_delay_per_route(d, period, True)"
   ]
  },
  {
   "cell_type": "markdown",
   "metadata": {},
   "source": [
    "# Post - Covid"
   ]
  },
  {
   "cell_type": "code",
   "execution_count": null,
   "metadata": {},
   "outputs": [],
   "source": [
    "period = \"_post_covid\"\n",
    "\n",
    "d = \"data/Arrival_Departure/Working/delay_post_covid.csv\"\n",
    "\n",
    "stop_avg_delay_per_route(d, period, True)"
   ]
  },
  {
   "cell_type": "code",
   "execution_count": null,
   "metadata": {},
   "outputs": [],
   "source": []
  }
 ],
 "metadata": {
  "kernelspec": {
   "display_name": "Python 3 (ipykernel)",
   "language": "python",
   "name": "python3"
  },
  "language_info": {
   "codemirror_mode": {
    "name": "ipython",
    "version": 3
   },
   "file_extension": ".py",
   "mimetype": "text/x-python",
   "name": "python",
   "nbconvert_exporter": "python",
   "pygments_lexer": "ipython3",
   "version": "3.12.9"
  }
 },
 "nbformat": 4,
 "nbformat_minor": 4
}
