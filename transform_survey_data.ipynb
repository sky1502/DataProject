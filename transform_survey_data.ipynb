{
 "cells": [
  {
   "cell_type": "code",
   "execution_count": 85,
   "id": "92a7f446-3819-4808-9e0c-e2af60efa09b",
   "metadata": {
    "execution": {
     "iopub.execute_input": "2025-05-01T02:21:59.307985Z",
     "iopub.status.busy": "2025-05-01T02:21:59.307985Z",
     "iopub.status.idle": "2025-05-01T02:21:59.322625Z",
     "shell.execute_reply": "2025-05-01T02:21:59.322625Z",
     "shell.execute_reply.started": "2025-05-01T02:21:59.307985Z"
    }
   },
   "outputs": [],
   "source": [
    "# Cell 1: Imports and core transformation functions\n",
    "\n",
    "import pandas as pd\n",
    "\n",
    "def load_survey_sheet(excel_path: str, sheet_name: str) -> pd.DataFrame:\n",
    "    \"\"\"\n",
    "    Load one sheet from the Excel survey file.\n",
    "    \"\"\"\n",
    "    return pd.ExcelFile(excel_path).parse(sheet_name)\n",
    "\n",
    "def transform_survey_df(\n",
    "    df: pd.DataFrame,\n",
    "    aggregation_level: str,\n",
    "    id_cols: list[str]\n",
    ") -> pd.DataFrame:\n",
    "    \"\"\"\n",
    "    Turn the wide-format survey df into long-format matching the MBTA CSV schema.\n",
    "    \n",
    "    - id_cols: list of columns to keep as identifiers (e.g. ['Mode','Line','Station'])\n",
    "    - aggregation_level: 'Station' or 'Line'\n",
    "    \"\"\"\n",
    "    # 1. select only the percent columns\n",
    "    value_cols = [\n",
    "        c for c in df.columns\n",
    "        if c not in id_cols and 'count' not in c.lower()\n",
    "    ]\n",
    "    \n",
    "    # 2. melt to long format\n",
    "    long = df.melt(\n",
    "        id_vars=id_cols,\n",
    "        value_vars=value_cols,\n",
    "        var_name='measure_category',\n",
    "        value_name='weighted_percent'\n",
    "    ).dropna(subset=['weighted_percent'])\n",
    "    \n",
    "    # 3. split measure_group / category\n",
    "    long[['measure_group','category']] = (\n",
    "        long['measure_category']\n",
    "        .str.split(':', n=1, expand=True)\n",
    "        .apply(lambda s: s.str.strip())\n",
    "    )\n",
    "    \n",
    "    # 4. fill static and renamed fields\n",
    "    long['aggregation_level'] = aggregation_level\n",
    "    long['service_mode']     = long[id_cols[0]]\n",
    "    long['reporting_group']  = long[id_cols[-1]]\n",
    "    long['measure']          = long['measure_group']\n",
    "    long['ObjectId']         = range(1, len(long) + 1)\n",
    "    \n",
    "    # 5. select & order final columns\n",
    "    return long[[\n",
    "        'aggregation_level',\n",
    "        'service_mode',\n",
    "        'reporting_group',\n",
    "        'measure_group',\n",
    "        'measure',\n",
    "        'category',\n",
    "        'weighted_percent',\n",
    "        'ObjectId'\n",
    "    ]]\n",
    "\n",
    "def sort_survey_df(df: pd.DataFrame) -> pd.DataFrame:\n",
    "    \"\"\"\n",
    "    Ensure each reporting_group’s block is contiguous,\n",
    "    with measure_groups & categories ordered within.\n",
    "    \"\"\"\n",
    "    # preserve original appearance order\n",
    "    df['reporting_group'] = pd.Categorical(\n",
    "        df['reporting_group'],\n",
    "        categories=df['reporting_group'].unique(),\n",
    "        ordered=True\n",
    "    )\n",
    "    df['measure_group'] = pd.Categorical(\n",
    "        df['measure_group'],\n",
    "        categories=df['measure_group'].unique(),\n",
    "        ordered=True\n",
    "    )\n",
    "    return df.sort_values(\n",
    "        by=['reporting_group','measure_group','category']\n",
    "    ).reset_index(drop=True)\n"
   ]
  },
  {
   "cell_type": "code",
   "execution_count": 87,
   "id": "c47f5702-084e-45e0-9ca9-b5adf0cb679b",
   "metadata": {
    "execution": {
     "iopub.execute_input": "2025-05-01T02:22:37.670819Z",
     "iopub.status.busy": "2025-05-01T02:22:37.670819Z",
     "iopub.status.idle": "2025-05-01T02:22:38.468646Z",
     "shell.execute_reply": "2025-05-01T02:22:38.467602Z",
     "shell.execute_reply.started": "2025-05-01T02:22:37.670819Z"
    }
   },
   "outputs": [
    {
     "name": "stdout",
     "output_type": "stream",
     "text": [
      "All sheets transformed and saved.\n"
     ]
    }
   ],
   "source": [
    "# Cell 2: Main execution\n",
    "\n",
    "def main():\n",
    "    excel_path = 'MBTA systemwide survey results by station and line.xlsx'\n",
    "    \n",
    "    # Process Station percentages\n",
    "    station_df = load_survey_sheet(excel_path, 'Station percentages')\n",
    "    station_long = transform_survey_df(\n",
    "        station_df,\n",
    "        aggregation_level='Station',\n",
    "        id_cols=['Mode','Line','Station']\n",
    "    )\n",
    "    station_long = sort_survey_df(station_long)\n",
    "    station_long.to_csv('Transformed_MBTA_Station_Percentages.csv', index=False)\n",
    "    \n",
    "    # Process Line percentages\n",
    "    line_df = load_survey_sheet(excel_path, 'Line percentages')\n",
    "    line_long = transform_survey_df(\n",
    "        line_df,\n",
    "        aggregation_level='Line',\n",
    "        id_cols=['Mode','Line']\n",
    "    )\n",
    "    line_long = sort_survey_df(line_long)\n",
    "    line_long.to_csv('Transformed_MBTA_Line_Percentages.csv', index=False)\n",
    "    \n",
    "    print(\"All sheets transformed and saved.\")\n",
    "\n",
    "if __name__ == '__main__':\n",
    "    main()\n"
   ]
  },
  {
   "cell_type": "code",
   "execution_count": null,
   "id": "d2602cc6-f2f3-4d4c-92b6-a74441aec2f2",
   "metadata": {},
   "outputs": [],
   "source": []
  }
 ],
 "metadata": {
  "kernelspec": {
   "display_name": "base",
   "language": "python",
   "name": "base"
  },
  "language_info": {
   "codemirror_mode": {
    "name": "ipython",
    "version": 3
   },
   "file_extension": ".py",
   "mimetype": "text/x-python",
   "name": "python",
   "nbconvert_exporter": "python",
   "pygments_lexer": "ipython3",
   "version": "3.10.16"
  },
  "widgets": {
   "application/vnd.jupyter.widget-state+json": {
    "state": {},
    "version_major": 2,
    "version_minor": 0
   }
  }
 },
 "nbformat": 4,
 "nbformat_minor": 5
}
